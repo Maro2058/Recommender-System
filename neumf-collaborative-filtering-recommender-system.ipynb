{
 "metadata": {
  "kernelspec": {
   "display_name": "Python 3",
   "language": "python",
   "name": "python3"
  },
  "language_info": {
   "name": "python",
   "version": "3.11.11",
   "mimetype": "text/x-python",
   "codemirror_mode": {
    "name": "ipython",
    "version": 3
   },
   "pygments_lexer": "ipython3",
   "nbconvert_exporter": "python",
   "file_extension": ".py"
  },
  "kaggle": {
   "accelerator": "gpu",
   "dataSources": [
    {
     "sourceId": 6663,
     "sourceType": "datasetVersion",
     "datasetId": 3405
    },
    {
     "sourceId": 1872300,
     "sourceType": "datasetVersion",
     "datasetId": 1114664
    }
   ],
   "dockerImageVersionId": 31040,
   "isInternetEnabled": true,
   "language": "python",
   "sourceType": "notebook",
   "isGpuEnabled": true
  }
 },
 "nbformat_minor": 5,
 "nbformat": 4,
 "cells": [
  {
   "id": "b58ad21b16df0f46",
   "cell_type": "code",
   "source": "import numpy as np\nimport sklearn\nimport tensorflow as tf\nimport pandas as pd\n\nfrom keras.src.layers import Dense\nfrom tensorflow import keras\nfrom keras import layers\nfrom tensorflow.keras.layers import Embedding, Flatten, Dense, Dot, Input, Dropout, Multiply, Concatenate, Add, Activation, BatchNormalization, Lambda\nfrom tensorflow.keras.callbacks import ReduceLROnPlateau, EarlyStopping\nfrom tensorflow.keras.optimizers import Adam\nfrom tensorflow.keras.models import Sequential, Model\nfrom tensorflow.keras import regularizers\nimport keras_tuner as kt\nfrom keras_tuner import HyperModel\n\nfrom sklearn.model_selection import train_test_split\nfrom sklearn.metrics import mean_squared_error, mean_absolute_error\nfrom sklearn.feature_extraction.text import TfidfVectorizer\nfrom sklearn.metrics.pairwise import cosine_similarity\nimport json\n",
   "metadata": {
    "trusted": true,
    "execution": {
     "iopub.status.busy": "2025-05-25T12:10:55.181230Z",
     "iopub.execute_input": "2025-05-25T12:10:55.181851Z",
     "iopub.status.idle": "2025-05-25T12:10:55.187058Z",
     "shell.execute_reply.started": "2025-05-25T12:10:55.181828Z",
     "shell.execute_reply": "2025-05-25T12:10:55.186301Z"
    },
    "ExecuteTime": {
     "end_time": "2025-05-23T11:55:40.970400Z",
     "start_time": "2025-05-23T11:55:40.806190Z"
    }
   },
   "outputs": [],
   "execution_count": 82
  },
  {
   "id": "10074190-d113-4480-8414-2fad2cbf84d5",
   "cell_type": "code",
   "source": "%config Completer.use_jedi = False",
   "metadata": {
    "trusted": true,
    "execution": {
     "iopub.status.busy": "2025-05-24T17:58:13.543163Z",
     "iopub.execute_input": "2025-05-24T17:58:13.543594Z",
     "iopub.status.idle": "2025-05-24T17:58:13.549176Z",
     "shell.execute_reply.started": "2025-05-24T17:58:13.543574Z",
     "shell.execute_reply": "2025-05-24T17:58:13.548526Z"
    }
   },
   "outputs": [],
   "execution_count": 2
  },
  {
   "id": "da8cf69b64aa9708",
   "cell_type": "markdown",
   "source": "# Load The Data",
   "metadata": {}
  },
  {
   "id": "85a5b7da3bfff38e",
   "cell_type": "code",
   "source": [
    "# --- 1. Data Loading and Preprocessing ---\n",
    "\n",
    "def load_and_preprocess_data(data_path=\"Data/ratings.dat\", test_size=0.2, random_state=42):\n",
    "    \"\"\"\n",
    "    Loads and preprocesses the MovieLens-1M ratings data.\n",
    "    \"\"\"\n",
    "    # Load data (UserID::MovieID::Rating::Timestamp)\n",
    "    ratings_df = pd.read_csv(data_path,\n",
    "                             sep='::',\n",
    "                             engine='python',\n",
    "                             header=None,\n",
    "                             names=['userId', 'movieId', 'rating', 'timestamp'])\n",
    "\n",
    "    # Label encode user and movie IDs to be 0-indexed and dense\n",
    "    user_encoder = LabelEncoder()\n",
    "    movie_encoder = LabelEncoder()\n",
    "\n",
    "    ratings_df['u_idx'] = user_encoder.fit_transform(ratings_df['userId'])\n",
    "    ratings_df['m_idx'] = movie_encoder.fit_transform(ratings_df['movieId'])\n",
    "\n",
    "    num_users = ratings_df['u_idx'].nunique()\n",
    "    num_movies = ratings_df['m_idx'].nunique()\n",
    "\n",
    "    print(f\"Number of unique users: {num_users}\")\n",
    "    print(f\"Number of unique movies: {num_movies}\")\n",
    "    print(f\"Min/Max u_idx: {ratings_df['u_idx'].min()}/{ratings_df['u_idx'].max()}\")\n",
    "    print(f\"Min/Max m_idx: {ratings_df['m_idx'].min()}/{ratings_df['m_idx'].max()}\")\n",
    "\n",
    "\n",
    "    # Mean-center ratings (good practice for regression tasks)\n",
    "    mean_rating = ratings_df['rating'].mean()\n",
    "    ratings_df['rating_centered'] = ratings_df['rating'] - mean_rating\n",
    "    print(f\"Mean rating: {mean_rating}\")\n",
    "\n",
    "    # Prepare inputs for the model\n",
    "    X_user = ratings_df['u_idx'].values\n",
    "    X_movie = ratings_df['m_idx'].values\n",
    "    y = ratings_df['rating_centered'].values.astype(np.float32)\n",
    "\n",
    "    # Split data\n",
    "    X_user_train, X_user_val, \\\n",
    "    X_movie_train, X_movie_val, \\\n",
    "    y_train, y_val = train_test_split(X_user, X_movie, y,\n",
    "                                      test_size=test_size,\n",
    "                                      random_state=random_state)\n",
    "\n",
    "    return {\n",
    "        \"X_user_train\": X_user_train, \"X_movie_train\": X_movie_train, \"y_train\": y_train,\n",
    "        \"X_user_test\": X_user_val, \"X_movie_test\": X_movie_val, \"y_test\": y_val,\n",
    "        \"num_users\": num_users, \"num_movies\": num_movies,\n",
    "        \"mean_rating\": mean_rating,\n",
    "        \"user_encoder\": user_encoder, \"movie_encoder\": movie_encoder, \"ratings\" : ratings_df\n",
    "    }"
   ],
   "metadata": {
    "trusted": true,
    "execution": {
     "iopub.status.busy": "2025-05-25T11:55:27.357506Z",
     "iopub.execute_input": "2025-05-25T11:55:27.358165Z",
     "iopub.status.idle": "2025-05-25T11:55:27.364929Z",
     "shell.execute_reply.started": "2025-05-25T11:55:27.358141Z",
     "shell.execute_reply": "2025-05-25T11:55:27.364069Z"
    },
    "ExecuteTime": {
     "end_time": "2025-05-23T11:57:50.419499Z",
     "start_time": "2025-05-23T11:57:36.968536Z"
    }
   },
   "outputs": [],
   "execution_count": 75
  },
  {
   "id": "5d9c9c30001527c5",
   "cell_type": "markdown",
   "source": "",
   "metadata": {}
  },
  {
   "id": "e8340853-7b8c-4156-ab99-8a03099480dc",
   "cell_type": "code",
   "source": "# --- Load Data ---\ndata_path = \"/kaggle/input/movielens-1m-dataset/ratings.dat\" # MODIFY THIS PATH if your data is elsewhere\ndata = load_and_preprocess_data(data_path=data_path)\nnum_users = data['num_users']\nnum_movies = data['num_movies']\nmean_rating_val = data['mean_rating']\n\nuser_ids = data['X_user_train'] \nmovie_ids = data['X_movie_train']\nratings = data['y_train']\n\nprint(user_ids.shape, movie_ids.shape, ratings.shape)",
   "metadata": {
    "trusted": true,
    "execution": {
     "iopub.status.busy": "2025-05-25T11:55:33.773155Z",
     "iopub.execute_input": "2025-05-25T11:55:33.773684Z",
     "iopub.status.idle": "2025-05-25T11:55:38.410693Z",
     "shell.execute_reply.started": "2025-05-25T11:55:33.773659Z",
     "shell.execute_reply": "2025-05-25T11:55:38.410032Z"
    }
   },
   "outputs": [
    {
     "name": "stdout",
     "text": "Number of unique users: 6040\nNumber of unique movies: 3706\nMin/Max u_idx: 0/6039\nMin/Max m_idx: 0/3705\nMean rating: 3.581564453029317\n(800167,) (800167,) (800167,)\n",
     "output_type": "stream"
    }
   ],
   "execution_count": 76
  },
  {
   "id": "0691a4ea-bd9b-49ba-8468-89245d5d6f58",
   "cell_type": "code",
   "source": "# For Scaling outputs of final model\ntemp = pd.DataFrame(data[\"ratings\"])\ntemp.describe()\nlower = temp[\"rating_centered\"].min()\nhigher = temp[\"rating_centered\"].max()\nprint(lower, higher)",
   "metadata": {
    "trusted": true,
    "execution": {
     "iopub.status.busy": "2025-05-25T11:18:46.993463Z",
     "iopub.execute_input": "2025-05-25T11:18:46.993732Z",
     "iopub.status.idle": "2025-05-25T11:18:47.223371Z",
     "shell.execute_reply.started": "2025-05-25T11:18:46.993711Z",
     "shell.execute_reply": "2025-05-25T11:18:47.222726Z"
    }
   },
   "outputs": [
    {
     "name": "stdout",
     "text": "-2.581564453029317 1.418435546970683\n",
     "output_type": "stream"
    }
   ],
   "execution_count": 55
  },
  {
   "id": "cbd77575-bbaa-42bf-9ce9-aaa7123854a4",
   "cell_type": "code",
   "source": "# Trivial Case\ntemp = np.array(ratings)\nguess_MSE = np.var(temp)\nprint(\"MSE if guessing the mean of ratings: \", guess_MSE)",
   "metadata": {
    "trusted": true,
    "execution": {
     "iopub.status.busy": "2025-05-25T08:59:31.853198Z",
     "iopub.execute_input": "2025-05-25T08:59:31.853849Z",
     "iopub.status.idle": "2025-05-25T08:59:31.879240Z",
     "shell.execute_reply.started": "2025-05-25T08:59:31.853825Z",
     "shell.execute_reply": "2025-05-25T08:59:31.878599Z"
    }
   },
   "outputs": [
    {
     "name": "stdout",
     "text": "MSE if guessing the mean of ratings:  1.2464459\n",
     "output_type": "stream"
    }
   ],
   "execution_count": 8
  },
  {
   "id": "133f4ddd786789d",
   "cell_type": "markdown",
   "source": "# Collaborative Filtering Model",
   "metadata": {}
  },
  {
   "id": "aa90b798098b0cf8",
   "cell_type": "markdown",
   "source": "### When you think collaborative filtering, think of statements like:\n- Users who liked similar items also liked...\n- Items similar to this item\n\n### 🧠 “Behavioral Similarity”\nThe system learns from what users did, not what items are about.\n\n> It doesn’t care what genre the item is — it just learns from the pattern of user behavior.\n\n### 🔍 How It Works:\n- Looks at user-item interactions (ratings, likes, views)\n- Learns latent similarities between users or items\n- Powered by embeddings, matrix factorization, or neural models\n\nfinds patterns in behavior\n\n",
   "metadata": {}
  },
  {
   "id": "3eb09929-7a99-4d4a-bc4d-16d4d29cdb35",
   "cell_type": "markdown",
   "source": "## Notes:\n- Bias terms let the model learn per-user and per-item offsets (e.g. some users consistently rate higher; some items are universally popular).",
   "metadata": {}
  },
  {
   "id": "d57d2d622c61bfdc",
   "cell_type": "code",
   "source": "# Generalized Matrix Factorization for Hyperparameter Tuning\n\ndef buildGMF(hp):\n    # GMF Branch: Captures a linear, element-wise interaction between user and item latent factors\n    \n    gmf_dim  = hp.Choice(\"gmf_dim\", values=[16, 32, 64]) #defines dimensions of gmf\n    reg_L2 = hp.Choice(\"gmf_user_emb_regularization\", values=[1e-6, 1e-5, 1e-4])\n                           \n    # Input layer takes item of vector size 1\n    user_input = Input(shape=(1,), name='userId')\n    item_input = Input(shape=(1,), name='movieId')\n    \n    # Create Embeddings for users and items. These are the paramaters we are training\n    gmf_user_emb = Embedding(\n        num_users,\n        gmf_dim,\n        embeddings_regularizer=regularizers.l2(reg_L2),\n        embeddings_initializer='he_normal',\n        name = \"gmf_user_emb\")(user_input) #embedding for userID\n    gmf_item_emb = Embedding(\n        num_items,\n        gmf_dim,\n        embeddings_regularizer=regularizers.l2(reg_L2),\n        embeddings_initializer='he_normal',\n        name = \"gmf_item_emb\")(item_input) # embedding for itemID\n\n    # Latent Vectors (The learned features as vectors in higher dimensional space)\n    gmf_user_vec = Flatten(name = \"gmf_user_vec\")(gmf_user_emb) # flatten them\n    gmf_user_vec = Dropout(\n        hp.Choice(\"gmf_user_vec_dropoutRate\",values=[0.0, 0.1, 0.2, 0.3]),\n        name = \"gmf_user_vec_dropout\")(gmf_user_vec)\n    \n    gmf_item_vec = Flatten(name = \"gmf_item_vec\")(gmf_item_emb) # flatten them\n    gmf_item_vec = Dropout(\n        hp.Choice(\"gmf_item_vec_dropoutRate\", values=[0.0, 0.1, 0.2, 0.3]),\n        name = \"gmf_item_vec_dropout\")(gmf_item_vec)\n\n    # multiply to check how much the movie aligns with the user in training\n    gmf_vector = Multiply(name = \"gmf_vector\")([gmf_user_vec, gmf_item_vec])\n\n    #Output Layer\n    output = Dense(1, activation = \"linear\", name = \"prediction\")(gmf_vector)\n\n    \n    model = Model(inputs=[user_input, item_input], outputs=output)\n    model.compile(\n        optimizer=Adam(learning_rate=hp.Choice(\"lr\", values=[1e-3, 1e-4, 1e-5])),\n        loss='mse'\n    )\n\n    return model",
   "metadata": {
    "trusted": true,
    "execution": {
     "iopub.status.busy": "2025-05-25T09:12:17.937882Z",
     "iopub.execute_input": "2025-05-25T09:12:17.938150Z",
     "iopub.status.idle": "2025-05-25T09:12:17.945771Z",
     "shell.execute_reply.started": "2025-05-25T09:12:17.938128Z",
     "shell.execute_reply": "2025-05-25T09:12:17.944811Z"
    },
    "ExecuteTime": {
     "end_time": "2025-05-23T12:03:56.167053Z",
     "start_time": "2025-05-23T12:03:56.069967Z"
    }
   },
   "outputs": [],
   "execution_count": 25
  },
  {
   "id": "0c643089-3034-40a5-a237-1783551c4224",
   "cell_type": "code",
   "source": "GMF_tuner = kt.Hyperband(\n    buildGMF,\n    objective='val_loss',         # Metric to optimize\n    max_epochs=10,                # Max epochs to train each model\n    factor=3,                     # Reduction factor for resources\n    directory='Hyperparameters',  # Where to save logs\n    project_name='GMF_tuning'     # Subfolder name\n)\n\nearly_stop = keras.callbacks.EarlyStopping(monitor='val_loss', patience=3)\n\nGMF_tuner.search([user_ids, movie_ids], ratings,\n             epochs=10,\n             validation_split=0.2,\n             batch_size = 512,\n             callbacks=[early_stop])\n\nGMF_best_hps = GMF_tuner.get_best_hyperparameters(num_trials=1)[0]\nGMF_best_model = GMF_tuner.get_best_models(1)[0]\nprint(GMF_best_hps.values)",
   "metadata": {
    "trusted": true,
    "execution": {
     "iopub.status.busy": "2025-05-25T09:12:19.340487Z",
     "iopub.execute_input": "2025-05-25T09:12:19.341135Z",
     "iopub.status.idle": "2025-05-25T09:20:44.874192Z",
     "shell.execute_reply.started": "2025-05-25T09:12:19.341114Z",
     "shell.execute_reply": "2025-05-25T09:20:44.873391Z"
    }
   },
   "outputs": [
    {
     "name": "stdout",
     "text": "Trial 30 Complete [00h 00m 35s]\nval_loss: 1.2457084655761719\n\nBest val_loss So Far: 0.7641966342926025\nTotal elapsed time: 00h 08m 25s\n{'gmf_dim': 32, 'gmf_user_emb_regularization': 1e-06, 'gmf_user_vec_dropoutRate': 0.2, 'gmf_item_vec_dropoutRate': 0.0, 'lr': 0.001, 'tuner/epochs': 10, 'tuner/initial_epoch': 4, 'tuner/bracket': 2, 'tuner/round': 2, 'tuner/trial_id': '0012'}\n",
     "output_type": "stream"
    }
   ],
   "execution_count": 26
  },
  {
   "id": "6542e71d-7fac-4887-afe8-9c1c021d2065",
   "cell_type": "code",
   "source": "def buildMLP(hp):\n    mlp_dim  = hp.Choice(\"mlp_dim\", values=[16, 32, 64]) # defines dimensions of mlp\n\n    layers_choice = hp.Choice(\n        \"mlp_layers_choice\",\n        values=[\"[64, 32]\", \"[128, 64]\", \"[128, 64, 32]\", \"[64, 32, 16, 8]\", \"[64, 32, 16]\" ]\n    )\n    reg_L2 = hp.Choice(\"mlp_user_emb_regularization\", values=[1e-4, 1e-5, 1e-6])\n    \n    # parse it back into an actual Python list\n    mlp_layers = eval(layers_choice) # mlp neuron layers\n\n     # Input layer takes item of vector size 1\n    user_input = Input(shape=(1,), name='userId')\n    item_input = Input(shape=(1,), name='movieId')\n\n    # 4. MLP branch: Captures higher-order and non-linear interactions between user and item factors via multiple neural layers\n    mlp_user_emb = Embedding(\n        num_users,\n        mlp_dim,\n        embeddings_regularizer=regularizers.l2(reg_L2),\n        name = \"mlp_user_emb\")(user_input) # embedding for userID\n    mlp_item_emb = Embedding(\n        num_items,\n        mlp_dim,\n        embeddings_regularizer=regularizers.l2(reg_L2),\n        name = \"mlp_item_emb\")(item_input) # embedding for movieID\n    \n    mlp_user_vec = Flatten(name = \"mlp_user_vec\")(mlp_user_emb) # flatten them\n    mlp_user_vec = Dropout(\n        hp.Choice(\"mlp_user_vec_dropoutRate\",values=[0.0, 0.1, 0.2, 0.3]),\n        name = \"mlp_user_vec_dropout\")(mlp_user_vec)\n    \n    mlp_item_vec = Flatten(name = \"mlp_item_vec\")(mlp_item_emb) # flatten them\n    mlp_item_vec = Dropout(\n        hp.Choice(\"mlp_item_vec_dropoutRate\",values=[0.0, 0.1, 0.2, 0.3]),\n        name = \"mlp_item_vec_dropout\")(mlp_item_vec)\n    \n    mlp_vector = Concatenate(name = \"mlp_vector\")([mlp_user_vec, mlp_item_vec]) # stacks them both together\n    \n    for units in mlp_layers: \n        mlp_vector = Dense(units)(mlp_vector) # goes through neurons, activation relu to allow complexity\n        if hp.Boolean(\"use_BatchNorm\"):\n            mlp_vector = BatchNormalization()(mlp_vector)\n        mlp_vector = Activation('relu')(mlp_vector)\n        mlp_vector = Dropout(\n            hp.Choice(\"mlp_vector_dropoutRate\",values=[0.0, 0.1, 0.2, 0.3, 0.4, 0.5]))(mlp_vector) # Isn't given a name, cuz it causes errors due to duplicate names\n\n    output = Dense(1, activation=\"linear\")(mlp_vector)\n    \n    model = Model(inputs=[user_input, item_input], outputs=output)\n    model.compile(\n        optimizer=Adam(learning_rate=hp.Choice(\"lr\", values=[1e-3, 1e-4, 1e-5, 1e-6])),\n        loss='mse'\n    )\n\n    return model",
   "metadata": {
    "trusted": true,
    "execution": {
     "iopub.status.busy": "2025-05-25T09:20:44.875452Z",
     "iopub.execute_input": "2025-05-25T09:20:44.875713Z",
     "iopub.status.idle": "2025-05-25T09:20:44.883793Z",
     "shell.execute_reply.started": "2025-05-25T09:20:44.875690Z",
     "shell.execute_reply": "2025-05-25T09:20:44.883057Z"
    }
   },
   "outputs": [],
   "execution_count": 27
  },
  {
   "id": "10861199-c8ca-4709-9b1b-1011c52c6db3",
   "cell_type": "code",
   "source": "MLP_tuner = kt.Hyperband(\n    buildMLP,\n    objective='val_loss',         # Metric to optimize\n    max_epochs=10,                # Max epochs to train each model\n    factor=3,                     # Reduction factor for resources\n    directory='Hyperparameters',  # Where to save logs\n    project_name='MLP_tuning'     # Subfolder name\n)\n\nearly_stop = keras.callbacks.EarlyStopping(monitor='val_loss', patience=3)\n\nMLP_tuner.search([user_ids, movie_ids],ratings,\n             epochs=10,\n             validation_split=0.2,\n             batch_size = 512,\n             callbacks=[early_stop])\n\nMLP_best_hps = MLP_tuner.get_best_hyperparameters(num_trials=1)[0]\nMLP_best_model = MLP_tuner.get_best_models(1)[0]\nprint(MLP_best_hps.values)",
   "metadata": {
    "trusted": true,
    "execution": {
     "iopub.status.busy": "2025-05-25T09:20:44.884570Z",
     "iopub.execute_input": "2025-05-25T09:20:44.884802Z",
     "iopub.status.idle": "2025-05-25T09:33:05.763548Z",
     "shell.execute_reply.started": "2025-05-25T09:20:44.884787Z",
     "shell.execute_reply": "2025-05-25T09:33:05.762855Z"
    }
   },
   "outputs": [
    {
     "name": "stdout",
     "text": "Trial 30 Complete [00h 00m 54s]\nval_loss: 0.8128757476806641\n\nBest val_loss So Far: 0.8022095561027527\nTotal elapsed time: 00h 12m 19s\n{'mlp_dim': 32, 'mlp_layers_choice': '[128, 64, 32]', 'mlp_user_emb_regularization': 1e-06, 'mlp_user_vec_dropoutRate': 0.1, 'mlp_item_vec_dropoutRate': 0.3, 'use_BatchNorm': False, 'mlp_vector_dropoutRate': 0.3, 'lr': 0.0001, 'tuner/epochs': 10, 'tuner/initial_epoch': 4, 'tuner/bracket': 2, 'tuner/round': 2, 'tuner/trial_id': '0012'}\n",
     "output_type": "stream"
    }
   ],
   "execution_count": 28
  },
  {
   "id": "6228bec8-8662-49c1-b1e9-86ada2610146",
   "cell_type": "code",
   "source": "def build_two_output_GMF_from_hps(best_hps):\n    \"\"\"\n    Rebuilds a GMF model with two outputs (vector + score)\n    using the tuned hyperparameters.\n    To expose the latent vectors in the NeuMF Model\n    \"\"\"\n\n    # Extract tuned hyperparameters\n    gmf_dim = best_hps['gmf_dim']\n    gmf_emb_regularization = best_hps['gmf_user_emb_regularization']\n    gmf_user_vec_dropoutRate = best_hps['gmf_user_vec_dropoutRate']\n    gmf_item_vec_dropoutRate = best_hps['gmf_item_vec_dropoutRate']\n    learning_rate = best_hps['lr']\n\n    # Input Layers\n    user_input = Input(shape=(1,), name='userId')\n    item_input = Input(shape=(1,), name='movieId')\n\n    # Embedding layers\n    user_emb = Embedding(\n        input_dim=num_users,\n        output_dim=gmf_dim,\n        embeddings_regularizer=regularizers.l2(gmf_emb_regularization),\n        embeddings_initializer='he_normal',\n        name='gmf_user_emb'\n    )(user_input)\n\n    item_emb = Embedding(\n        input_dim=num_items,\n        output_dim=gmf_dim,\n        embeddings_regularizer=regularizers.l2(gmf_emb_regularization),\n        embeddings_initializer='he_normal',\n        name='gmf_item_emb'\n    )(item_input)\n\n    # Flatten + Dropout\n    user_vec = Flatten(name='gmf_user_vec')(user_emb)\n    user_vec = Dropout(gmf_user_vec_dropoutRate, name='gmf_user_vec_dropout')(user_vec)\n\n    item_vec = Flatten(name='gmf_item_vec')(item_emb)\n    item_vec = Dropout(gmf_item_vec_dropoutRate, name='gmf_item_vec_dropout')(item_vec)\n\n    # Interaction vector (latent features)\n    gmf_vector = Multiply(name='gmf_vector')([user_vec, item_vec])\n    # Score\n    gmf_score = Dense(1, activation='linear', name='prediction')(gmf_vector)\n\n    # Build two‐output model\n    model = Model(\n        inputs=[user_input, item_input],\n        outputs=[gmf_vector, gmf_score],\n        name='GMF_two_output'\n    )\n\n    # Compile so that only the score contributes to loss\n    model.compile(\n        optimizer=Adam(learning_rate),\n        loss=[None, 'mse'],\n        loss_weights=[0.0, 1.0]\n    )\n\n    return model\n",
   "metadata": {
    "trusted": true,
    "execution": {
     "iopub.status.busy": "2025-05-25T09:33:05.764849Z",
     "iopub.execute_input": "2025-05-25T09:33:05.765054Z",
     "iopub.status.idle": "2025-05-25T09:33:05.772127Z",
     "shell.execute_reply.started": "2025-05-25T09:33:05.765039Z",
     "shell.execute_reply": "2025-05-25T09:33:05.771471Z"
    }
   },
   "outputs": [],
   "execution_count": 29
  },
  {
   "id": "ee8d1237-cefd-43a8-8b01-5da6c8c4edb8",
   "cell_type": "code",
   "source": "def build_two_output_MLP_from_hps(best_hps):\n    \"\"\"\n    Rebuilds a MLP model with two outputs (vector + score)\n    using the tuned hyperparameters.\n    \"\"\"\n\n    \n    # Extract tuned hyperparameters\n    mlp_dim = best_hps['mlp_dim']\n    mlp_layers = best_hps['mlp_layers_choice']\n    mlp_emb_regularization = best_hps['mlp_user_emb_regularization']\n    mlp_user_vec_dropoutRate = best_hps['mlp_user_vec_dropoutRate']\n    mlp_item_vec_dropoutRate = best_hps['mlp_item_vec_dropoutRate']\n    mlp_vector_dropoutRate = best_hps['mlp_vector_dropoutRate']\n    learning_rate = best_hps['lr']\n    BatchNorm = best_hps['use_BatchNorm']\n\n    # Input Layers\n    user_input = Input(shape=(1,), name='userId')\n    item_input = Input(shape=(1,), name='movieId')\n\n    # Embedding layers\n    user_emb = Embedding(\n        input_dim=num_users,\n        output_dim=mlp_dim,\n        embeddings_regularizer=regularizers.l2(mlp_emb_regularization),\n        embeddings_initializer='he_normal',\n        name='mlp_user_emb'\n    )(user_input)\n\n    item_emb = Embedding(\n        input_dim=num_items,\n        output_dim=mlp_dim,\n        embeddings_regularizer=regularizers.l2(mlp_emb_regularization),\n        embeddings_initializer='he_normal',\n        name='mlp_item_emb'\n    )(item_input)\n    \n    # Flatten + Dropout\n    user_vec = Flatten(name='mlp_user_vec')(user_emb)\n    user_vec = Dropout(mlp_user_vec_dropoutRate, name='mlp_user_vec_dropout')(user_vec)\n\n    item_vec = Flatten(name='mlp_item_vec')(item_emb)\n    item_vec = Dropout(mlp_item_vec_dropoutRate, name='mlp_item_vec_dropout')(item_vec)\n    \n    # Interaction vector (latent features)\n    mlp_vector = Concatenate(name = \"mlp_vector\")([user_vec, item_vec]) # stacks them both together\n    \n    for units in eval(mlp_layers): \n        mlp_vector = Dense(units)(mlp_vector) # goes through neurons, activation relu to allow complexity\n        if BatchNorm:\n            mlp_vector = BatchNormalization()(mlp_vector)\n        mlp_vector = Activation('relu')(mlp_vector)\n        mlp_vector = Dropout(mlp_vector_dropoutRate)(mlp_vector) # Isn't given a name, cuz it causes errors due to duplicate names\n\n    # Score \n    mlp_score = Dense(1, activation=\"linear\")(mlp_vector)    \n\n    # Build two‐output model\n    model = Model(\n        inputs=[user_input, item_input],\n        outputs=[mlp_vector, mlp_score],\n        name='MLP_two_output'\n    )\n    \n    # Compile so that only the score contributes to loss\n    model.compile(\n        optimizer=Adam(learning_rate),\n        loss=[None, 'mse'],\n        loss_weights=[0.0, 1.0]\n    )\n\n    return model",
   "metadata": {
    "trusted": true,
    "execution": {
     "iopub.status.busy": "2025-05-25T09:33:05.772918Z",
     "iopub.execute_input": "2025-05-25T09:33:05.773169Z",
     "iopub.status.idle": "2025-05-25T09:33:05.798234Z",
     "shell.execute_reply.started": "2025-05-25T09:33:05.773146Z",
     "shell.execute_reply": "2025-05-25T09:33:05.797615Z"
    }
   },
   "outputs": [],
   "execution_count": 30
  },
  {
   "id": "f83d8db8-4ca9-46da-b066-293d643107f8",
   "cell_type": "code",
   "source": "# configure the callback\nreduce_lr = ReduceLROnPlateau(\n    monitor='val_loss',    # watch validation loss\n    factor=0.5,            # multiply LR by this factor on plateau\n    patience=2,            # wait this many epochs with no improvement\n    min_lr=1e-7,           # don’t go below this LR\n    verbose=1              # print messages when LR is reduced\n)\n\nearly_stop = EarlyStopping(\n    monitor='val_loss',\n    patience=5,\n    verbose=1,\n    restore_best_weights=True,\n    baseline = 0.001\n)\n\n# now include it in your fit call\nGMF_Final = build_two_output_GMF_from_hps(GMF_best_hps)\ngmf_dummy = np.zeros((ratings.shape[0], GMF_best_hps['gmf_dim']), dtype=np.float32)\nGMF_Final.fit(\n    x=[user_ids, movie_ids],\n    y= [gmf_dummy, ratings],\n    epochs=10,\n    batch_size=512,\n    validation_split=0.2,\n    callbacks = [reduce_lr, early_stop]\n)\n\n\nMLP_Final = build_two_output_MLP_from_hps(MLP_best_hps)\nmlp_dummy = np.zeros((ratings.shape[0], MLP_best_hps['mlp_dim']), dtype=np.float32)\nMLP_Final.fit(\n    x=[user_ids, movie_ids],\n    y= [mlp_dummy, ratings],\n    epochs=10,\n    batch_size=512,\n    validation_split=0.2,\n    callbacks = [reduce_lr, early_stop]\n)",
   "metadata": {
    "trusted": true,
    "execution": {
     "iopub.status.busy": "2025-05-25T09:48:41.840753Z",
     "iopub.execute_input": "2025-05-25T09:48:41.841383Z",
     "iopub.status.idle": "2025-05-25T09:49:48.219986Z",
     "shell.execute_reply.started": "2025-05-25T09:48:41.841357Z",
     "shell.execute_reply": "2025-05-25T09:49:48.219351Z"
    }
   },
   "outputs": [
    {
     "name": "stdout",
     "text": "Epoch 1/10\n\u001B[1m1251/1251\u001B[0m \u001B[32m━━━━━━━━━━━━━━━━━━━━\u001B[0m\u001B[37m\u001B[0m \u001B[1m6s\u001B[0m 4ms/step - loss: 1.1908 - val_loss: 0.8566 - learning_rate: 0.0010\nEpoch 2/10\n\u001B[1m1251/1251\u001B[0m \u001B[32m━━━━━━━━━━━━━━━━━━━━\u001B[0m\u001B[37m\u001B[0m \u001B[1m3s\u001B[0m 3ms/step - loss: 0.8170 - val_loss: 0.7992 - learning_rate: 0.0010\nEpoch 3/10\n\u001B[1m1251/1251\u001B[0m \u001B[32m━━━━━━━━━━━━━━━━━━━━\u001B[0m\u001B[37m\u001B[0m \u001B[1m3s\u001B[0m 2ms/step - loss: 0.7534 - val_loss: 0.7789 - learning_rate: 0.0010\nEpoch 4/10\n\u001B[1m1251/1251\u001B[0m \u001B[32m━━━━━━━━━━━━━━━━━━━━\u001B[0m\u001B[37m\u001B[0m \u001B[1m3s\u001B[0m 2ms/step - loss: 0.7087 - val_loss: 0.7685 - learning_rate: 0.0010\nEpoch 5/10\n\u001B[1m1251/1251\u001B[0m \u001B[32m━━━━━━━━━━━━━━━━━━━━\u001B[0m\u001B[37m\u001B[0m \u001B[1m3s\u001B[0m 2ms/step - loss: 0.6683 - val_loss: 0.7658 - learning_rate: 0.0010\nEpoch 6/10\n\u001B[1m1251/1251\u001B[0m \u001B[32m━━━━━━━━━━━━━━━━━━━━\u001B[0m\u001B[37m\u001B[0m \u001B[1m3s\u001B[0m 2ms/step - loss: 0.6340 - val_loss: 0.7684 - learning_rate: 0.0010\nEpoch 6: early stopping\nRestoring model weights from the end of the best epoch: 5.\nEpoch 1/10\n\u001B[1m1251/1251\u001B[0m \u001B[32m━━━━━━━━━━━━━━━━━━━━\u001B[0m\u001B[37m\u001B[0m \u001B[1m12s\u001B[0m 6ms/step - loss: 1.1320 - val_loss: 0.8448 - learning_rate: 1.0000e-04\nEpoch 2/10\n\u001B[1m1251/1251\u001B[0m \u001B[32m━━━━━━━━━━━━━━━━━━━━\u001B[0m\u001B[37m\u001B[0m \u001B[1m3s\u001B[0m 3ms/step - loss: 0.8617 - val_loss: 0.8248 - learning_rate: 1.0000e-04\nEpoch 3/10\n\u001B[1m1251/1251\u001B[0m \u001B[32m━━━━━━━━━━━━━━━━━━━━\u001B[0m\u001B[37m\u001B[0m \u001B[1m4s\u001B[0m 3ms/step - loss: 0.8353 - val_loss: 0.8129 - learning_rate: 1.0000e-04\nEpoch 4/10\n\u001B[1m1251/1251\u001B[0m \u001B[32m━━━━━━━━━━━━━━━━━━━━\u001B[0m\u001B[37m\u001B[0m \u001B[1m3s\u001B[0m 3ms/step - loss: 0.8189 - val_loss: 0.8086 - learning_rate: 1.0000e-04\nEpoch 5/10\n\u001B[1m1251/1251\u001B[0m \u001B[32m━━━━━━━━━━━━━━━━━━━━\u001B[0m\u001B[37m\u001B[0m \u001B[1m3s\u001B[0m 3ms/step - loss: 0.8138 - val_loss: 0.8054 - learning_rate: 1.0000e-04\nEpoch 6/10\n\u001B[1m1251/1251\u001B[0m \u001B[32m━━━━━━━━━━━━━━━━━━━━\u001B[0m\u001B[37m\u001B[0m \u001B[1m3s\u001B[0m 3ms/step - loss: 0.8097 - val_loss: 0.8038 - learning_rate: 1.0000e-04\nEpoch 7/10\n\u001B[1m1251/1251\u001B[0m \u001B[32m━━━━━━━━━━━━━━━━━━━━\u001B[0m\u001B[37m\u001B[0m \u001B[1m3s\u001B[0m 3ms/step - loss: 0.8045 - val_loss: 0.8014 - learning_rate: 1.0000e-04\nEpoch 8/10\n\u001B[1m1251/1251\u001B[0m \u001B[32m━━━━━━━━━━━━━━━━━━━━\u001B[0m\u001B[37m\u001B[0m \u001B[1m3s\u001B[0m 3ms/step - loss: 0.7989 - val_loss: 0.7993 - learning_rate: 1.0000e-04\nEpoch 9/10\n\u001B[1m1251/1251\u001B[0m \u001B[32m━━━━━━━━━━━━━━━━━━━━\u001B[0m\u001B[37m\u001B[0m \u001B[1m3s\u001B[0m 3ms/step - loss: 0.7933 - val_loss: 0.7970 - learning_rate: 1.0000e-04\nEpoch 10/10\n\u001B[1m1251/1251\u001B[0m \u001B[32m━━━━━━━━━━━━━━━━━━━━\u001B[0m\u001B[37m\u001B[0m \u001B[1m3s\u001B[0m 3ms/step - loss: 0.7913 - val_loss: 0.7951 - learning_rate: 1.0000e-04\nRestoring model weights from the end of the best epoch: 10.\n",
     "output_type": "stream"
    },
    {
     "execution_count": 31,
     "output_type": "execute_result",
     "data": {
      "text/plain": "<keras.src.callbacks.history.History at 0x7f4e0aa00f90>"
     },
     "metadata": {}
    }
   ],
   "execution_count": 31
  },
  {
   "id": "9799795d-d97c-4df6-b167-51b94c03301c",
   "cell_type": "code",
   "source": "# Extra Training If needed\nGMF_Final.fit(\n    x=[user_ids, movie_ids],\n    y= [gmf_dummy, ratings],\n    epochs=10,\n    batch_size=512,\n    validation_split=0.2,\n    callbacks = [reduce_lr, early_stop]\n)\n\n",
   "metadata": {
    "trusted": true,
    "execution": {
     "iopub.status.busy": "2025-05-25T09:50:55.373521Z",
     "iopub.execute_input": "2025-05-25T09:50:55.374440Z",
     "iopub.status.idle": "2025-05-25T09:51:11.451410Z",
     "shell.execute_reply.started": "2025-05-25T09:50:55.374387Z",
     "shell.execute_reply": "2025-05-25T09:51:11.450860Z"
    }
   },
   "outputs": [
    {
     "name": "stdout",
     "text": "Epoch 1/10\n\u001B[1m1251/1251\u001B[0m \u001B[32m━━━━━━━━━━━━━━━━━━━━\u001B[0m\u001B[37m\u001B[0m \u001B[1m3s\u001B[0m 3ms/step - loss: 0.6301 - val_loss: 0.7685 - learning_rate: 0.0010\nEpoch 2/10\n\u001B[1m1251/1251\u001B[0m \u001B[32m━━━━━━━━━━━━━━━━━━━━\u001B[0m\u001B[37m\u001B[0m \u001B[1m3s\u001B[0m 2ms/step - loss: 0.6051 - val_loss: 0.7748 - learning_rate: 0.0010\nEpoch 3/10\n\u001B[1m1244/1251\u001B[0m \u001B[32m━━━━━━━━━━━━━━━━━━━\u001B[0m\u001B[37m━\u001B[0m \u001B[1m0s\u001B[0m 2ms/step - loss: 0.5813\nEpoch 3: ReduceLROnPlateau reducing learning rate to 0.0005000000237487257.\n\u001B[1m1251/1251\u001B[0m \u001B[32m━━━━━━━━━━━━━━━━━━━━\u001B[0m\u001B[37m\u001B[0m \u001B[1m3s\u001B[0m 2ms/step - loss: 0.5813 - val_loss: 0.7828 - learning_rate: 0.0010\nEpoch 4/10\n\u001B[1m1251/1251\u001B[0m \u001B[32m━━━━━━━━━━━━━━━━━━━━\u001B[0m\u001B[37m\u001B[0m \u001B[1m3s\u001B[0m 2ms/step - loss: 0.5546 - val_loss: 0.7863 - learning_rate: 5.0000e-04\nEpoch 5/10\n\u001B[1m1237/1251\u001B[0m \u001B[32m━━━━━━━━━━━━━━━━━━━\u001B[0m\u001B[37m━\u001B[0m \u001B[1m0s\u001B[0m 2ms/step - loss: 0.5470\nEpoch 5: ReduceLROnPlateau reducing learning rate to 0.0002500000118743628.\n\u001B[1m1251/1251\u001B[0m \u001B[32m━━━━━━━━━━━━━━━━━━━━\u001B[0m\u001B[37m\u001B[0m \u001B[1m3s\u001B[0m 2ms/step - loss: 0.5471 - val_loss: 0.7909 - learning_rate: 5.0000e-04\nEpoch 5: early stopping\nRestoring model weights from the end of the best epoch: 1.\n",
     "output_type": "stream"
    },
    {
     "execution_count": 32,
     "output_type": "execute_result",
     "data": {
      "text/plain": "<keras.src.callbacks.history.History at 0x7f4e0aaceed0>"
     },
     "metadata": {}
    }
   ],
   "execution_count": 32
  },
  {
   "id": "d3d249f6-e49b-4e68-87cf-04a900f0a873",
   "cell_type": "code",
   "source": "# Extra Training If needed\nMLP_Final.fit(\n    x=[user_ids, movie_ids],\n    y= [mlp_dummy, ratings],\n    epochs=10,\n    batch_size=512,\n    validation_split=0.2,\n    callbacks = [reduce_lr, early_stop]\n)",
   "metadata": {
    "trusted": true,
    "execution": {
     "iopub.status.busy": "2025-05-25T09:52:56.461774Z",
     "iopub.execute_input": "2025-05-25T09:52:56.462489Z",
     "iopub.status.idle": "2025-05-25T09:53:18.055359Z",
     "shell.execute_reply.started": "2025-05-25T09:52:56.462466Z",
     "shell.execute_reply": "2025-05-25T09:53:18.054797Z"
    }
   },
   "outputs": [
    {
     "name": "stdout",
     "text": "Epoch 1/10\n\u001B[1m1251/1251\u001B[0m \u001B[32m━━━━━━━━━━━━━━━━━━━━\u001B[0m\u001B[37m\u001B[0m \u001B[1m4s\u001B[0m 3ms/step - loss: 0.7527 - val_loss: 0.7778 - learning_rate: 1.0000e-04\nEpoch 2/10\n\u001B[1m1251/1251\u001B[0m \u001B[32m━━━━━━━━━━━━━━━━━━━━\u001B[0m\u001B[37m\u001B[0m \u001B[1m4s\u001B[0m 3ms/step - loss: 0.7527 - val_loss: 0.7778 - learning_rate: 1.0000e-04\nEpoch 3/10\n\u001B[1m1250/1251\u001B[0m \u001B[32m━━━━━━━━━━━━━━━━━━━\u001B[0m\u001B[37m━\u001B[0m \u001B[1m0s\u001B[0m 2ms/step - loss: 0.7488\nEpoch 3: ReduceLROnPlateau reducing learning rate to 4.999999873689376e-05.\n\u001B[1m1251/1251\u001B[0m \u001B[32m━━━━━━━━━━━━━━━━━━━━\u001B[0m\u001B[37m\u001B[0m \u001B[1m3s\u001B[0m 3ms/step - loss: 0.7488 - val_loss: 0.7778 - learning_rate: 1.0000e-04\nEpoch 4/10\n\u001B[1m1251/1251\u001B[0m \u001B[32m━━━━━━━━━━━━━━━━━━━━\u001B[0m\u001B[37m\u001B[0m \u001B[1m4s\u001B[0m 3ms/step - loss: 0.7446 - val_loss: 0.7771 - learning_rate: 5.0000e-05\nEpoch 5/10\n\u001B[1m1251/1251\u001B[0m \u001B[32m━━━━━━━━━━━━━━━━━━━━\u001B[0m\u001B[37m\u001B[0m \u001B[1m4s\u001B[0m 3ms/step - loss: 0.7400 - val_loss: 0.7768 - learning_rate: 5.0000e-05\nEpoch 6/10\n\u001B[1m1251/1251\u001B[0m \u001B[32m━━━━━━━━━━━━━━━━━━━━\u001B[0m\u001B[37m\u001B[0m \u001B[1m3s\u001B[0m 3ms/step - loss: 0.7405 - val_loss: 0.7771 - learning_rate: 5.0000e-05\nEpoch 6: early stopping\nRestoring model weights from the end of the best epoch: 5.\n",
     "output_type": "stream"
    },
    {
     "execution_count": 35,
     "output_type": "execute_result",
     "data": {
      "text/plain": "<keras.src.callbacks.history.History at 0x7f4e0999d410>"
     },
     "metadata": {}
    }
   ],
   "execution_count": 35
  },
  {
   "id": "c31941f9-733c-4b6b-9d49-86eca560f15d",
   "cell_type": "code",
   "source": "class MyNeuMF(HyperModel):\n    def __init__(self,gmf_model, mlp_model, num_users, num_items):\n        self.gmf_model = gmf_model\n        self.mlp_model = mlp_model\n        self.num_users = num_users\n        self.num_items = num_items\n\n\n    def build(self, hp):\n        \"\"\"\n        Combines pretrained GMF and MLP two-output models into one NeuMF.\n        \n        Args:\n          gmf_model: a Keras Model with outputs [gmf_vector, gmf_score]\n          mlp_model: a Keras Model with outputs [mlp_vector, mlp_score]\n          num_users, num_items: sizes for bias embeddings\n          lr: learning rate for final NeuMF (For fine Tuning)\n        \n        Returns:\n          neu_model: compiled Keras Model ready for fine-tuning\n        \"\"\"\n        # 1) Input Layer\n        user_input = Input(shape=(1,), name='userId')\n        item_input = Input(shape=(1,), name='movieId')\n        \n        # 2) Call the pretrained branches, grab only the vector outputs\n        gmf_vector, _ = self.gmf_model([user_input, item_input])\n        mlp_vector, _ = self.mlp_model([user_input, item_input])\n\n        gmf_vector = Dropout(hp.Choice(\"gmf_dropout\", values=[0.0,0.1,0.2,0.3,0.4,0.5]))(gmf_vector)\n        mlp_vector = Dropout(hp.Choice(\"mlp_dropout\", values=[0.0,0.1,0.2,0.3,0.4,0.5]))(mlp_vector)\n        \n         # 3) Bias embeddings (one scalar per user / per item)\n        user_bias = Embedding(self.num_users, 1,embeddings_initializer='zeros', name='user_bias')(user_input)      # (batch,1,1)\n        item_bias = Embedding(self.num_items, 1,embeddings_initializer='zeros', name='item_bias')(item_input)     # (batch,1,1)\n        user_bias = Flatten(name='user_bias_flat')(user_bias)                 # (batch,1)\n        item_bias = Flatten(name='item_bias_flat')(item_bias)                 # (batch,1)\n        bias_vector = Add(name='bias_add')([user_bias, item_bias])            # (batch,1)\n        \n    \n        # 4) Fuse GMF+MLP feature vectors and append bias\n        fusion = Concatenate(name='fusion')([gmf_vector, mlp_vector])         # (batch, D_gmf+D_mlp)\n\n        if hp.Boolean(\"use_BatchNorm\"):\n            fusion = BatchNormalization()(fusion)\n        # 5) Final prediction head (no additional bias, since bias is in the features)\n        raw_score = Dense(\n            1,\n            activation='linear',\n            use_bias=False,\n            name='raw_score'\n        )(fusion)\n    \n        output = Add(name = \"prediction\")([raw_score, bias_vector])\n        \n        # 6) Build & compile NeuMF\n        model = Model([user_input, item_input], output, name='NeuMF')\n        model.compile(\n            optimizer=Adam(hp.Choice(\"lr\", values=[1e-2,1e-3,1e-4,1e-5])),\n            loss='mse'\n        )\n        return model\n   ",
   "metadata": {
    "trusted": true,
    "execution": {
     "iopub.status.busy": "2025-05-25T11:40:53.314819Z",
     "iopub.execute_input": "2025-05-25T11:40:53.315085Z",
     "iopub.status.idle": "2025-05-25T11:40:53.323520Z",
     "shell.execute_reply.started": "2025-05-25T11:40:53.315063Z",
     "shell.execute_reply": "2025-05-25T11:40:53.322725Z"
    }
   },
   "outputs": [],
   "execution_count": 68
  },
  {
   "id": "a7993d23-245b-4689-900c-cb2e498918a7",
   "cell_type": "code",
   "source": "GMF_Final.trainable = False\nMLP_Final.trainable = False\n\nNeuMF = MyNeuMF(GMF_Final, MLP_Final, num_users, num_items)\n\ntuner = kt.Hyperband(\n    NeuMF,\n    objective='val_loss',\n    max_epochs=10,\n    factor=3,\n    directory='Hyperparameters',\n    project_name='NeuMF_tuning'\n)\n\nhistory1 = tuner.search(\n    x=[user_ids, movie_ids],\n    y=ratings,\n    epochs=10,\n    validation_split=0.2,\n    batch_size=512,\n    callbacks = [reduce_lr, early_stop]\n)\n\nNeuMF = tuner.get_best_models(1)[0]\nNeuMF_best_hp = tuner.get_best_hyperparameters(num_trials=1)[0]\nprint(NeuMF_best_hp.values)",
   "metadata": {
    "trusted": true,
    "execution": {
     "iopub.status.busy": "2025-05-25T12:29:52.177676Z",
     "iopub.execute_input": "2025-05-25T12:29:52.178394Z",
     "iopub.status.idle": "2025-05-25T12:29:54.403412Z",
     "shell.execute_reply.started": "2025-05-25T12:29:52.178370Z",
     "shell.execute_reply": "2025-05-25T12:29:54.402623Z"
    }
   },
   "outputs": [
    {
     "name": "stdout",
     "text": "Reloading Tuner from Hyperparameters/NeuMF_tuning/tuner0.json\n{'gmf_dropout': 0.4, 'mlp_dropout': 0.4, 'use_BatchNorm': False, 'lr': 0.001, 'tuner/epochs': 10, 'tuner/initial_epoch': 0, 'tuner/bracket': 0, 'tuner/round': 0}\n",
     "output_type": "stream"
    },
    {
     "name": "stderr",
     "text": "/usr/local/lib/python3.11/dist-packages/keras/src/saving/saving_lib.py:757: UserWarning: Skipping variable loading for optimizer 'adam', because it has 2 variables whereas the saved optimizer has 8 variables. \n  saveable.load_own_variables(weights_store.get(inner_path))\n",
     "output_type": "stream"
    }
   ],
   "execution_count": 93
  },
  {
   "id": "b533a515567fff20",
   "cell_type": "code",
   "source": "lr = NeuMF_best_hp[\"lr\"]\nnew_lr = lr / 2\n\nNeuMF.trainable = True\n\n# Recompile with a smaller LR (to avoid blowing away pretrained weights)\nNeuMF.compile(optimizer=Adam(new_lr), loss='mse')\n\n# Continue training end-to-end\nNeuMF.fit(\n    x=[user_ids, movie_ids],\n    y=ratings,\n    epochs=20,                      # the remaining epochs\n    batch_size=512,\n    validation_split=0.2,\n    callbacks=[reduce_lr, early_stop]\n)",
   "metadata": {
    "trusted": true,
    "execution": {
     "iopub.status.busy": "2025-05-25T11:54:22.889649Z",
     "iopub.execute_input": "2025-05-25T11:54:22.889932Z",
     "iopub.status.idle": "2025-05-25T11:54:55.152249Z",
     "shell.execute_reply.started": "2025-05-25T11:54:22.889900Z",
     "shell.execute_reply": "2025-05-25T11:54:55.151703Z"
    },
    "ExecuteTime": {
     "end_time": "2025-05-23T12:03:57.104096Z",
     "start_time": "2025-05-23T12:03:57.063726Z"
    }
   },
   "outputs": [
    {
     "name": "stdout",
     "text": "Epoch 1/20\n\u001B[1m1251/1251\u001B[0m \u001B[32m━━━━━━━━━━━━━━━━━━━━\u001B[0m\u001B[37m\u001B[0m \u001B[1m12s\u001B[0m 6ms/step - loss: 0.6589 - val_loss: 0.7471 - learning_rate: 5.0000e-04\nEpoch 2/20\n\u001B[1m1251/1251\u001B[0m \u001B[32m━━━━━━━━━━━━━━━━━━━━\u001B[0m\u001B[37m\u001B[0m \u001B[1m3s\u001B[0m 3ms/step - loss: 0.6587 - val_loss: 0.7468 - learning_rate: 5.0000e-04\nEpoch 3/20\n\u001B[1m1251/1251\u001B[0m \u001B[32m━━━━━━━━━━━━━━━━━━━━\u001B[0m\u001B[37m\u001B[0m \u001B[1m3s\u001B[0m 3ms/step - loss: 0.6583 - val_loss: 0.7470 - learning_rate: 5.0000e-04\nEpoch 4/20\n\u001B[1m1248/1251\u001B[0m \u001B[32m━━━━━━━━━━━━━━━━━━━\u001B[0m\u001B[37m━\u001B[0m \u001B[1m0s\u001B[0m 2ms/step - loss: 0.6569\nEpoch 4: ReduceLROnPlateau reducing learning rate to 0.0002500000118743628.\n\u001B[1m1251/1251\u001B[0m \u001B[32m━━━━━━━━━━━━━━━━━━━━\u001B[0m\u001B[37m\u001B[0m \u001B[1m3s\u001B[0m 3ms/step - loss: 0.6569 - val_loss: 0.7468 - learning_rate: 5.0000e-04\nEpoch 5/20\n\u001B[1m1251/1251\u001B[0m \u001B[32m━━━━━━━━━━━━━━━━━━━━\u001B[0m\u001B[37m\u001B[0m \u001B[1m3s\u001B[0m 3ms/step - loss: 0.6574 - val_loss: 0.7467 - learning_rate: 2.5000e-04\nEpoch 6/20\n\u001B[1m1251/1251\u001B[0m \u001B[32m━━━━━━━━━━━━━━━━━━━━\u001B[0m\u001B[37m\u001B[0m \u001B[1m3s\u001B[0m 3ms/step - loss: 0.6560 - val_loss: 0.7466 - learning_rate: 2.5000e-04\nEpoch 7/20\n\u001B[1m1251/1251\u001B[0m \u001B[32m━━━━━━━━━━━━━━━━━━━━\u001B[0m\u001B[37m\u001B[0m \u001B[1m3s\u001B[0m 3ms/step - loss: 0.6536 - val_loss: 0.7467 - learning_rate: 2.5000e-04\nEpoch 7: early stopping\nRestoring model weights from the end of the best epoch: 6.\n",
     "output_type": "stream"
    },
    {
     "execution_count": 72,
     "output_type": "execute_result",
     "data": {
      "text/plain": "<keras.src.callbacks.history.History at 0x7f4e11f56550>"
     },
     "metadata": {}
    }
   ],
   "execution_count": 72
  },
  {
   "id": "01288a51-d3ea-4ff4-831b-802a79140cdf",
   "cell_type": "code",
   "source": "# If we want any more epochs\nNeuMF.fit(\n    x=[user_ids, movie_ids],\n    y=ratings,\n    epochs=25,\n    batch_size=512,\n    validation_split=0.2,\n    callbacks=[reduce_lr, early_stop]\n)",
   "metadata": {
    "trusted": true,
    "execution": {
     "iopub.status.busy": "2025-05-25T11:53:24.143884Z",
     "iopub.status.idle": "2025-05-25T11:53:24.144097Z",
     "shell.execute_reply.started": "2025-05-25T11:53:24.143994Z",
     "shell.execute_reply": "2025-05-25T11:53:24.144003Z"
    }
   },
   "outputs": [],
   "execution_count": null
  },
  {
   "id": "a3d3c974-fadb-4774-84df-e0277b4c46f7",
   "cell_type": "code",
   "source": "def round_to_half(x):\n    return round(x * 2) / 2.0",
   "metadata": {
    "trusted": true,
    "execution": {
     "iopub.status.busy": "2025-05-25T12:22:49.968450Z",
     "iopub.execute_input": "2025-05-25T12:22:49.968966Z",
     "iopub.status.idle": "2025-05-25T12:22:49.972561Z",
     "shell.execute_reply.started": "2025-05-25T12:22:49.968945Z",
     "shell.execute_reply": "2025-05-25T12:22:49.971724Z"
    }
   },
   "outputs": [],
   "execution_count": 90
  },
  {
   "id": "4e277b5d-b8d7-4c2c-89a9-19fc6e73767e",
   "cell_type": "code",
   "source": [
    "# Testing:\n",
    "# Example of making a prediction and converting back to original scale\n",
    "sample_user_idx = data['X_user_test']\n",
    "sample_movie_idx = data['X_movie_test']\n",
    "actual_centered_ratings = data['y_test']\n",
    "actual_original_ratings = actual_centered_ratings + mean_rating_val\n",
    "\n",
    "predicted_centered_ratings = NeuMF.predict([sample_user_idx, sample_movie_idx])\n",
    "predicted_original_ratings = np.clip(np.round((predicted_centered_ratings.flatten() + mean_rating_val)*2)/2.0, 1, 5)\n",
    "\n",
    "print(\"\\nSample Predictions:\")\n",
    "for i in range(5):\n",
    "    print(f\"User: {sample_user_idx[i]}, Movie: {sample_movie_idx[i]} | Actual (orig): {actual_original_ratings[i]:.2f} | Predicted (orig): {predicted_original_ratings[i]:.2f}\")\n",
    "\n",
    "mse  = mean_squared_error(actual_original_ratings, predicted_original_ratings)\n",
    "rmse = np.sqrt(mse)\n",
    "mae  = mean_absolute_error(actual_original_ratings, predicted_original_ratings)\n",
    "\n",
    "print(f\"Test MSE:  {mse:.4f}\")\n",
    "print(f\"Test RMSE: {rmse:.4f}\")\n",
    "print(f\"Test MAE:  {mae:.4f}\")"
   ],
   "metadata": {
    "trusted": true,
    "execution": {
     "iopub.status.busy": "2025-05-25T12:24:16.674031Z",
     "iopub.execute_input": "2025-05-25T12:24:16.674636Z",
     "iopub.status.idle": "2025-05-25T12:24:16.775148Z",
     "shell.execute_reply.started": "2025-05-25T12:24:16.674614Z",
     "shell.execute_reply": "2025-05-25T12:24:16.774545Z"
    }
   },
   "outputs": [
    {
     "name": "stdout",
     "text": "\u001B[1m1/1\u001B[0m \u001B[32m━━━━━━━━━━━━━━━━━━━━\u001B[0m\u001B[37m\u001B[0m \u001B[1m0s\u001B[0m 37ms/step\n\nSample Predictions:\nUser: 5411, Movie: 2480 | Actual (orig): 2.00 | Predicted (orig): 3.00\nUser: 5439, Movie: 843 | Actual (orig): 5.00 | Predicted (orig): 5.00\nUser: 367, Movie: 3475 | Actual (orig): 4.00 | Predicted (orig): 3.50\nUser: 424, Movie: 1574 | Actual (orig): 4.00 | Predicted (orig): 3.50\nUser: 4941, Movie: 3455 | Actual (orig): 1.00 | Predicted (orig): 3.00\nTest MSE:  1.1000\nTest RMSE: 1.0488\nTest MAE:  0.8000\n",
     "output_type": "stream"
    }
   ],
   "execution_count": 92
  },
  {
   "metadata": {},
   "cell_type": "code",
   "outputs": [],
   "execution_count": null,
   "source": [
    "print(predicted_original_ratings.shape)\n",
    "#Trivial Case Model Performance:\n",
    "guess = np.ones(predicted_original_ratings.shape) * mean_rating_val\n",
    "guess_mse  = mean_squared_error(actual_original_ratings, guess)\n",
    "rmse = np.sqrt(mse)\n",
    "guess_mae  = mean_absolute_error(actual_original_ratings, guess)\n",
    "\n",
    "print(f\"Guess MSE:  {guess_mse:.4f}\")\n",
    "print(f\"Guess MAE:  {guess_mae:.4f}\")"
   ],
   "id": "13afc07c3abb0eb5"
  },
  {
   "id": "c722a8c4565df00c",
   "cell_type": "markdown",
   "source": "# Content-Based Filtering Model",
   "metadata": {}
  },
  {
   "id": "7a63e02a114a9f6f",
   "cell_type": "markdown",
   "source": "When you think of content-based filtering, think of statements like:\n- Because you liked horror\n- Because you searched laptops\n\n### 🧠 “Attribute Similarity”\nThe system uses the metadata or features of items (or users) directly.\n\n> It recommends items with similar features to what you liked, not because other users liked them.\n\n### 📦 How It Works:\n- Uses item (or user) attributes: genres, categories, descriptions\n- Builds a user profile from liked item features\n- Compares feature vectors (e.g., via cosine similarity)\n\nfinds patterns in features",
   "metadata": {}
  },
  {
   "id": "712dd9f66ccaa746",
   "cell_type": "markdown",
   "source": "Collaborative filtering learns from who likes what, no matter what it is.\n\nContent-based filtering learns from what the thing is, no matter who liked it.",
   "metadata": {}
  },
  {
   "id": "69a39304-2a10-4f7b-a6b9-607389433c3b",
   "cell_type": "code",
   "source": "GMF_Final.summary()\nMLP_Final.summary()\nNeuMF.summary()",
   "metadata": {
    "trusted": true,
    "execution": {
     "iopub.status.busy": "2025-05-25T12:05:19.122895Z",
     "iopub.execute_input": "2025-05-25T12:05:19.123435Z",
     "iopub.status.idle": "2025-05-25T12:05:19.179507Z",
     "shell.execute_reply.started": "2025-05-25T12:05:19.123398Z",
     "shell.execute_reply": "2025-05-25T12:05:19.178956Z"
    }
   },
   "outputs": [
    {
     "output_type": "display_data",
     "data": {
      "text/plain": "\u001B[1mModel: \"GMF_two_output\"\u001B[0m\n",
      "text/html": "<pre style=\"white-space:pre;overflow-x:auto;line-height:normal;font-family:Menlo,'DejaVu Sans Mono',consolas,'Courier New',monospace\"><span style=\"font-weight: bold\">Model: \"GMF_two_output\"</span>\n</pre>\n"
     },
     "metadata": {}
    },
    {
     "output_type": "display_data",
     "data": {
      "text/plain": "┏━━━━━━━━━━━━━━━━━━━━━━━━━━━┳━━━━━━━━━━━━━━━━━━━━━━━━┳━━━━━━━━━━━━━━━━┳━━━━━━━━━━━━━━━━━━━━━━━━┓\n┃\u001B[1m \u001B[0m\u001B[1mLayer (type)             \u001B[0m\u001B[1m \u001B[0m┃\u001B[1m \u001B[0m\u001B[1mOutput Shape          \u001B[0m\u001B[1m \u001B[0m┃\u001B[1m \u001B[0m\u001B[1m       Param #\u001B[0m\u001B[1m \u001B[0m┃\u001B[1m \u001B[0m\u001B[1mConnected to          \u001B[0m\u001B[1m \u001B[0m┃\n┡━━━━━━━━━━━━━━━━━━━━━━━━━━━╇━━━━━━━━━━━━━━━━━━━━━━━━╇━━━━━━━━━━━━━━━━╇━━━━━━━━━━━━━━━━━━━━━━━━┩\n│ userId (\u001B[38;5;33mInputLayer\u001B[0m)       │ (\u001B[38;5;45mNone\u001B[0m, \u001B[38;5;34m1\u001B[0m)              │              \u001B[38;5;34m0\u001B[0m │ -                      │\n├───────────────────────────┼────────────────────────┼────────────────┼────────────────────────┤\n│ movieId (\u001B[38;5;33mInputLayer\u001B[0m)      │ (\u001B[38;5;45mNone\u001B[0m, \u001B[38;5;34m1\u001B[0m)              │              \u001B[38;5;34m0\u001B[0m │ -                      │\n├───────────────────────────┼────────────────────────┼────────────────┼────────────────────────┤\n│ gmf_user_emb (\u001B[38;5;33mEmbedding\u001B[0m)  │ (\u001B[38;5;45mNone\u001B[0m, \u001B[38;5;34m1\u001B[0m, \u001B[38;5;34m32\u001B[0m)          │        \u001B[38;5;34m193,280\u001B[0m │ userId[\u001B[38;5;34m0\u001B[0m][\u001B[38;5;34m0\u001B[0m]           │\n├───────────────────────────┼────────────────────────┼────────────────┼────────────────────────┤\n│ gmf_item_emb (\u001B[38;5;33mEmbedding\u001B[0m)  │ (\u001B[38;5;45mNone\u001B[0m, \u001B[38;5;34m1\u001B[0m, \u001B[38;5;34m32\u001B[0m)          │      \u001B[38;5;34m1,443,680\u001B[0m │ movieId[\u001B[38;5;34m0\u001B[0m][\u001B[38;5;34m0\u001B[0m]          │\n├───────────────────────────┼────────────────────────┼────────────────┼────────────────────────┤\n│ gmf_user_vec (\u001B[38;5;33mFlatten\u001B[0m)    │ (\u001B[38;5;45mNone\u001B[0m, \u001B[38;5;34m32\u001B[0m)             │              \u001B[38;5;34m0\u001B[0m │ gmf_user_emb[\u001B[38;5;34m0\u001B[0m][\u001B[38;5;34m0\u001B[0m]     │\n├───────────────────────────┼────────────────────────┼────────────────┼────────────────────────┤\n│ gmf_item_vec (\u001B[38;5;33mFlatten\u001B[0m)    │ (\u001B[38;5;45mNone\u001B[0m, \u001B[38;5;34m32\u001B[0m)             │              \u001B[38;5;34m0\u001B[0m │ gmf_item_emb[\u001B[38;5;34m0\u001B[0m][\u001B[38;5;34m0\u001B[0m]     │\n├───────────────────────────┼────────────────────────┼────────────────┼────────────────────────┤\n│ gmf_user_vec_dropout      │ (\u001B[38;5;45mNone\u001B[0m, \u001B[38;5;34m32\u001B[0m)             │              \u001B[38;5;34m0\u001B[0m │ gmf_user_vec[\u001B[38;5;34m0\u001B[0m][\u001B[38;5;34m0\u001B[0m]     │\n│ (\u001B[38;5;33mDropout\u001B[0m)                 │                        │                │                        │\n├───────────────────────────┼────────────────────────┼────────────────┼────────────────────────┤\n│ gmf_item_vec_dropout      │ (\u001B[38;5;45mNone\u001B[0m, \u001B[38;5;34m32\u001B[0m)             │              \u001B[38;5;34m0\u001B[0m │ gmf_item_vec[\u001B[38;5;34m0\u001B[0m][\u001B[38;5;34m0\u001B[0m]     │\n│ (\u001B[38;5;33mDropout\u001B[0m)                 │                        │                │                        │\n├───────────────────────────┼────────────────────────┼────────────────┼────────────────────────┤\n│ gmf_vector (\u001B[38;5;33mMultiply\u001B[0m)     │ (\u001B[38;5;45mNone\u001B[0m, \u001B[38;5;34m32\u001B[0m)             │              \u001B[38;5;34m0\u001B[0m │ gmf_user_vec_dropout[\u001B[38;5;34m…\u001B[0m │\n│                           │                        │                │ gmf_item_vec_dropout[\u001B[38;5;34m…\u001B[0m │\n├───────────────────────────┼────────────────────────┼────────────────┼────────────────────────┤\n│ prediction (\u001B[38;5;33mDense\u001B[0m)        │ (\u001B[38;5;45mNone\u001B[0m, \u001B[38;5;34m1\u001B[0m)              │             \u001B[38;5;34m33\u001B[0m │ gmf_vector[\u001B[38;5;34m0\u001B[0m][\u001B[38;5;34m0\u001B[0m]       │\n└───────────────────────────┴────────────────────────┴────────────────┴────────────────────────┘\n",
      "text/html": "<pre style=\"white-space:pre;overflow-x:auto;line-height:normal;font-family:Menlo,'DejaVu Sans Mono',consolas,'Courier New',monospace\">┏━━━━━━━━━━━━━━━━━━━━━━━━━━━┳━━━━━━━━━━━━━━━━━━━━━━━━┳━━━━━━━━━━━━━━━━┳━━━━━━━━━━━━━━━━━━━━━━━━┓\n┃<span style=\"font-weight: bold\"> Layer (type)              </span>┃<span style=\"font-weight: bold\"> Output Shape           </span>┃<span style=\"font-weight: bold\">        Param # </span>┃<span style=\"font-weight: bold\"> Connected to           </span>┃\n┡━━━━━━━━━━━━━━━━━━━━━━━━━━━╇━━━━━━━━━━━━━━━━━━━━━━━━╇━━━━━━━━━━━━━━━━╇━━━━━━━━━━━━━━━━━━━━━━━━┩\n│ userId (<span style=\"color: #0087ff; text-decoration-color: #0087ff\">InputLayer</span>)       │ (<span style=\"color: #00d7ff; text-decoration-color: #00d7ff\">None</span>, <span style=\"color: #00af00; text-decoration-color: #00af00\">1</span>)              │              <span style=\"color: #00af00; text-decoration-color: #00af00\">0</span> │ -                      │\n├───────────────────────────┼────────────────────────┼────────────────┼────────────────────────┤\n│ movieId (<span style=\"color: #0087ff; text-decoration-color: #0087ff\">InputLayer</span>)      │ (<span style=\"color: #00d7ff; text-decoration-color: #00d7ff\">None</span>, <span style=\"color: #00af00; text-decoration-color: #00af00\">1</span>)              │              <span style=\"color: #00af00; text-decoration-color: #00af00\">0</span> │ -                      │\n├───────────────────────────┼────────────────────────┼────────────────┼────────────────────────┤\n│ gmf_user_emb (<span style=\"color: #0087ff; text-decoration-color: #0087ff\">Embedding</span>)  │ (<span style=\"color: #00d7ff; text-decoration-color: #00d7ff\">None</span>, <span style=\"color: #00af00; text-decoration-color: #00af00\">1</span>, <span style=\"color: #00af00; text-decoration-color: #00af00\">32</span>)          │        <span style=\"color: #00af00; text-decoration-color: #00af00\">193,280</span> │ userId[<span style=\"color: #00af00; text-decoration-color: #00af00\">0</span>][<span style=\"color: #00af00; text-decoration-color: #00af00\">0</span>]           │\n├───────────────────────────┼────────────────────────┼────────────────┼────────────────────────┤\n│ gmf_item_emb (<span style=\"color: #0087ff; text-decoration-color: #0087ff\">Embedding</span>)  │ (<span style=\"color: #00d7ff; text-decoration-color: #00d7ff\">None</span>, <span style=\"color: #00af00; text-decoration-color: #00af00\">1</span>, <span style=\"color: #00af00; text-decoration-color: #00af00\">32</span>)          │      <span style=\"color: #00af00; text-decoration-color: #00af00\">1,443,680</span> │ movieId[<span style=\"color: #00af00; text-decoration-color: #00af00\">0</span>][<span style=\"color: #00af00; text-decoration-color: #00af00\">0</span>]          │\n├───────────────────────────┼────────────────────────┼────────────────┼────────────────────────┤\n│ gmf_user_vec (<span style=\"color: #0087ff; text-decoration-color: #0087ff\">Flatten</span>)    │ (<span style=\"color: #00d7ff; text-decoration-color: #00d7ff\">None</span>, <span style=\"color: #00af00; text-decoration-color: #00af00\">32</span>)             │              <span style=\"color: #00af00; text-decoration-color: #00af00\">0</span> │ gmf_user_emb[<span style=\"color: #00af00; text-decoration-color: #00af00\">0</span>][<span style=\"color: #00af00; text-decoration-color: #00af00\">0</span>]     │\n├───────────────────────────┼────────────────────────┼────────────────┼────────────────────────┤\n│ gmf_item_vec (<span style=\"color: #0087ff; text-decoration-color: #0087ff\">Flatten</span>)    │ (<span style=\"color: #00d7ff; text-decoration-color: #00d7ff\">None</span>, <span style=\"color: #00af00; text-decoration-color: #00af00\">32</span>)             │              <span style=\"color: #00af00; text-decoration-color: #00af00\">0</span> │ gmf_item_emb[<span style=\"color: #00af00; text-decoration-color: #00af00\">0</span>][<span style=\"color: #00af00; text-decoration-color: #00af00\">0</span>]     │\n├───────────────────────────┼────────────────────────┼────────────────┼────────────────────────┤\n│ gmf_user_vec_dropout      │ (<span style=\"color: #00d7ff; text-decoration-color: #00d7ff\">None</span>, <span style=\"color: #00af00; text-decoration-color: #00af00\">32</span>)             │              <span style=\"color: #00af00; text-decoration-color: #00af00\">0</span> │ gmf_user_vec[<span style=\"color: #00af00; text-decoration-color: #00af00\">0</span>][<span style=\"color: #00af00; text-decoration-color: #00af00\">0</span>]     │\n│ (<span style=\"color: #0087ff; text-decoration-color: #0087ff\">Dropout</span>)                 │                        │                │                        │\n├───────────────────────────┼────────────────────────┼────────────────┼────────────────────────┤\n│ gmf_item_vec_dropout      │ (<span style=\"color: #00d7ff; text-decoration-color: #00d7ff\">None</span>, <span style=\"color: #00af00; text-decoration-color: #00af00\">32</span>)             │              <span style=\"color: #00af00; text-decoration-color: #00af00\">0</span> │ gmf_item_vec[<span style=\"color: #00af00; text-decoration-color: #00af00\">0</span>][<span style=\"color: #00af00; text-decoration-color: #00af00\">0</span>]     │\n│ (<span style=\"color: #0087ff; text-decoration-color: #0087ff\">Dropout</span>)                 │                        │                │                        │\n├───────────────────────────┼────────────────────────┼────────────────┼────────────────────────┤\n│ gmf_vector (<span style=\"color: #0087ff; text-decoration-color: #0087ff\">Multiply</span>)     │ (<span style=\"color: #00d7ff; text-decoration-color: #00d7ff\">None</span>, <span style=\"color: #00af00; text-decoration-color: #00af00\">32</span>)             │              <span style=\"color: #00af00; text-decoration-color: #00af00\">0</span> │ gmf_user_vec_dropout[<span style=\"color: #00af00; text-decoration-color: #00af00\">…</span> │\n│                           │                        │                │ gmf_item_vec_dropout[<span style=\"color: #00af00; text-decoration-color: #00af00\">…</span> │\n├───────────────────────────┼────────────────────────┼────────────────┼────────────────────────┤\n│ prediction (<span style=\"color: #0087ff; text-decoration-color: #0087ff\">Dense</span>)        │ (<span style=\"color: #00d7ff; text-decoration-color: #00d7ff\">None</span>, <span style=\"color: #00af00; text-decoration-color: #00af00\">1</span>)              │             <span style=\"color: #00af00; text-decoration-color: #00af00\">33</span> │ gmf_vector[<span style=\"color: #00af00; text-decoration-color: #00af00\">0</span>][<span style=\"color: #00af00; text-decoration-color: #00af00\">0</span>]       │\n└───────────────────────────┴────────────────────────┴────────────────┴────────────────────────┘\n</pre>\n"
     },
     "metadata": {}
    },
    {
     "output_type": "display_data",
     "data": {
      "text/plain": "\u001B[1m Total params: \u001B[0m\u001B[38;5;34m4,910,981\u001B[0m (18.73 MB)\n",
      "text/html": "<pre style=\"white-space:pre;overflow-x:auto;line-height:normal;font-family:Menlo,'DejaVu Sans Mono',consolas,'Courier New',monospace\"><span style=\"font-weight: bold\"> Total params: </span><span style=\"color: #00af00; text-decoration-color: #00af00\">4,910,981</span> (18.73 MB)\n</pre>\n"
     },
     "metadata": {}
    },
    {
     "output_type": "display_data",
     "data": {
      "text/plain": "\u001B[1m Trainable params: \u001B[0m\u001B[38;5;34m0\u001B[0m (0.00 B)\n",
      "text/html": "<pre style=\"white-space:pre;overflow-x:auto;line-height:normal;font-family:Menlo,'DejaVu Sans Mono',consolas,'Courier New',monospace\"><span style=\"font-weight: bold\"> Trainable params: </span><span style=\"color: #00af00; text-decoration-color: #00af00\">0</span> (0.00 B)\n</pre>\n"
     },
     "metadata": {}
    },
    {
     "output_type": "display_data",
     "data": {
      "text/plain": "\u001B[1m Non-trainable params: \u001B[0m\u001B[38;5;34m1,636,993\u001B[0m (6.24 MB)\n",
      "text/html": "<pre style=\"white-space:pre;overflow-x:auto;line-height:normal;font-family:Menlo,'DejaVu Sans Mono',consolas,'Courier New',monospace\"><span style=\"font-weight: bold\"> Non-trainable params: </span><span style=\"color: #00af00; text-decoration-color: #00af00\">1,636,993</span> (6.24 MB)\n</pre>\n"
     },
     "metadata": {}
    },
    {
     "output_type": "display_data",
     "data": {
      "text/plain": "\u001B[1m Optimizer params: \u001B[0m\u001B[38;5;34m3,273,988\u001B[0m (12.49 MB)\n",
      "text/html": "<pre style=\"white-space:pre;overflow-x:auto;line-height:normal;font-family:Menlo,'DejaVu Sans Mono',consolas,'Courier New',monospace\"><span style=\"font-weight: bold\"> Optimizer params: </span><span style=\"color: #00af00; text-decoration-color: #00af00\">3,273,988</span> (12.49 MB)\n</pre>\n"
     },
     "metadata": {}
    },
    {
     "output_type": "display_data",
     "data": {
      "text/plain": "\u001B[1mModel: \"MLP_two_output\"\u001B[0m\n",
      "text/html": "<pre style=\"white-space:pre;overflow-x:auto;line-height:normal;font-family:Menlo,'DejaVu Sans Mono',consolas,'Courier New',monospace\"><span style=\"font-weight: bold\">Model: \"MLP_two_output\"</span>\n</pre>\n"
     },
     "metadata": {}
    },
    {
     "output_type": "display_data",
     "data": {
      "text/plain": "┏━━━━━━━━━━━━━━━━━━━━━━━━━━━┳━━━━━━━━━━━━━━━━━━━━━━━━┳━━━━━━━━━━━━━━━━┳━━━━━━━━━━━━━━━━━━━━━━━━┓\n┃\u001B[1m \u001B[0m\u001B[1mLayer (type)             \u001B[0m\u001B[1m \u001B[0m┃\u001B[1m \u001B[0m\u001B[1mOutput Shape          \u001B[0m\u001B[1m \u001B[0m┃\u001B[1m \u001B[0m\u001B[1m       Param #\u001B[0m\u001B[1m \u001B[0m┃\u001B[1m \u001B[0m\u001B[1mConnected to          \u001B[0m\u001B[1m \u001B[0m┃\n┡━━━━━━━━━━━━━━━━━━━━━━━━━━━╇━━━━━━━━━━━━━━━━━━━━━━━━╇━━━━━━━━━━━━━━━━╇━━━━━━━━━━━━━━━━━━━━━━━━┩\n│ userId (\u001B[38;5;33mInputLayer\u001B[0m)       │ (\u001B[38;5;45mNone\u001B[0m, \u001B[38;5;34m1\u001B[0m)              │              \u001B[38;5;34m0\u001B[0m │ -                      │\n├───────────────────────────┼────────────────────────┼────────────────┼────────────────────────┤\n│ movieId (\u001B[38;5;33mInputLayer\u001B[0m)      │ (\u001B[38;5;45mNone\u001B[0m, \u001B[38;5;34m1\u001B[0m)              │              \u001B[38;5;34m0\u001B[0m │ -                      │\n├───────────────────────────┼────────────────────────┼────────────────┼────────────────────────┤\n│ mlp_user_emb (\u001B[38;5;33mEmbedding\u001B[0m)  │ (\u001B[38;5;45mNone\u001B[0m, \u001B[38;5;34m1\u001B[0m, \u001B[38;5;34m32\u001B[0m)          │        \u001B[38;5;34m193,280\u001B[0m │ userId[\u001B[38;5;34m0\u001B[0m][\u001B[38;5;34m0\u001B[0m]           │\n├───────────────────────────┼────────────────────────┼────────────────┼────────────────────────┤\n│ mlp_item_emb (\u001B[38;5;33mEmbedding\u001B[0m)  │ (\u001B[38;5;45mNone\u001B[0m, \u001B[38;5;34m1\u001B[0m, \u001B[38;5;34m32\u001B[0m)          │      \u001B[38;5;34m1,443,680\u001B[0m │ movieId[\u001B[38;5;34m0\u001B[0m][\u001B[38;5;34m0\u001B[0m]          │\n├───────────────────────────┼────────────────────────┼────────────────┼────────────────────────┤\n│ mlp_user_vec (\u001B[38;5;33mFlatten\u001B[0m)    │ (\u001B[38;5;45mNone\u001B[0m, \u001B[38;5;34m32\u001B[0m)             │              \u001B[38;5;34m0\u001B[0m │ mlp_user_emb[\u001B[38;5;34m0\u001B[0m][\u001B[38;5;34m0\u001B[0m]     │\n├───────────────────────────┼────────────────────────┼────────────────┼────────────────────────┤\n│ mlp_item_vec (\u001B[38;5;33mFlatten\u001B[0m)    │ (\u001B[38;5;45mNone\u001B[0m, \u001B[38;5;34m32\u001B[0m)             │              \u001B[38;5;34m0\u001B[0m │ mlp_item_emb[\u001B[38;5;34m0\u001B[0m][\u001B[38;5;34m0\u001B[0m]     │\n├───────────────────────────┼────────────────────────┼────────────────┼────────────────────────┤\n│ mlp_user_vec_dropout      │ (\u001B[38;5;45mNone\u001B[0m, \u001B[38;5;34m32\u001B[0m)             │              \u001B[38;5;34m0\u001B[0m │ mlp_user_vec[\u001B[38;5;34m0\u001B[0m][\u001B[38;5;34m0\u001B[0m]     │\n│ (\u001B[38;5;33mDropout\u001B[0m)                 │                        │                │                        │\n├───────────────────────────┼────────────────────────┼────────────────┼────────────────────────┤\n│ mlp_item_vec_dropout      │ (\u001B[38;5;45mNone\u001B[0m, \u001B[38;5;34m32\u001B[0m)             │              \u001B[38;5;34m0\u001B[0m │ mlp_item_vec[\u001B[38;5;34m0\u001B[0m][\u001B[38;5;34m0\u001B[0m]     │\n│ (\u001B[38;5;33mDropout\u001B[0m)                 │                        │                │                        │\n├───────────────────────────┼────────────────────────┼────────────────┼────────────────────────┤\n│ mlp_vector (\u001B[38;5;33mConcatenate\u001B[0m)  │ (\u001B[38;5;45mNone\u001B[0m, \u001B[38;5;34m64\u001B[0m)             │              \u001B[38;5;34m0\u001B[0m │ mlp_user_vec_dropout[\u001B[38;5;34m…\u001B[0m │\n│                           │                        │                │ mlp_item_vec_dropout[\u001B[38;5;34m…\u001B[0m │\n├───────────────────────────┼────────────────────────┼────────────────┼────────────────────────┤\n│ dense_8 (\u001B[38;5;33mDense\u001B[0m)           │ (\u001B[38;5;45mNone\u001B[0m, \u001B[38;5;34m128\u001B[0m)            │          \u001B[38;5;34m8,320\u001B[0m │ mlp_vector[\u001B[38;5;34m0\u001B[0m][\u001B[38;5;34m0\u001B[0m]       │\n├───────────────────────────┼────────────────────────┼────────────────┼────────────────────────┤\n│ activation_6 (\u001B[38;5;33mActivation\u001B[0m) │ (\u001B[38;5;45mNone\u001B[0m, \u001B[38;5;34m128\u001B[0m)            │              \u001B[38;5;34m0\u001B[0m │ dense_8[\u001B[38;5;34m0\u001B[0m][\u001B[38;5;34m0\u001B[0m]          │\n├───────────────────────────┼────────────────────────┼────────────────┼────────────────────────┤\n│ dropout_6 (\u001B[38;5;33mDropout\u001B[0m)       │ (\u001B[38;5;45mNone\u001B[0m, \u001B[38;5;34m128\u001B[0m)            │              \u001B[38;5;34m0\u001B[0m │ activation_6[\u001B[38;5;34m0\u001B[0m][\u001B[38;5;34m0\u001B[0m]     │\n├───────────────────────────┼────────────────────────┼────────────────┼────────────────────────┤\n│ dense_9 (\u001B[38;5;33mDense\u001B[0m)           │ (\u001B[38;5;45mNone\u001B[0m, \u001B[38;5;34m64\u001B[0m)             │          \u001B[38;5;34m8,256\u001B[0m │ dropout_6[\u001B[38;5;34m0\u001B[0m][\u001B[38;5;34m0\u001B[0m]        │\n├───────────────────────────┼────────────────────────┼────────────────┼────────────────────────┤\n│ activation_7 (\u001B[38;5;33mActivation\u001B[0m) │ (\u001B[38;5;45mNone\u001B[0m, \u001B[38;5;34m64\u001B[0m)             │              \u001B[38;5;34m0\u001B[0m │ dense_9[\u001B[38;5;34m0\u001B[0m][\u001B[38;5;34m0\u001B[0m]          │\n├───────────────────────────┼────────────────────────┼────────────────┼────────────────────────┤\n│ dropout_7 (\u001B[38;5;33mDropout\u001B[0m)       │ (\u001B[38;5;45mNone\u001B[0m, \u001B[38;5;34m64\u001B[0m)             │              \u001B[38;5;34m0\u001B[0m │ activation_7[\u001B[38;5;34m0\u001B[0m][\u001B[38;5;34m0\u001B[0m]     │\n├───────────────────────────┼────────────────────────┼────────────────┼────────────────────────┤\n│ dense_10 (\u001B[38;5;33mDense\u001B[0m)          │ (\u001B[38;5;45mNone\u001B[0m, \u001B[38;5;34m32\u001B[0m)             │          \u001B[38;5;34m2,080\u001B[0m │ dropout_7[\u001B[38;5;34m0\u001B[0m][\u001B[38;5;34m0\u001B[0m]        │\n├───────────────────────────┼────────────────────────┼────────────────┼────────────────────────┤\n│ activation_8 (\u001B[38;5;33mActivation\u001B[0m) │ (\u001B[38;5;45mNone\u001B[0m, \u001B[38;5;34m32\u001B[0m)             │              \u001B[38;5;34m0\u001B[0m │ dense_10[\u001B[38;5;34m0\u001B[0m][\u001B[38;5;34m0\u001B[0m]         │\n├───────────────────────────┼────────────────────────┼────────────────┼────────────────────────┤\n│ dropout_8 (\u001B[38;5;33mDropout\u001B[0m)       │ (\u001B[38;5;45mNone\u001B[0m, \u001B[38;5;34m32\u001B[0m)             │              \u001B[38;5;34m0\u001B[0m │ activation_8[\u001B[38;5;34m0\u001B[0m][\u001B[38;5;34m0\u001B[0m]     │\n├───────────────────────────┼────────────────────────┼────────────────┼────────────────────────┤\n│ dense_11 (\u001B[38;5;33mDense\u001B[0m)          │ (\u001B[38;5;45mNone\u001B[0m, \u001B[38;5;34m1\u001B[0m)              │             \u001B[38;5;34m33\u001B[0m │ dropout_8[\u001B[38;5;34m0\u001B[0m][\u001B[38;5;34m0\u001B[0m]        │\n└───────────────────────────┴────────────────────────┴────────────────┴────────────────────────┘\n",
      "text/html": "<pre style=\"white-space:pre;overflow-x:auto;line-height:normal;font-family:Menlo,'DejaVu Sans Mono',consolas,'Courier New',monospace\">┏━━━━━━━━━━━━━━━━━━━━━━━━━━━┳━━━━━━━━━━━━━━━━━━━━━━━━┳━━━━━━━━━━━━━━━━┳━━━━━━━━━━━━━━━━━━━━━━━━┓\n┃<span style=\"font-weight: bold\"> Layer (type)              </span>┃<span style=\"font-weight: bold\"> Output Shape           </span>┃<span style=\"font-weight: bold\">        Param # </span>┃<span style=\"font-weight: bold\"> Connected to           </span>┃\n┡━━━━━━━━━━━━━━━━━━━━━━━━━━━╇━━━━━━━━━━━━━━━━━━━━━━━━╇━━━━━━━━━━━━━━━━╇━━━━━━━━━━━━━━━━━━━━━━━━┩\n│ userId (<span style=\"color: #0087ff; text-decoration-color: #0087ff\">InputLayer</span>)       │ (<span style=\"color: #00d7ff; text-decoration-color: #00d7ff\">None</span>, <span style=\"color: #00af00; text-decoration-color: #00af00\">1</span>)              │              <span style=\"color: #00af00; text-decoration-color: #00af00\">0</span> │ -                      │\n├───────────────────────────┼────────────────────────┼────────────────┼────────────────────────┤\n│ movieId (<span style=\"color: #0087ff; text-decoration-color: #0087ff\">InputLayer</span>)      │ (<span style=\"color: #00d7ff; text-decoration-color: #00d7ff\">None</span>, <span style=\"color: #00af00; text-decoration-color: #00af00\">1</span>)              │              <span style=\"color: #00af00; text-decoration-color: #00af00\">0</span> │ -                      │\n├───────────────────────────┼────────────────────────┼────────────────┼────────────────────────┤\n│ mlp_user_emb (<span style=\"color: #0087ff; text-decoration-color: #0087ff\">Embedding</span>)  │ (<span style=\"color: #00d7ff; text-decoration-color: #00d7ff\">None</span>, <span style=\"color: #00af00; text-decoration-color: #00af00\">1</span>, <span style=\"color: #00af00; text-decoration-color: #00af00\">32</span>)          │        <span style=\"color: #00af00; text-decoration-color: #00af00\">193,280</span> │ userId[<span style=\"color: #00af00; text-decoration-color: #00af00\">0</span>][<span style=\"color: #00af00; text-decoration-color: #00af00\">0</span>]           │\n├───────────────────────────┼────────────────────────┼────────────────┼────────────────────────┤\n│ mlp_item_emb (<span style=\"color: #0087ff; text-decoration-color: #0087ff\">Embedding</span>)  │ (<span style=\"color: #00d7ff; text-decoration-color: #00d7ff\">None</span>, <span style=\"color: #00af00; text-decoration-color: #00af00\">1</span>, <span style=\"color: #00af00; text-decoration-color: #00af00\">32</span>)          │      <span style=\"color: #00af00; text-decoration-color: #00af00\">1,443,680</span> │ movieId[<span style=\"color: #00af00; text-decoration-color: #00af00\">0</span>][<span style=\"color: #00af00; text-decoration-color: #00af00\">0</span>]          │\n├───────────────────────────┼────────────────────────┼────────────────┼────────────────────────┤\n│ mlp_user_vec (<span style=\"color: #0087ff; text-decoration-color: #0087ff\">Flatten</span>)    │ (<span style=\"color: #00d7ff; text-decoration-color: #00d7ff\">None</span>, <span style=\"color: #00af00; text-decoration-color: #00af00\">32</span>)             │              <span style=\"color: #00af00; text-decoration-color: #00af00\">0</span> │ mlp_user_emb[<span style=\"color: #00af00; text-decoration-color: #00af00\">0</span>][<span style=\"color: #00af00; text-decoration-color: #00af00\">0</span>]     │\n├───────────────────────────┼────────────────────────┼────────────────┼────────────────────────┤\n│ mlp_item_vec (<span style=\"color: #0087ff; text-decoration-color: #0087ff\">Flatten</span>)    │ (<span style=\"color: #00d7ff; text-decoration-color: #00d7ff\">None</span>, <span style=\"color: #00af00; text-decoration-color: #00af00\">32</span>)             │              <span style=\"color: #00af00; text-decoration-color: #00af00\">0</span> │ mlp_item_emb[<span style=\"color: #00af00; text-decoration-color: #00af00\">0</span>][<span style=\"color: #00af00; text-decoration-color: #00af00\">0</span>]     │\n├───────────────────────────┼────────────────────────┼────────────────┼────────────────────────┤\n│ mlp_user_vec_dropout      │ (<span style=\"color: #00d7ff; text-decoration-color: #00d7ff\">None</span>, <span style=\"color: #00af00; text-decoration-color: #00af00\">32</span>)             │              <span style=\"color: #00af00; text-decoration-color: #00af00\">0</span> │ mlp_user_vec[<span style=\"color: #00af00; text-decoration-color: #00af00\">0</span>][<span style=\"color: #00af00; text-decoration-color: #00af00\">0</span>]     │\n│ (<span style=\"color: #0087ff; text-decoration-color: #0087ff\">Dropout</span>)                 │                        │                │                        │\n├───────────────────────────┼────────────────────────┼────────────────┼────────────────────────┤\n│ mlp_item_vec_dropout      │ (<span style=\"color: #00d7ff; text-decoration-color: #00d7ff\">None</span>, <span style=\"color: #00af00; text-decoration-color: #00af00\">32</span>)             │              <span style=\"color: #00af00; text-decoration-color: #00af00\">0</span> │ mlp_item_vec[<span style=\"color: #00af00; text-decoration-color: #00af00\">0</span>][<span style=\"color: #00af00; text-decoration-color: #00af00\">0</span>]     │\n│ (<span style=\"color: #0087ff; text-decoration-color: #0087ff\">Dropout</span>)                 │                        │                │                        │\n├───────────────────────────┼────────────────────────┼────────────────┼────────────────────────┤\n│ mlp_vector (<span style=\"color: #0087ff; text-decoration-color: #0087ff\">Concatenate</span>)  │ (<span style=\"color: #00d7ff; text-decoration-color: #00d7ff\">None</span>, <span style=\"color: #00af00; text-decoration-color: #00af00\">64</span>)             │              <span style=\"color: #00af00; text-decoration-color: #00af00\">0</span> │ mlp_user_vec_dropout[<span style=\"color: #00af00; text-decoration-color: #00af00\">…</span> │\n│                           │                        │                │ mlp_item_vec_dropout[<span style=\"color: #00af00; text-decoration-color: #00af00\">…</span> │\n├───────────────────────────┼────────────────────────┼────────────────┼────────────────────────┤\n│ dense_8 (<span style=\"color: #0087ff; text-decoration-color: #0087ff\">Dense</span>)           │ (<span style=\"color: #00d7ff; text-decoration-color: #00d7ff\">None</span>, <span style=\"color: #00af00; text-decoration-color: #00af00\">128</span>)            │          <span style=\"color: #00af00; text-decoration-color: #00af00\">8,320</span> │ mlp_vector[<span style=\"color: #00af00; text-decoration-color: #00af00\">0</span>][<span style=\"color: #00af00; text-decoration-color: #00af00\">0</span>]       │\n├───────────────────────────┼────────────────────────┼────────────────┼────────────────────────┤\n│ activation_6 (<span style=\"color: #0087ff; text-decoration-color: #0087ff\">Activation</span>) │ (<span style=\"color: #00d7ff; text-decoration-color: #00d7ff\">None</span>, <span style=\"color: #00af00; text-decoration-color: #00af00\">128</span>)            │              <span style=\"color: #00af00; text-decoration-color: #00af00\">0</span> │ dense_8[<span style=\"color: #00af00; text-decoration-color: #00af00\">0</span>][<span style=\"color: #00af00; text-decoration-color: #00af00\">0</span>]          │\n├───────────────────────────┼────────────────────────┼────────────────┼────────────────────────┤\n│ dropout_6 (<span style=\"color: #0087ff; text-decoration-color: #0087ff\">Dropout</span>)       │ (<span style=\"color: #00d7ff; text-decoration-color: #00d7ff\">None</span>, <span style=\"color: #00af00; text-decoration-color: #00af00\">128</span>)            │              <span style=\"color: #00af00; text-decoration-color: #00af00\">0</span> │ activation_6[<span style=\"color: #00af00; text-decoration-color: #00af00\">0</span>][<span style=\"color: #00af00; text-decoration-color: #00af00\">0</span>]     │\n├───────────────────────────┼────────────────────────┼────────────────┼────────────────────────┤\n│ dense_9 (<span style=\"color: #0087ff; text-decoration-color: #0087ff\">Dense</span>)           │ (<span style=\"color: #00d7ff; text-decoration-color: #00d7ff\">None</span>, <span style=\"color: #00af00; text-decoration-color: #00af00\">64</span>)             │          <span style=\"color: #00af00; text-decoration-color: #00af00\">8,256</span> │ dropout_6[<span style=\"color: #00af00; text-decoration-color: #00af00\">0</span>][<span style=\"color: #00af00; text-decoration-color: #00af00\">0</span>]        │\n├───────────────────────────┼────────────────────────┼────────────────┼────────────────────────┤\n│ activation_7 (<span style=\"color: #0087ff; text-decoration-color: #0087ff\">Activation</span>) │ (<span style=\"color: #00d7ff; text-decoration-color: #00d7ff\">None</span>, <span style=\"color: #00af00; text-decoration-color: #00af00\">64</span>)             │              <span style=\"color: #00af00; text-decoration-color: #00af00\">0</span> │ dense_9[<span style=\"color: #00af00; text-decoration-color: #00af00\">0</span>][<span style=\"color: #00af00; text-decoration-color: #00af00\">0</span>]          │\n├───────────────────────────┼────────────────────────┼────────────────┼────────────────────────┤\n│ dropout_7 (<span style=\"color: #0087ff; text-decoration-color: #0087ff\">Dropout</span>)       │ (<span style=\"color: #00d7ff; text-decoration-color: #00d7ff\">None</span>, <span style=\"color: #00af00; text-decoration-color: #00af00\">64</span>)             │              <span style=\"color: #00af00; text-decoration-color: #00af00\">0</span> │ activation_7[<span style=\"color: #00af00; text-decoration-color: #00af00\">0</span>][<span style=\"color: #00af00; text-decoration-color: #00af00\">0</span>]     │\n├───────────────────────────┼────────────────────────┼────────────────┼────────────────────────┤\n│ dense_10 (<span style=\"color: #0087ff; text-decoration-color: #0087ff\">Dense</span>)          │ (<span style=\"color: #00d7ff; text-decoration-color: #00d7ff\">None</span>, <span style=\"color: #00af00; text-decoration-color: #00af00\">32</span>)             │          <span style=\"color: #00af00; text-decoration-color: #00af00\">2,080</span> │ dropout_7[<span style=\"color: #00af00; text-decoration-color: #00af00\">0</span>][<span style=\"color: #00af00; text-decoration-color: #00af00\">0</span>]        │\n├───────────────────────────┼────────────────────────┼────────────────┼────────────────────────┤\n│ activation_8 (<span style=\"color: #0087ff; text-decoration-color: #0087ff\">Activation</span>) │ (<span style=\"color: #00d7ff; text-decoration-color: #00d7ff\">None</span>, <span style=\"color: #00af00; text-decoration-color: #00af00\">32</span>)             │              <span style=\"color: #00af00; text-decoration-color: #00af00\">0</span> │ dense_10[<span style=\"color: #00af00; text-decoration-color: #00af00\">0</span>][<span style=\"color: #00af00; text-decoration-color: #00af00\">0</span>]         │\n├───────────────────────────┼────────────────────────┼────────────────┼────────────────────────┤\n│ dropout_8 (<span style=\"color: #0087ff; text-decoration-color: #0087ff\">Dropout</span>)       │ (<span style=\"color: #00d7ff; text-decoration-color: #00d7ff\">None</span>, <span style=\"color: #00af00; text-decoration-color: #00af00\">32</span>)             │              <span style=\"color: #00af00; text-decoration-color: #00af00\">0</span> │ activation_8[<span style=\"color: #00af00; text-decoration-color: #00af00\">0</span>][<span style=\"color: #00af00; text-decoration-color: #00af00\">0</span>]     │\n├───────────────────────────┼────────────────────────┼────────────────┼────────────────────────┤\n│ dense_11 (<span style=\"color: #0087ff; text-decoration-color: #0087ff\">Dense</span>)          │ (<span style=\"color: #00d7ff; text-decoration-color: #00d7ff\">None</span>, <span style=\"color: #00af00; text-decoration-color: #00af00\">1</span>)              │             <span style=\"color: #00af00; text-decoration-color: #00af00\">33</span> │ dropout_8[<span style=\"color: #00af00; text-decoration-color: #00af00\">0</span>][<span style=\"color: #00af00; text-decoration-color: #00af00\">0</span>]        │\n└───────────────────────────┴────────────────────────┴────────────────┴────────────────────────┘\n</pre>\n"
     },
     "metadata": {}
    },
    {
     "output_type": "display_data",
     "data": {
      "text/plain": "\u001B[1m Total params: \u001B[0m\u001B[38;5;34m4,966,949\u001B[0m (18.95 MB)\n",
      "text/html": "<pre style=\"white-space:pre;overflow-x:auto;line-height:normal;font-family:Menlo,'DejaVu Sans Mono',consolas,'Courier New',monospace\"><span style=\"font-weight: bold\"> Total params: </span><span style=\"color: #00af00; text-decoration-color: #00af00\">4,966,949</span> (18.95 MB)\n</pre>\n"
     },
     "metadata": {}
    },
    {
     "output_type": "display_data",
     "data": {
      "text/plain": "\u001B[1m Trainable params: \u001B[0m\u001B[38;5;34m0\u001B[0m (0.00 B)\n",
      "text/html": "<pre style=\"white-space:pre;overflow-x:auto;line-height:normal;font-family:Menlo,'DejaVu Sans Mono',consolas,'Courier New',monospace\"><span style=\"font-weight: bold\"> Trainable params: </span><span style=\"color: #00af00; text-decoration-color: #00af00\">0</span> (0.00 B)\n</pre>\n"
     },
     "metadata": {}
    },
    {
     "output_type": "display_data",
     "data": {
      "text/plain": "\u001B[1m Non-trainable params: \u001B[0m\u001B[38;5;34m1,655,649\u001B[0m (6.32 MB)\n",
      "text/html": "<pre style=\"white-space:pre;overflow-x:auto;line-height:normal;font-family:Menlo,'DejaVu Sans Mono',consolas,'Courier New',monospace\"><span style=\"font-weight: bold\"> Non-trainable params: </span><span style=\"color: #00af00; text-decoration-color: #00af00\">1,655,649</span> (6.32 MB)\n</pre>\n"
     },
     "metadata": {}
    },
    {
     "output_type": "display_data",
     "data": {
      "text/plain": "\u001B[1m Optimizer params: \u001B[0m\u001B[38;5;34m3,311,300\u001B[0m (12.63 MB)\n",
      "text/html": "<pre style=\"white-space:pre;overflow-x:auto;line-height:normal;font-family:Menlo,'DejaVu Sans Mono',consolas,'Courier New',monospace\"><span style=\"font-weight: bold\"> Optimizer params: </span><span style=\"color: #00af00; text-decoration-color: #00af00\">3,311,300</span> (12.63 MB)\n</pre>\n"
     },
     "metadata": {}
    },
    {
     "output_type": "display_data",
     "data": {
      "text/plain": "\u001B[1mModel: \"NeuMF\"\u001B[0m\n",
      "text/html": "<pre style=\"white-space:pre;overflow-x:auto;line-height:normal;font-family:Menlo,'DejaVu Sans Mono',consolas,'Courier New',monospace\"><span style=\"font-weight: bold\">Model: \"NeuMF\"</span>\n</pre>\n"
     },
     "metadata": {}
    },
    {
     "output_type": "display_data",
     "data": {
      "text/plain": "┏━━━━━━━━━━━━━━━━━━━━━━━━━━━┳━━━━━━━━━━━━━━━━━━━━━━━━┳━━━━━━━━━━━━━━━━┳━━━━━━━━━━━━━━━━━━━━━━━━┓\n┃\u001B[1m \u001B[0m\u001B[1mLayer (type)             \u001B[0m\u001B[1m \u001B[0m┃\u001B[1m \u001B[0m\u001B[1mOutput Shape          \u001B[0m\u001B[1m \u001B[0m┃\u001B[1m \u001B[0m\u001B[1m       Param #\u001B[0m\u001B[1m \u001B[0m┃\u001B[1m \u001B[0m\u001B[1mConnected to          \u001B[0m\u001B[1m \u001B[0m┃\n┡━━━━━━━━━━━━━━━━━━━━━━━━━━━╇━━━━━━━━━━━━━━━━━━━━━━━━╇━━━━━━━━━━━━━━━━╇━━━━━━━━━━━━━━━━━━━━━━━━┩\n│ userId (\u001B[38;5;33mInputLayer\u001B[0m)       │ (\u001B[38;5;45mNone\u001B[0m, \u001B[38;5;34m1\u001B[0m)              │              \u001B[38;5;34m0\u001B[0m │ -                      │\n├───────────────────────────┼────────────────────────┼────────────────┼────────────────────────┤\n│ movieId (\u001B[38;5;33mInputLayer\u001B[0m)      │ (\u001B[38;5;45mNone\u001B[0m, \u001B[38;5;34m1\u001B[0m)              │              \u001B[38;5;34m0\u001B[0m │ -                      │\n├───────────────────────────┼────────────────────────┼────────────────┼────────────────────────┤\n│ GMF_two_output            │ [(\u001B[38;5;45mNone\u001B[0m, \u001B[38;5;34m32\u001B[0m), (\u001B[38;5;45mNone\u001B[0m,    │      \u001B[38;5;34m1,636,993\u001B[0m │ userId[\u001B[38;5;34m0\u001B[0m][\u001B[38;5;34m0\u001B[0m],          │\n│ (\u001B[38;5;33mFunctional\u001B[0m)              │ \u001B[38;5;34m1\u001B[0m)]                    │                │ movieId[\u001B[38;5;34m0\u001B[0m][\u001B[38;5;34m0\u001B[0m]          │\n├───────────────────────────┼────────────────────────┼────────────────┼────────────────────────┤\n│ MLP_two_output            │ [(\u001B[38;5;45mNone\u001B[0m, \u001B[38;5;34m32\u001B[0m), (\u001B[38;5;45mNone\u001B[0m,    │      \u001B[38;5;34m1,655,649\u001B[0m │ userId[\u001B[38;5;34m0\u001B[0m][\u001B[38;5;34m0\u001B[0m],          │\n│ (\u001B[38;5;33mFunctional\u001B[0m)              │ \u001B[38;5;34m1\u001B[0m)]                    │                │ movieId[\u001B[38;5;34m0\u001B[0m][\u001B[38;5;34m0\u001B[0m]          │\n├───────────────────────────┼────────────────────────┼────────────────┼────────────────────────┤\n│ dropout (\u001B[38;5;33mDropout\u001B[0m)         │ (\u001B[38;5;45mNone\u001B[0m, \u001B[38;5;34m32\u001B[0m)             │              \u001B[38;5;34m0\u001B[0m │ GMF_two_output[\u001B[38;5;34m126\u001B[0m][\u001B[38;5;34m0\u001B[0m] │\n├───────────────────────────┼────────────────────────┼────────────────┼────────────────────────┤\n│ dropout_1 (\u001B[38;5;33mDropout\u001B[0m)       │ (\u001B[38;5;45mNone\u001B[0m, \u001B[38;5;34m32\u001B[0m)             │              \u001B[38;5;34m0\u001B[0m │ MLP_two_output[\u001B[38;5;34m126\u001B[0m][\u001B[38;5;34m0\u001B[0m] │\n├───────────────────────────┼────────────────────────┼────────────────┼────────────────────────┤\n│ user_bias (\u001B[38;5;33mEmbedding\u001B[0m)     │ (\u001B[38;5;45mNone\u001B[0m, \u001B[38;5;34m1\u001B[0m, \u001B[38;5;34m1\u001B[0m)           │          \u001B[38;5;34m6,040\u001B[0m │ userId[\u001B[38;5;34m0\u001B[0m][\u001B[38;5;34m0\u001B[0m]           │\n├───────────────────────────┼────────────────────────┼────────────────┼────────────────────────┤\n│ item_bias (\u001B[38;5;33mEmbedding\u001B[0m)     │ (\u001B[38;5;45mNone\u001B[0m, \u001B[38;5;34m1\u001B[0m, \u001B[38;5;34m1\u001B[0m)           │         \u001B[38;5;34m45,115\u001B[0m │ movieId[\u001B[38;5;34m0\u001B[0m][\u001B[38;5;34m0\u001B[0m]          │\n├───────────────────────────┼────────────────────────┼────────────────┼────────────────────────┤\n│ fusion (\u001B[38;5;33mConcatenate\u001B[0m)      │ (\u001B[38;5;45mNone\u001B[0m, \u001B[38;5;34m64\u001B[0m)             │              \u001B[38;5;34m0\u001B[0m │ dropout[\u001B[38;5;34m0\u001B[0m][\u001B[38;5;34m0\u001B[0m],         │\n│                           │                        │                │ dropout_1[\u001B[38;5;34m0\u001B[0m][\u001B[38;5;34m0\u001B[0m]        │\n├───────────────────────────┼────────────────────────┼────────────────┼────────────────────────┤\n│ user_bias_flat (\u001B[38;5;33mFlatten\u001B[0m)  │ (\u001B[38;5;45mNone\u001B[0m, \u001B[38;5;34m1\u001B[0m)              │              \u001B[38;5;34m0\u001B[0m │ user_bias[\u001B[38;5;34m0\u001B[0m][\u001B[38;5;34m0\u001B[0m]        │\n├───────────────────────────┼────────────────────────┼────────────────┼────────────────────────┤\n│ item_bias_flat (\u001B[38;5;33mFlatten\u001B[0m)  │ (\u001B[38;5;45mNone\u001B[0m, \u001B[38;5;34m1\u001B[0m)              │              \u001B[38;5;34m0\u001B[0m │ item_bias[\u001B[38;5;34m0\u001B[0m][\u001B[38;5;34m0\u001B[0m]        │\n├───────────────────────────┼────────────────────────┼────────────────┼────────────────────────┤\n│ raw_score (\u001B[38;5;33mDense\u001B[0m)         │ (\u001B[38;5;45mNone\u001B[0m, \u001B[38;5;34m1\u001B[0m)              │             \u001B[38;5;34m64\u001B[0m │ fusion[\u001B[38;5;34m0\u001B[0m][\u001B[38;5;34m0\u001B[0m]           │\n├───────────────────────────┼────────────────────────┼────────────────┼────────────────────────┤\n│ bias_add (\u001B[38;5;33mAdd\u001B[0m)            │ (\u001B[38;5;45mNone\u001B[0m, \u001B[38;5;34m1\u001B[0m)              │              \u001B[38;5;34m0\u001B[0m │ user_bias_flat[\u001B[38;5;34m0\u001B[0m][\u001B[38;5;34m0\u001B[0m],  │\n│                           │                        │                │ item_bias_flat[\u001B[38;5;34m0\u001B[0m][\u001B[38;5;34m0\u001B[0m]   │\n├───────────────────────────┼────────────────────────┼────────────────┼────────────────────────┤\n│ prediction (\u001B[38;5;33mAdd\u001B[0m)          │ (\u001B[38;5;45mNone\u001B[0m, \u001B[38;5;34m1\u001B[0m)              │              \u001B[38;5;34m0\u001B[0m │ raw_score[\u001B[38;5;34m0\u001B[0m][\u001B[38;5;34m0\u001B[0m],       │\n│                           │                        │                │ bias_add[\u001B[38;5;34m0\u001B[0m][\u001B[38;5;34m0\u001B[0m]         │\n└───────────────────────────┴────────────────────────┴────────────────┴────────────────────────┘\n",
      "text/html": "<pre style=\"white-space:pre;overflow-x:auto;line-height:normal;font-family:Menlo,'DejaVu Sans Mono',consolas,'Courier New',monospace\">┏━━━━━━━━━━━━━━━━━━━━━━━━━━━┳━━━━━━━━━━━━━━━━━━━━━━━━┳━━━━━━━━━━━━━━━━┳━━━━━━━━━━━━━━━━━━━━━━━━┓\n┃<span style=\"font-weight: bold\"> Layer (type)              </span>┃<span style=\"font-weight: bold\"> Output Shape           </span>┃<span style=\"font-weight: bold\">        Param # </span>┃<span style=\"font-weight: bold\"> Connected to           </span>┃\n┡━━━━━━━━━━━━━━━━━━━━━━━━━━━╇━━━━━━━━━━━━━━━━━━━━━━━━╇━━━━━━━━━━━━━━━━╇━━━━━━━━━━━━━━━━━━━━━━━━┩\n│ userId (<span style=\"color: #0087ff; text-decoration-color: #0087ff\">InputLayer</span>)       │ (<span style=\"color: #00d7ff; text-decoration-color: #00d7ff\">None</span>, <span style=\"color: #00af00; text-decoration-color: #00af00\">1</span>)              │              <span style=\"color: #00af00; text-decoration-color: #00af00\">0</span> │ -                      │\n├───────────────────────────┼────────────────────────┼────────────────┼────────────────────────┤\n│ movieId (<span style=\"color: #0087ff; text-decoration-color: #0087ff\">InputLayer</span>)      │ (<span style=\"color: #00d7ff; text-decoration-color: #00d7ff\">None</span>, <span style=\"color: #00af00; text-decoration-color: #00af00\">1</span>)              │              <span style=\"color: #00af00; text-decoration-color: #00af00\">0</span> │ -                      │\n├───────────────────────────┼────────────────────────┼────────────────┼────────────────────────┤\n│ GMF_two_output            │ [(<span style=\"color: #00d7ff; text-decoration-color: #00d7ff\">None</span>, <span style=\"color: #00af00; text-decoration-color: #00af00\">32</span>), (<span style=\"color: #00d7ff; text-decoration-color: #00d7ff\">None</span>,    │      <span style=\"color: #00af00; text-decoration-color: #00af00\">1,636,993</span> │ userId[<span style=\"color: #00af00; text-decoration-color: #00af00\">0</span>][<span style=\"color: #00af00; text-decoration-color: #00af00\">0</span>],          │\n│ (<span style=\"color: #0087ff; text-decoration-color: #0087ff\">Functional</span>)              │ <span style=\"color: #00af00; text-decoration-color: #00af00\">1</span>)]                    │                │ movieId[<span style=\"color: #00af00; text-decoration-color: #00af00\">0</span>][<span style=\"color: #00af00; text-decoration-color: #00af00\">0</span>]          │\n├───────────────────────────┼────────────────────────┼────────────────┼────────────────────────┤\n│ MLP_two_output            │ [(<span style=\"color: #00d7ff; text-decoration-color: #00d7ff\">None</span>, <span style=\"color: #00af00; text-decoration-color: #00af00\">32</span>), (<span style=\"color: #00d7ff; text-decoration-color: #00d7ff\">None</span>,    │      <span style=\"color: #00af00; text-decoration-color: #00af00\">1,655,649</span> │ userId[<span style=\"color: #00af00; text-decoration-color: #00af00\">0</span>][<span style=\"color: #00af00; text-decoration-color: #00af00\">0</span>],          │\n│ (<span style=\"color: #0087ff; text-decoration-color: #0087ff\">Functional</span>)              │ <span style=\"color: #00af00; text-decoration-color: #00af00\">1</span>)]                    │                │ movieId[<span style=\"color: #00af00; text-decoration-color: #00af00\">0</span>][<span style=\"color: #00af00; text-decoration-color: #00af00\">0</span>]          │\n├───────────────────────────┼────────────────────────┼────────────────┼────────────────────────┤\n│ dropout (<span style=\"color: #0087ff; text-decoration-color: #0087ff\">Dropout</span>)         │ (<span style=\"color: #00d7ff; text-decoration-color: #00d7ff\">None</span>, <span style=\"color: #00af00; text-decoration-color: #00af00\">32</span>)             │              <span style=\"color: #00af00; text-decoration-color: #00af00\">0</span> │ GMF_two_output[<span style=\"color: #00af00; text-decoration-color: #00af00\">126</span>][<span style=\"color: #00af00; text-decoration-color: #00af00\">0</span>] │\n├───────────────────────────┼────────────────────────┼────────────────┼────────────────────────┤\n│ dropout_1 (<span style=\"color: #0087ff; text-decoration-color: #0087ff\">Dropout</span>)       │ (<span style=\"color: #00d7ff; text-decoration-color: #00d7ff\">None</span>, <span style=\"color: #00af00; text-decoration-color: #00af00\">32</span>)             │              <span style=\"color: #00af00; text-decoration-color: #00af00\">0</span> │ MLP_two_output[<span style=\"color: #00af00; text-decoration-color: #00af00\">126</span>][<span style=\"color: #00af00; text-decoration-color: #00af00\">0</span>] │\n├───────────────────────────┼────────────────────────┼────────────────┼────────────────────────┤\n│ user_bias (<span style=\"color: #0087ff; text-decoration-color: #0087ff\">Embedding</span>)     │ (<span style=\"color: #00d7ff; text-decoration-color: #00d7ff\">None</span>, <span style=\"color: #00af00; text-decoration-color: #00af00\">1</span>, <span style=\"color: #00af00; text-decoration-color: #00af00\">1</span>)           │          <span style=\"color: #00af00; text-decoration-color: #00af00\">6,040</span> │ userId[<span style=\"color: #00af00; text-decoration-color: #00af00\">0</span>][<span style=\"color: #00af00; text-decoration-color: #00af00\">0</span>]           │\n├───────────────────────────┼────────────────────────┼────────────────┼────────────────────────┤\n│ item_bias (<span style=\"color: #0087ff; text-decoration-color: #0087ff\">Embedding</span>)     │ (<span style=\"color: #00d7ff; text-decoration-color: #00d7ff\">None</span>, <span style=\"color: #00af00; text-decoration-color: #00af00\">1</span>, <span style=\"color: #00af00; text-decoration-color: #00af00\">1</span>)           │         <span style=\"color: #00af00; text-decoration-color: #00af00\">45,115</span> │ movieId[<span style=\"color: #00af00; text-decoration-color: #00af00\">0</span>][<span style=\"color: #00af00; text-decoration-color: #00af00\">0</span>]          │\n├───────────────────────────┼────────────────────────┼────────────────┼────────────────────────┤\n│ fusion (<span style=\"color: #0087ff; text-decoration-color: #0087ff\">Concatenate</span>)      │ (<span style=\"color: #00d7ff; text-decoration-color: #00d7ff\">None</span>, <span style=\"color: #00af00; text-decoration-color: #00af00\">64</span>)             │              <span style=\"color: #00af00; text-decoration-color: #00af00\">0</span> │ dropout[<span style=\"color: #00af00; text-decoration-color: #00af00\">0</span>][<span style=\"color: #00af00; text-decoration-color: #00af00\">0</span>],         │\n│                           │                        │                │ dropout_1[<span style=\"color: #00af00; text-decoration-color: #00af00\">0</span>][<span style=\"color: #00af00; text-decoration-color: #00af00\">0</span>]        │\n├───────────────────────────┼────────────────────────┼────────────────┼────────────────────────┤\n│ user_bias_flat (<span style=\"color: #0087ff; text-decoration-color: #0087ff\">Flatten</span>)  │ (<span style=\"color: #00d7ff; text-decoration-color: #00d7ff\">None</span>, <span style=\"color: #00af00; text-decoration-color: #00af00\">1</span>)              │              <span style=\"color: #00af00; text-decoration-color: #00af00\">0</span> │ user_bias[<span style=\"color: #00af00; text-decoration-color: #00af00\">0</span>][<span style=\"color: #00af00; text-decoration-color: #00af00\">0</span>]        │\n├───────────────────────────┼────────────────────────┼────────────────┼────────────────────────┤\n│ item_bias_flat (<span style=\"color: #0087ff; text-decoration-color: #0087ff\">Flatten</span>)  │ (<span style=\"color: #00d7ff; text-decoration-color: #00d7ff\">None</span>, <span style=\"color: #00af00; text-decoration-color: #00af00\">1</span>)              │              <span style=\"color: #00af00; text-decoration-color: #00af00\">0</span> │ item_bias[<span style=\"color: #00af00; text-decoration-color: #00af00\">0</span>][<span style=\"color: #00af00; text-decoration-color: #00af00\">0</span>]        │\n├───────────────────────────┼────────────────────────┼────────────────┼────────────────────────┤\n│ raw_score (<span style=\"color: #0087ff; text-decoration-color: #0087ff\">Dense</span>)         │ (<span style=\"color: #00d7ff; text-decoration-color: #00d7ff\">None</span>, <span style=\"color: #00af00; text-decoration-color: #00af00\">1</span>)              │             <span style=\"color: #00af00; text-decoration-color: #00af00\">64</span> │ fusion[<span style=\"color: #00af00; text-decoration-color: #00af00\">0</span>][<span style=\"color: #00af00; text-decoration-color: #00af00\">0</span>]           │\n├───────────────────────────┼────────────────────────┼────────────────┼────────────────────────┤\n│ bias_add (<span style=\"color: #0087ff; text-decoration-color: #0087ff\">Add</span>)            │ (<span style=\"color: #00d7ff; text-decoration-color: #00d7ff\">None</span>, <span style=\"color: #00af00; text-decoration-color: #00af00\">1</span>)              │              <span style=\"color: #00af00; text-decoration-color: #00af00\">0</span> │ user_bias_flat[<span style=\"color: #00af00; text-decoration-color: #00af00\">0</span>][<span style=\"color: #00af00; text-decoration-color: #00af00\">0</span>],  │\n│                           │                        │                │ item_bias_flat[<span style=\"color: #00af00; text-decoration-color: #00af00\">0</span>][<span style=\"color: #00af00; text-decoration-color: #00af00\">0</span>]   │\n├───────────────────────────┼────────────────────────┼────────────────┼────────────────────────┤\n│ prediction (<span style=\"color: #0087ff; text-decoration-color: #0087ff\">Add</span>)          │ (<span style=\"color: #00d7ff; text-decoration-color: #00d7ff\">None</span>, <span style=\"color: #00af00; text-decoration-color: #00af00\">1</span>)              │              <span style=\"color: #00af00; text-decoration-color: #00af00\">0</span> │ raw_score[<span style=\"color: #00af00; text-decoration-color: #00af00\">0</span>][<span style=\"color: #00af00; text-decoration-color: #00af00\">0</span>],       │\n│                           │                        │                │ bias_add[<span style=\"color: #00af00; text-decoration-color: #00af00\">0</span>][<span style=\"color: #00af00; text-decoration-color: #00af00\">0</span>]         │\n└───────────────────────────┴────────────────────────┴────────────────┴────────────────────────┘\n</pre>\n"
     },
     "metadata": {}
    },
    {
     "output_type": "display_data",
     "data": {
      "text/plain": "\u001B[1m Total params: \u001B[0m\u001B[38;5;34m3,343,861\u001B[0m (12.76 MB)\n",
      "text/html": "<pre style=\"white-space:pre;overflow-x:auto;line-height:normal;font-family:Menlo,'DejaVu Sans Mono',consolas,'Courier New',monospace\"><span style=\"font-weight: bold\"> Total params: </span><span style=\"color: #00af00; text-decoration-color: #00af00\">3,343,861</span> (12.76 MB)\n</pre>\n"
     },
     "metadata": {}
    },
    {
     "output_type": "display_data",
     "data": {
      "text/plain": "\u001B[1m Trainable params: \u001B[0m\u001B[38;5;34m51,219\u001B[0m (200.07 KB)\n",
      "text/html": "<pre style=\"white-space:pre;overflow-x:auto;line-height:normal;font-family:Menlo,'DejaVu Sans Mono',consolas,'Courier New',monospace\"><span style=\"font-weight: bold\"> Trainable params: </span><span style=\"color: #00af00; text-decoration-color: #00af00\">51,219</span> (200.07 KB)\n</pre>\n"
     },
     "metadata": {}
    },
    {
     "output_type": "display_data",
     "data": {
      "text/plain": "\u001B[1m Non-trainable params: \u001B[0m\u001B[38;5;34m3,292,642\u001B[0m (12.56 MB)\n",
      "text/html": "<pre style=\"white-space:pre;overflow-x:auto;line-height:normal;font-family:Menlo,'DejaVu Sans Mono',consolas,'Courier New',monospace\"><span style=\"font-weight: bold\"> Non-trainable params: </span><span style=\"color: #00af00; text-decoration-color: #00af00\">3,292,642</span> (12.56 MB)\n</pre>\n"
     },
     "metadata": {}
    }
   ],
   "execution_count": 81
  },
  {
   "id": "5ea11f83-fc07-458c-a94c-56f152f6037f",
   "cell_type": "code",
   "source": "import matplotlib.pyplot as plt\n\ndef plot_mse_history(history):\n    \"\"\"\n    Plots training vs validation MSE over epochs.\n    Expects a Keras History object with keys 'loss' and 'val_loss'.\n    \"\"\"\n    epochs = range(1, len(history.history['loss']) + 1)\n    \n    plt.figure()\n    plt.plot(epochs, history.history['loss'], label='Training MSE')\n    plt.plot(epochs, history.history['val_loss'], label='Validation MSE')\n    plt.title('Training and Validation MSE over Epochs')\n    plt.xlabel('Epochs')\n    plt.ylabel('MSE')\n    plt.legend()\n    plt.grid(True)\n    plt.show()\n\nplot_mse_history(history1)",
   "metadata": {
    "trusted": true,
    "execution": {
     "iopub.status.busy": "2025-05-25T12:30:00.692932Z",
     "iopub.execute_input": "2025-05-25T12:30:00.693503Z",
     "iopub.status.idle": "2025-05-25T12:30:00.715492Z",
     "shell.execute_reply.started": "2025-05-25T12:30:00.693483Z",
     "shell.execute_reply": "2025-05-25T12:30:00.714601Z"
    }
   },
   "outputs": [
    {
     "traceback": [
      "\u001B[0;31m---------------------------------------------------------------------------\u001B[0m",
      "\u001B[0;31mAttributeError\u001B[0m                            Traceback (most recent call last)",
      "\u001B[0;32m/tmp/ipykernel_35/322462487.py\u001B[0m in \u001B[0;36m<cell line: 0>\u001B[0;34m()\u001B[0m\n\u001B[1;32m     18\u001B[0m     \u001B[0mplt\u001B[0m\u001B[0;34m.\u001B[0m\u001B[0mshow\u001B[0m\u001B[0;34m(\u001B[0m\u001B[0;34m)\u001B[0m\u001B[0;34m\u001B[0m\u001B[0;34m\u001B[0m\u001B[0m\n\u001B[1;32m     19\u001B[0m \u001B[0;34m\u001B[0m\u001B[0m\n\u001B[0;32m---> 20\u001B[0;31m \u001B[0mplot_mse_history\u001B[0m\u001B[0;34m(\u001B[0m\u001B[0mhistory1\u001B[0m\u001B[0;34m)\u001B[0m\u001B[0;34m\u001B[0m\u001B[0;34m\u001B[0m\u001B[0m\n\u001B[0m",
      "\u001B[0;32m/tmp/ipykernel_35/322462487.py\u001B[0m in \u001B[0;36mplot_mse_history\u001B[0;34m(history)\u001B[0m\n\u001B[1;32m      6\u001B[0m     \u001B[0mExpects\u001B[0m \u001B[0ma\u001B[0m \u001B[0mKeras\u001B[0m \u001B[0mHistory\u001B[0m \u001B[0mobject\u001B[0m \u001B[0;32mwith\u001B[0m \u001B[0mkeys\u001B[0m \u001B[0;34m'loss'\u001B[0m \u001B[0;32mand\u001B[0m \u001B[0;34m'val_loss'\u001B[0m\u001B[0;34m.\u001B[0m\u001B[0;34m\u001B[0m\u001B[0;34m\u001B[0m\u001B[0m\n\u001B[1;32m      7\u001B[0m     \"\"\"\n\u001B[0;32m----> 8\u001B[0;31m     \u001B[0mepochs\u001B[0m \u001B[0;34m=\u001B[0m \u001B[0mrange\u001B[0m\u001B[0;34m(\u001B[0m\u001B[0;36m1\u001B[0m\u001B[0;34m,\u001B[0m \u001B[0mlen\u001B[0m\u001B[0;34m(\u001B[0m\u001B[0mhistory\u001B[0m\u001B[0;34m.\u001B[0m\u001B[0mhistory\u001B[0m\u001B[0;34m[\u001B[0m\u001B[0;34m'loss'\u001B[0m\u001B[0;34m]\u001B[0m\u001B[0;34m)\u001B[0m \u001B[0;34m+\u001B[0m \u001B[0;36m1\u001B[0m\u001B[0;34m)\u001B[0m\u001B[0;34m\u001B[0m\u001B[0;34m\u001B[0m\u001B[0m\n\u001B[0m\u001B[1;32m      9\u001B[0m \u001B[0;34m\u001B[0m\u001B[0m\n\u001B[1;32m     10\u001B[0m     \u001B[0mplt\u001B[0m\u001B[0;34m.\u001B[0m\u001B[0mfigure\u001B[0m\u001B[0;34m(\u001B[0m\u001B[0;34m)\u001B[0m\u001B[0;34m\u001B[0m\u001B[0;34m\u001B[0m\u001B[0m\n",
      "\u001B[0;31mAttributeError\u001B[0m: 'NoneType' object has no attribute 'history'"
     ],
     "ename": "AttributeError",
     "evalue": "'NoneType' object has no attribute 'history'",
     "output_type": "error"
    }
   ],
   "execution_count": 94
  },
  {
   "id": "ec0b8563-9c50-4a67-bd83-0ac1e8ebac8f",
   "cell_type": "code",
   "source": "GMF_Final.save('GMF_Model.keras')\nMLP_Final.save(\"MLP_Model.keras\")\nNeuMF.save(\"NeuMF_Model.keras\")",
   "metadata": {
    "trusted": true,
    "execution": {
     "iopub.status.busy": "2025-05-25T12:39:58.476771Z",
     "iopub.execute_input": "2025-05-25T12:39:58.477286Z",
     "iopub.status.idle": "2025-05-25T12:39:58.920228Z",
     "shell.execute_reply.started": "2025-05-25T12:39:58.477264Z",
     "shell.execute_reply": "2025-05-25T12:39:58.919668Z"
    }
   },
   "outputs": [],
   "execution_count": 96
  },
  {
   "id": "3e732c77-c22d-411c-b1c4-20c71eb5498f",
   "cell_type": "code",
   "source": "",
   "metadata": {
    "trusted": true
   },
   "outputs": [],
   "execution_count": null
  }
 ]
}
