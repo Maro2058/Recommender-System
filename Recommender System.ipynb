{
 "cells": [
  {
   "metadata": {
    "ExecuteTime": {
     "end_time": "2025-05-22T19:06:54.317444Z",
     "start_time": "2025-05-22T19:06:54.306532Z"
    }
   },
   "cell_type": "code",
   "source": [
    "import numpy as np\n",
    "import sklearn\n",
    "import tensorflow as tf\n",
    "import pandas as pd\n",
    "\n",
    "from keras.src.layers import Dense\n",
    "from tensorflow import keras\n",
    "from keras import layers, models\n",
    "from tensorflow.keras.layers import Embedding\n",
    "from tensorflow.keras.models import Sequential\n"
   ],
   "id": "b58ad21b16df0f46",
   "outputs": [],
   "execution_count": 3
  },
  {
   "metadata": {},
   "cell_type": "markdown",
   "source": "# Load The Data",
   "id": "da8cf69b64aa9708"
  },
  {
   "cell_type": "code",
   "id": "initial_id",
   "metadata": {
    "collapsed": true,
    "ExecuteTime": {
     "end_time": "2025-05-22T19:09:54.068297Z",
     "start_time": "2025-05-22T19:09:40.858621Z"
    }
   },
   "source": "users = pd.read_csv(\"data/ratings.csv\")",
   "outputs": [],
   "execution_count": 5
  },
  {
   "metadata": {},
   "cell_type": "markdown",
   "source": "# Collaborative Filtering Model",
   "id": "133f4ddd786789d"
  },
  {
   "metadata": {},
   "cell_type": "markdown",
   "source": [
    "### When you think collaborative filtering, think of statements like:\n",
    "- Users who liked similar items also liked...\n",
    "- Items similar to this item\n",
    "\n",
    "### 🧠 “Behavioral Similarity”\n",
    "The system learns from what users did, not what items are about.\n",
    "\n",
    "> It doesn’t care what genre the item is — it just learns from the pattern of user behavior.\n",
    "\n",
    "### 🔍 How It Works:\n",
    "- Looks at user-item interactions (ratings, likes, views)\n",
    "- Learns latent similarities between users or items\n",
    "- Powered by embeddings, matrix factorization, or neural models\n",
    "\n",
    "finds patterns in behavior\n",
    "\n"
   ],
   "id": "aa90b798098b0cf8"
  },
  {
   "metadata": {},
   "cell_type": "code",
   "outputs": [],
   "execution_count": null,
   "source": [
    "num_users = users['user_id'].nunique()\n",
    "num_items = users['item_id'].nunique()\n",
    "embedding_dim = 32\n",
    "user_embedding = Embedding(input_dim=num_users, output_dim=embedding_dim, name='user_embedding')(user_input)"
   ],
   "id": "d57d2d622c61bfdc"
  },
  {
   "metadata": {},
   "cell_type": "markdown",
   "source": "# Content-Based Filtering Model",
   "id": "c722a8c4565df00c"
  },
  {
   "metadata": {},
   "cell_type": "markdown",
   "source": [
    "When you think of content-based filtering, think of statements like:\n",
    "- Because you liked horror\n",
    "- Because you searched laptops\n",
    "\n",
    "### 🧠 “Attribute Similarity”\n",
    "The system uses the metadata or features of items (or users) directly.\n",
    "\n",
    "> It recommends items with similar features to what you liked, not because other users liked them.\n",
    "\n",
    "### 📦 How It Works:\n",
    "- Uses item (or user) attributes: genres, categories, descriptions\n",
    "- Builds a user profile from liked item features\n",
    "- Compares feature vectors (e.g., via cosine similarity)\n",
    "\n",
    "finds patterns in features"
   ],
   "id": "7a63e02a114a9f6f"
  },
  {
   "metadata": {},
   "cell_type": "markdown",
   "source": [
    "Collaborative filtering learns from who likes what, no matter what it is.\n",
    "\n",
    "Content-based filtering learns from what the thing is, no matter who liked it."
   ],
   "id": "712dd9f66ccaa746"
  },
  {
   "metadata": {},
   "cell_type": "code",
   "outputs": [],
   "execution_count": null,
   "source": [
    "user_NN = Sequential([\n",
    "    layers.Input(shape = num_user_features),\n",
    "    Dense(256, activation='relu'),\n",
    "    Dense(128, activation='relu'),\n",
    "    Dense(32)\n",
    "])\n",
    "\n",
    "item_NN = Sequential([\n",
    "    layers.Input(shape= num_item_features),\n",
    "    Dense(256, activation='relu'),\n",
    "    Dense(128, activation='relu'),\n",
    "    Dense(32)\n",
    "])\n",
    "\n",
    "vu = user_NN(input_user)\n",
    "vu = tf.linalg.l2_normalize(vu, axis=1)\n",
    "\n",
    "vm = item_NN(input_item)\n",
    "vm = tf.linalg.l2_normalize(vm, axis=1)\n",
    "\n",
    "output = layers.Dot(axes=1)([vu, vm])\n",
    "\n",
    "model = Model([input_user, input_item], output)\n",
    "\n",
    "cost_fn = keras.losses.MeanSquaredError()"
   ],
   "id": "60278af2ccf7516e"
  },
  {
   "metadata": {},
   "cell_type": "markdown",
   "source": "# Training",
   "id": "f551d1de90f68a39"
  },
  {
   "metadata": {},
   "cell_type": "code",
   "outputs": [],
   "execution_count": null,
   "source": "",
   "id": "d2f569eafc449a27"
  },
  {
   "metadata": {},
   "cell_type": "markdown",
   "source": "# Testing",
   "id": "9407112deceb3f95"
  },
  {
   "metadata": {},
   "cell_type": "code",
   "outputs": [],
   "execution_count": null,
   "source": "",
   "id": "489e4b25bc2fda7"
  }
 ],
 "metadata": {
  "kernelspec": {
   "display_name": "Python 3",
   "language": "python",
   "name": "python3"
  },
  "language_info": {
   "codemirror_mode": {
    "name": "ipython",
    "version": 2
   },
   "file_extension": ".py",
   "mimetype": "text/x-python",
   "name": "python",
   "nbconvert_exporter": "python",
   "pygments_lexer": "ipython2",
   "version": "2.7.6"
  }
 },
 "nbformat": 4,
 "nbformat_minor": 5
}
