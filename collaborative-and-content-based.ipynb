{
 "metadata": {
  "kernelspec": {
   "display_name": "Python 3",
   "language": "python",
   "name": "python3"
  },
  "language_info": {
   "name": "python",
   "version": "3.11.11",
   "mimetype": "text/x-python",
   "codemirror_mode": {
    "name": "ipython",
    "version": 3
   },
   "pygments_lexer": "ipython3",
   "nbconvert_exporter": "python",
   "file_extension": ".py"
  },
  "kaggle": {
   "accelerator": "gpu",
   "dataSources": [
    {
     "sourceId": 6663,
     "sourceType": "datasetVersion",
     "datasetId": 3405
    }
   ],
   "dockerImageVersionId": 31041,
   "isInternetEnabled": true,
   "language": "python",
   "sourceType": "notebook",
   "isGpuEnabled": true
  }
 },
 "nbformat_minor": 5,
 "nbformat": 4,
 "cells": [
  {
   "id": "b58ad21b16df0f46",
   "cell_type": "code",
   "source": "import numpy as np\nimport sklearn\nimport tensorflow as tf\nimport pandas as pd\n\nfrom keras.src.layers import Dense\nfrom tensorflow import keras\nfrom keras import layers\nfrom tensorflow.keras.layers import Embedding, Flatten, Dense, Dot, Input, Dropout, Multiply, Concatenate\nfrom tensorflow.keras.callbacks import ReduceLROnPlateau\nfrom tensorflow.keras.optimizers import Adam\nfrom tensorflow.keras.models import Sequential, Model\nfrom tensorflow.keras import regularizers\n\nfrom sklearn.feature_extraction.text import TfidfVectorizer\nfrom sklearn.metrics.pairwise    import cosine_similarity\nimport json\n",
   "metadata": {
    "trusted": true,
    "execution": {
     "iopub.status.busy": "2025-05-23T04:25:19.795468Z",
     "iopub.execute_input": "2025-05-23T04:25:19.795719Z",
     "iopub.status.idle": "2025-05-23T04:25:34.030771Z",
     "shell.execute_reply.started": "2025-05-23T04:25:19.795701Z",
     "shell.execute_reply": "2025-05-23T04:25:34.030266Z"
    },
    "ExecuteTime": {
     "end_time": "2025-05-23T20:38:43.105988Z",
     "start_time": "2025-05-23T20:38:38.654282Z"
    }
   },
   "outputs": [],
   "execution_count": 1
  },
  {
   "id": "da8cf69b64aa9708",
   "cell_type": "markdown",
   "source": "# Load The Data",
   "metadata": {}
  },
  {
   "id": "initial_id",
   "cell_type": "code",
   "source": "users = pd.read_csv(\"/kaggle/input/the-movies-dataset/ratings.csv\")\nusers.head(5)",
   "metadata": {
    "ExecuteTime": {
     "end_time": "2025-05-22T22:02:16.220570Z",
     "start_time": "2025-05-22T22:02:10.158754Z"
    },
    "trusted": true,
    "execution": {
     "iopub.status.busy": "2025-05-23T03:25:18.648132Z",
     "iopub.execute_input": "2025-05-23T03:25:18.648642Z",
     "iopub.status.idle": "2025-05-23T03:25:32.531087Z",
     "shell.execute_reply.started": "2025-05-23T03:25:18.648614Z",
     "shell.execute_reply": "2025-05-23T03:25:32.530297Z"
    }
   },
   "outputs": [
    {
     "execution_count": 3,
     "output_type": "execute_result",
     "data": {
      "text/plain": "   userId  movieId  rating   timestamp\n0       1      110     1.0  1425941529\n1       1      147     4.5  1425942435\n2       1      858     5.0  1425941523\n3       1     1221     5.0  1425941546\n4       1     1246     5.0  1425941556",
      "text/html": "<div>\n<style scoped>\n    .dataframe tbody tr th:only-of-type {\n        vertical-align: middle;\n    }\n\n    .dataframe tbody tr th {\n        vertical-align: top;\n    }\n\n    .dataframe thead th {\n        text-align: right;\n    }\n</style>\n<table border=\"1\" class=\"dataframe\">\n  <thead>\n    <tr style=\"text-align: right;\">\n      <th></th>\n      <th>userId</th>\n      <th>movieId</th>\n      <th>rating</th>\n      <th>timestamp</th>\n    </tr>\n  </thead>\n  <tbody>\n    <tr>\n      <th>0</th>\n      <td>1</td>\n      <td>110</td>\n      <td>1.0</td>\n      <td>1425941529</td>\n    </tr>\n    <tr>\n      <th>1</th>\n      <td>1</td>\n      <td>147</td>\n      <td>4.5</td>\n      <td>1425942435</td>\n    </tr>\n    <tr>\n      <th>2</th>\n      <td>1</td>\n      <td>858</td>\n      <td>5.0</td>\n      <td>1425941523</td>\n    </tr>\n    <tr>\n      <th>3</th>\n      <td>1</td>\n      <td>1221</td>\n      <td>5.0</td>\n      <td>1425941546</td>\n    </tr>\n    <tr>\n      <th>4</th>\n      <td>1</td>\n      <td>1246</td>\n      <td>5.0</td>\n      <td>1425941556</td>\n    </tr>\n  </tbody>\n</table>\n</div>"
     },
     "metadata": {}
    }
   ],
   "execution_count": 3
  },
  {
   "id": "85a5b7da3bfff38e",
   "cell_type": "code",
   "source": "from sklearn.preprocessing import LabelEncoder\n\n# 1. Fit LabelEncoders on your raw IDs\nu_enc = LabelEncoder()\nm_enc = LabelEncoder()\n\nusers['u_idx'] = u_enc.fit_transform(users['userId'])\nusers['m_idx'] = m_enc.fit_transform(users['movieId'])\n\n# 2. Recompute the number of unique users/items\nnum_users = users['u_idx'].nunique()\nnum_items = users['m_idx'].nunique()\n\n# 3. Prepare inputs for the model (as 2D int32 arrays)\nuser_ids  = users['u_idx'].values.reshape(-1, 1).astype('int32')\nmovie_ids = users['m_idx'].values.reshape(-1, 1).astype('int32')\nratings = users['rating'].values.astype('float32')\n\n# 4. (Optional) Inspect the first few rows\nprint(users[['userId','u_idx','movieId','m_idx']].head())\n\nprint(f\"num_users={num_users}, num_items={num_items}\")\n",
   "metadata": {
    "ExecuteTime": {
     "end_time": "2025-05-22T22:02:25.729177Z",
     "start_time": "2025-05-22T22:02:18.662187Z"
    },
    "trusted": true,
    "execution": {
     "iopub.status.busy": "2025-05-23T03:25:32.531979Z",
     "iopub.execute_input": "2025-05-23T03:25:32.532248Z",
     "iopub.status.idle": "2025-05-23T03:25:40.007743Z",
     "shell.execute_reply.started": "2025-05-23T03:25:32.532227Z",
     "shell.execute_reply": "2025-05-23T03:25:40.006742Z"
    }
   },
   "outputs": [
    {
     "name": "stdout",
     "text": "   userId  u_idx  movieId  m_idx\n0       1      0      110    108\n1       1      0      147    145\n2       1      0      858    843\n3       1      0     1221   1195\n4       1      0     1246   1218\nnum_users=270896, num_items=45115\n",
     "output_type": "stream"
    }
   ],
   "execution_count": 4
  },
  {
   "id": "5d9c9c30001527c5",
   "cell_type": "markdown",
   "source": "",
   "metadata": {}
  },
  {
   "id": "133f4ddd786789d",
   "cell_type": "markdown",
   "source": "# Collaborative Filtering Model",
   "metadata": {}
  },
  {
   "id": "aa90b798098b0cf8",
   "cell_type": "markdown",
   "source": "### When you think collaborative filtering, think of statements like:\n- Users who liked similar items also liked...\n- Items similar to this item\n\n### 🧠 “Behavioral Similarity”\nThe system learns from what users did, not what items are about.\n\n> It doesn’t care what genre the item is — it just learns from the pattern of user behavior.\n\n### 🔍 How It Works:\n- Looks at user-item interactions (ratings, likes, views)\n- Learns latent similarities between users or items\n- Powered by embeddings, matrix factorization, or neural models\n\nfinds patterns in behavior\n\n",
   "metadata": {}
  },
  {
   "id": "d57d2d622c61bfdc",
   "cell_type": "code",
   "source": "gmf_dim      = 32 #defines dimensions of gmf\nmlp_dim      = 32 # defines dimensions of mlp\nmlp_layers   = [64] # mlp neuron layers\n\n# Input layer takes item of vector size 1\nuser_input = Input(shape=(1,), name='userId')\nitem_input = Input(shape=(1,), name='movieId')\n\ngmf_user_emb = Embedding(num_users, gmf_dim, embeddings_regularizer=regularizers.l2(1e-5))(user_input) #embedding for userID\ngmf_item_emb = Embedding(num_items, gmf_dim, embeddings_regularizer=regularizers.l2(1e-5))(item_input) # embedding for movieID\ngmf_user_vec = Flatten()(gmf_user_emb) # flatten them\ngmf_user_vec = Dropout(0.4)(gmf_user_vec)\ngmf_item_vec = Flatten()(gmf_item_emb) # flatten them\ngmf_item_vec = Dropout(0.4)(gmf_item_vec)\ngmf_vector   = Multiply()([gmf_user_vec, gmf_item_vec]) # multiply to check how much the movie aligns with the user in training\n\n# 4. MLP branch\nmlp_user_emb = Embedding(num_users, mlp_dim, embeddings_regularizer=regularizers.l2(1e-5))(user_input) # embedding for userID\nmlp_item_emb = Embedding(num_items, mlp_dim, embeddings_regularizer=regularizers.l2(1e-5))(item_input) # embedding for movieID\nmlp_user_vec = Flatten()(mlp_user_emb) # flatten them\nmlp_user_vec = Dropout(0.4)(mlp_user_vec)\nmlp_item_vec = Flatten()(mlp_item_emb) # flatten them\nmlp_item_vec = Dropout(0.4)(mlp_item_vec)\nmlp_vector   = Concatenate()([mlp_user_vec, mlp_item_vec]) # stacks them both together\nfor units in mlp_layers:\n    mlp_vector = Dense(units, activation='relu')(mlp_vector) # goes through neurons, activation relu to allow complexity\n    mlp_vector = Dropout(0.4)(mlp_vector)\n\n\n",
   "metadata": {
    "ExecuteTime": {
     "end_time": "2025-05-22T22:02:28.772823Z",
     "start_time": "2025-05-22T22:02:28.717500Z"
    },
    "trusted": true,
    "execution": {
     "iopub.status.busy": "2025-05-23T03:26:40.448889Z",
     "iopub.execute_input": "2025-05-23T03:26:40.449182Z",
     "iopub.status.idle": "2025-05-23T03:26:40.499793Z",
     "shell.execute_reply.started": "2025-05-23T03:26:40.449163Z",
     "shell.execute_reply": "2025-05-23T03:26:40.499242Z"
    }
   },
   "outputs": [],
   "execution_count": 7
  },
  {
   "id": "b533a515567fff20",
   "cell_type": "code",
   "source": "# The dot product of the two vectors, which gives a single number that determines how similar the two vectors are.\nfusion = Concatenate()([gmf_vector, mlp_vector]) #then we concatenate both mlp and gmf\noutput = Dense(1, activation='linear', name='prediction')(fusion) # and add them all together to make the prediction\n\n\nmodel = Model(inputs=[user_input, item_input], outputs=output)\nmodel.compile(\n    optimizer=Adam(learning_rate=0.001),\n    loss='mse'\n)\nmodel.summary()",
   "metadata": {
    "ExecuteTime": {
     "end_time": "2025-05-22T22:02:32.345864Z",
     "start_time": "2025-05-22T22:02:32.316904Z"
    },
    "trusted": true,
    "execution": {
     "iopub.status.busy": "2025-05-23T03:26:43.578067Z",
     "iopub.execute_input": "2025-05-23T03:26:43.578361Z",
     "iopub.status.idle": "2025-05-23T03:26:43.626163Z",
     "shell.execute_reply.started": "2025-05-23T03:26:43.578341Z",
     "shell.execute_reply": "2025-05-23T03:26:43.625629Z"
    }
   },
   "outputs": [
    {
     "output_type": "display_data",
     "data": {
      "text/plain": "\u001B[1mModel: \"functional\"\u001B[0m\n",
      "text/html": "<pre style=\"white-space:pre;overflow-x:auto;line-height:normal;font-family:Menlo,'DejaVu Sans Mono',consolas,'Courier New',monospace\"><span style=\"font-weight: bold\">Model: \"functional\"</span>\n</pre>\n"
     },
     "metadata": {}
    },
    {
     "output_type": "display_data",
     "data": {
      "text/plain": "┏━━━━━━━━━━━━━━━━━━━━━━━━━━━┳━━━━━━━━━━━━━━━━━━━━━━━━┳━━━━━━━━━━━━━━━━┳━━━━━━━━━━━━━━━━━━━━━━━━┓\n┃\u001B[1m \u001B[0m\u001B[1mLayer (type)             \u001B[0m\u001B[1m \u001B[0m┃\u001B[1m \u001B[0m\u001B[1mOutput Shape          \u001B[0m\u001B[1m \u001B[0m┃\u001B[1m \u001B[0m\u001B[1m       Param #\u001B[0m\u001B[1m \u001B[0m┃\u001B[1m \u001B[0m\u001B[1mConnected to          \u001B[0m\u001B[1m \u001B[0m┃\n┡━━━━━━━━━━━━━━━━━━━━━━━━━━━╇━━━━━━━━━━━━━━━━━━━━━━━━╇━━━━━━━━━━━━━━━━╇━━━━━━━━━━━━━━━━━━━━━━━━┩\n│ userId (\u001B[38;5;33mInputLayer\u001B[0m)       │ (\u001B[38;5;45mNone\u001B[0m, \u001B[38;5;34m1\u001B[0m)              │              \u001B[38;5;34m0\u001B[0m │ -                      │\n├───────────────────────────┼────────────────────────┼────────────────┼────────────────────────┤\n│ movieId (\u001B[38;5;33mInputLayer\u001B[0m)      │ (\u001B[38;5;45mNone\u001B[0m, \u001B[38;5;34m1\u001B[0m)              │              \u001B[38;5;34m0\u001B[0m │ -                      │\n├───────────────────────────┼────────────────────────┼────────────────┼────────────────────────┤\n│ embedding_10 (\u001B[38;5;33mEmbedding\u001B[0m)  │ (\u001B[38;5;45mNone\u001B[0m, \u001B[38;5;34m1\u001B[0m, \u001B[38;5;34m32\u001B[0m)          │      \u001B[38;5;34m8,668,672\u001B[0m │ userId[\u001B[38;5;34m0\u001B[0m][\u001B[38;5;34m0\u001B[0m]           │\n├───────────────────────────┼────────────────────────┼────────────────┼────────────────────────┤\n│ embedding_11 (\u001B[38;5;33mEmbedding\u001B[0m)  │ (\u001B[38;5;45mNone\u001B[0m, \u001B[38;5;34m1\u001B[0m, \u001B[38;5;34m32\u001B[0m)          │      \u001B[38;5;34m1,443,680\u001B[0m │ movieId[\u001B[38;5;34m0\u001B[0m][\u001B[38;5;34m0\u001B[0m]          │\n├───────────────────────────┼────────────────────────┼────────────────┼────────────────────────┤\n│ flatten_10 (\u001B[38;5;33mFlatten\u001B[0m)      │ (\u001B[38;5;45mNone\u001B[0m, \u001B[38;5;34m32\u001B[0m)             │              \u001B[38;5;34m0\u001B[0m │ embedding_10[\u001B[38;5;34m0\u001B[0m][\u001B[38;5;34m0\u001B[0m]     │\n├───────────────────────────┼────────────────────────┼────────────────┼────────────────────────┤\n│ flatten_11 (\u001B[38;5;33mFlatten\u001B[0m)      │ (\u001B[38;5;45mNone\u001B[0m, \u001B[38;5;34m32\u001B[0m)             │              \u001B[38;5;34m0\u001B[0m │ embedding_11[\u001B[38;5;34m0\u001B[0m][\u001B[38;5;34m0\u001B[0m]     │\n├───────────────────────────┼────────────────────────┼────────────────┼────────────────────────┤\n│ embedding_8 (\u001B[38;5;33mEmbedding\u001B[0m)   │ (\u001B[38;5;45mNone\u001B[0m, \u001B[38;5;34m1\u001B[0m, \u001B[38;5;34m32\u001B[0m)          │      \u001B[38;5;34m8,668,672\u001B[0m │ userId[\u001B[38;5;34m0\u001B[0m][\u001B[38;5;34m0\u001B[0m]           │\n├───────────────────────────┼────────────────────────┼────────────────┼────────────────────────┤\n│ embedding_9 (\u001B[38;5;33mEmbedding\u001B[0m)   │ (\u001B[38;5;45mNone\u001B[0m, \u001B[38;5;34m1\u001B[0m, \u001B[38;5;34m32\u001B[0m)          │      \u001B[38;5;34m1,443,680\u001B[0m │ movieId[\u001B[38;5;34m0\u001B[0m][\u001B[38;5;34m0\u001B[0m]          │\n├───────────────────────────┼────────────────────────┼────────────────┼────────────────────────┤\n│ dropout_12 (\u001B[38;5;33mDropout\u001B[0m)      │ (\u001B[38;5;45mNone\u001B[0m, \u001B[38;5;34m32\u001B[0m)             │              \u001B[38;5;34m0\u001B[0m │ flatten_10[\u001B[38;5;34m0\u001B[0m][\u001B[38;5;34m0\u001B[0m]       │\n├───────────────────────────┼────────────────────────┼────────────────┼────────────────────────┤\n│ dropout_13 (\u001B[38;5;33mDropout\u001B[0m)      │ (\u001B[38;5;45mNone\u001B[0m, \u001B[38;5;34m32\u001B[0m)             │              \u001B[38;5;34m0\u001B[0m │ flatten_11[\u001B[38;5;34m0\u001B[0m][\u001B[38;5;34m0\u001B[0m]       │\n├───────────────────────────┼────────────────────────┼────────────────┼────────────────────────┤\n│ flatten_8 (\u001B[38;5;33mFlatten\u001B[0m)       │ (\u001B[38;5;45mNone\u001B[0m, \u001B[38;5;34m32\u001B[0m)             │              \u001B[38;5;34m0\u001B[0m │ embedding_8[\u001B[38;5;34m0\u001B[0m][\u001B[38;5;34m0\u001B[0m]      │\n├───────────────────────────┼────────────────────────┼────────────────┼────────────────────────┤\n│ flatten_9 (\u001B[38;5;33mFlatten\u001B[0m)       │ (\u001B[38;5;45mNone\u001B[0m, \u001B[38;5;34m32\u001B[0m)             │              \u001B[38;5;34m0\u001B[0m │ embedding_9[\u001B[38;5;34m0\u001B[0m][\u001B[38;5;34m0\u001B[0m]      │\n├───────────────────────────┼────────────────────────┼────────────────┼────────────────────────┤\n│ concatenate_2             │ (\u001B[38;5;45mNone\u001B[0m, \u001B[38;5;34m64\u001B[0m)             │              \u001B[38;5;34m0\u001B[0m │ dropout_12[\u001B[38;5;34m0\u001B[0m][\u001B[38;5;34m0\u001B[0m],      │\n│ (\u001B[38;5;33mConcatenate\u001B[0m)             │                        │                │ dropout_13[\u001B[38;5;34m0\u001B[0m][\u001B[38;5;34m0\u001B[0m]       │\n├───────────────────────────┼────────────────────────┼────────────────┼────────────────────────┤\n│ dropout_10 (\u001B[38;5;33mDropout\u001B[0m)      │ (\u001B[38;5;45mNone\u001B[0m, \u001B[38;5;34m32\u001B[0m)             │              \u001B[38;5;34m0\u001B[0m │ flatten_8[\u001B[38;5;34m0\u001B[0m][\u001B[38;5;34m0\u001B[0m]        │\n├───────────────────────────┼────────────────────────┼────────────────┼────────────────────────┤\n│ dropout_11 (\u001B[38;5;33mDropout\u001B[0m)      │ (\u001B[38;5;45mNone\u001B[0m, \u001B[38;5;34m32\u001B[0m)             │              \u001B[38;5;34m0\u001B[0m │ flatten_9[\u001B[38;5;34m0\u001B[0m][\u001B[38;5;34m0\u001B[0m]        │\n├───────────────────────────┼────────────────────────┼────────────────┼────────────────────────┤\n│ dense_2 (\u001B[38;5;33mDense\u001B[0m)           │ (\u001B[38;5;45mNone\u001B[0m, \u001B[38;5;34m64\u001B[0m)             │          \u001B[38;5;34m4,160\u001B[0m │ concatenate_2[\u001B[38;5;34m0\u001B[0m][\u001B[38;5;34m0\u001B[0m]    │\n├───────────────────────────┼────────────────────────┼────────────────┼────────────────────────┤\n│ multiply_2 (\u001B[38;5;33mMultiply\u001B[0m)     │ (\u001B[38;5;45mNone\u001B[0m, \u001B[38;5;34m32\u001B[0m)             │              \u001B[38;5;34m0\u001B[0m │ dropout_10[\u001B[38;5;34m0\u001B[0m][\u001B[38;5;34m0\u001B[0m],      │\n│                           │                        │                │ dropout_11[\u001B[38;5;34m0\u001B[0m][\u001B[38;5;34m0\u001B[0m]       │\n├───────────────────────────┼────────────────────────┼────────────────┼────────────────────────┤\n│ dropout_14 (\u001B[38;5;33mDropout\u001B[0m)      │ (\u001B[38;5;45mNone\u001B[0m, \u001B[38;5;34m64\u001B[0m)             │              \u001B[38;5;34m0\u001B[0m │ dense_2[\u001B[38;5;34m0\u001B[0m][\u001B[38;5;34m0\u001B[0m]          │\n├───────────────────────────┼────────────────────────┼────────────────┼────────────────────────┤\n│ concatenate_3             │ (\u001B[38;5;45mNone\u001B[0m, \u001B[38;5;34m96\u001B[0m)             │              \u001B[38;5;34m0\u001B[0m │ multiply_2[\u001B[38;5;34m0\u001B[0m][\u001B[38;5;34m0\u001B[0m],      │\n│ (\u001B[38;5;33mConcatenate\u001B[0m)             │                        │                │ dropout_14[\u001B[38;5;34m0\u001B[0m][\u001B[38;5;34m0\u001B[0m]       │\n├───────────────────────────┼────────────────────────┼────────────────┼────────────────────────┤\n│ prediction (\u001B[38;5;33mDense\u001B[0m)        │ (\u001B[38;5;45mNone\u001B[0m, \u001B[38;5;34m1\u001B[0m)              │             \u001B[38;5;34m97\u001B[0m │ concatenate_3[\u001B[38;5;34m0\u001B[0m][\u001B[38;5;34m0\u001B[0m]    │\n└───────────────────────────┴────────────────────────┴────────────────┴────────────────────────┘\n",
      "text/html": "<pre style=\"white-space:pre;overflow-x:auto;line-height:normal;font-family:Menlo,'DejaVu Sans Mono',consolas,'Courier New',monospace\">┏━━━━━━━━━━━━━━━━━━━━━━━━━━━┳━━━━━━━━━━━━━━━━━━━━━━━━┳━━━━━━━━━━━━━━━━┳━━━━━━━━━━━━━━━━━━━━━━━━┓\n┃<span style=\"font-weight: bold\"> Layer (type)              </span>┃<span style=\"font-weight: bold\"> Output Shape           </span>┃<span style=\"font-weight: bold\">        Param # </span>┃<span style=\"font-weight: bold\"> Connected to           </span>┃\n┡━━━━━━━━━━━━━━━━━━━━━━━━━━━╇━━━━━━━━━━━━━━━━━━━━━━━━╇━━━━━━━━━━━━━━━━╇━━━━━━━━━━━━━━━━━━━━━━━━┩\n│ userId (<span style=\"color: #0087ff; text-decoration-color: #0087ff\">InputLayer</span>)       │ (<span style=\"color: #00d7ff; text-decoration-color: #00d7ff\">None</span>, <span style=\"color: #00af00; text-decoration-color: #00af00\">1</span>)              │              <span style=\"color: #00af00; text-decoration-color: #00af00\">0</span> │ -                      │\n├───────────────────────────┼────────────────────────┼────────────────┼────────────────────────┤\n│ movieId (<span style=\"color: #0087ff; text-decoration-color: #0087ff\">InputLayer</span>)      │ (<span style=\"color: #00d7ff; text-decoration-color: #00d7ff\">None</span>, <span style=\"color: #00af00; text-decoration-color: #00af00\">1</span>)              │              <span style=\"color: #00af00; text-decoration-color: #00af00\">0</span> │ -                      │\n├───────────────────────────┼────────────────────────┼────────────────┼────────────────────────┤\n│ embedding_10 (<span style=\"color: #0087ff; text-decoration-color: #0087ff\">Embedding</span>)  │ (<span style=\"color: #00d7ff; text-decoration-color: #00d7ff\">None</span>, <span style=\"color: #00af00; text-decoration-color: #00af00\">1</span>, <span style=\"color: #00af00; text-decoration-color: #00af00\">32</span>)          │      <span style=\"color: #00af00; text-decoration-color: #00af00\">8,668,672</span> │ userId[<span style=\"color: #00af00; text-decoration-color: #00af00\">0</span>][<span style=\"color: #00af00; text-decoration-color: #00af00\">0</span>]           │\n├───────────────────────────┼────────────────────────┼────────────────┼────────────────────────┤\n│ embedding_11 (<span style=\"color: #0087ff; text-decoration-color: #0087ff\">Embedding</span>)  │ (<span style=\"color: #00d7ff; text-decoration-color: #00d7ff\">None</span>, <span style=\"color: #00af00; text-decoration-color: #00af00\">1</span>, <span style=\"color: #00af00; text-decoration-color: #00af00\">32</span>)          │      <span style=\"color: #00af00; text-decoration-color: #00af00\">1,443,680</span> │ movieId[<span style=\"color: #00af00; text-decoration-color: #00af00\">0</span>][<span style=\"color: #00af00; text-decoration-color: #00af00\">0</span>]          │\n├───────────────────────────┼────────────────────────┼────────────────┼────────────────────────┤\n│ flatten_10 (<span style=\"color: #0087ff; text-decoration-color: #0087ff\">Flatten</span>)      │ (<span style=\"color: #00d7ff; text-decoration-color: #00d7ff\">None</span>, <span style=\"color: #00af00; text-decoration-color: #00af00\">32</span>)             │              <span style=\"color: #00af00; text-decoration-color: #00af00\">0</span> │ embedding_10[<span style=\"color: #00af00; text-decoration-color: #00af00\">0</span>][<span style=\"color: #00af00; text-decoration-color: #00af00\">0</span>]     │\n├───────────────────────────┼────────────────────────┼────────────────┼────────────────────────┤\n│ flatten_11 (<span style=\"color: #0087ff; text-decoration-color: #0087ff\">Flatten</span>)      │ (<span style=\"color: #00d7ff; text-decoration-color: #00d7ff\">None</span>, <span style=\"color: #00af00; text-decoration-color: #00af00\">32</span>)             │              <span style=\"color: #00af00; text-decoration-color: #00af00\">0</span> │ embedding_11[<span style=\"color: #00af00; text-decoration-color: #00af00\">0</span>][<span style=\"color: #00af00; text-decoration-color: #00af00\">0</span>]     │\n├───────────────────────────┼────────────────────────┼────────────────┼────────────────────────┤\n│ embedding_8 (<span style=\"color: #0087ff; text-decoration-color: #0087ff\">Embedding</span>)   │ (<span style=\"color: #00d7ff; text-decoration-color: #00d7ff\">None</span>, <span style=\"color: #00af00; text-decoration-color: #00af00\">1</span>, <span style=\"color: #00af00; text-decoration-color: #00af00\">32</span>)          │      <span style=\"color: #00af00; text-decoration-color: #00af00\">8,668,672</span> │ userId[<span style=\"color: #00af00; text-decoration-color: #00af00\">0</span>][<span style=\"color: #00af00; text-decoration-color: #00af00\">0</span>]           │\n├───────────────────────────┼────────────────────────┼────────────────┼────────────────────────┤\n│ embedding_9 (<span style=\"color: #0087ff; text-decoration-color: #0087ff\">Embedding</span>)   │ (<span style=\"color: #00d7ff; text-decoration-color: #00d7ff\">None</span>, <span style=\"color: #00af00; text-decoration-color: #00af00\">1</span>, <span style=\"color: #00af00; text-decoration-color: #00af00\">32</span>)          │      <span style=\"color: #00af00; text-decoration-color: #00af00\">1,443,680</span> │ movieId[<span style=\"color: #00af00; text-decoration-color: #00af00\">0</span>][<span style=\"color: #00af00; text-decoration-color: #00af00\">0</span>]          │\n├───────────────────────────┼────────────────────────┼────────────────┼────────────────────────┤\n│ dropout_12 (<span style=\"color: #0087ff; text-decoration-color: #0087ff\">Dropout</span>)      │ (<span style=\"color: #00d7ff; text-decoration-color: #00d7ff\">None</span>, <span style=\"color: #00af00; text-decoration-color: #00af00\">32</span>)             │              <span style=\"color: #00af00; text-decoration-color: #00af00\">0</span> │ flatten_10[<span style=\"color: #00af00; text-decoration-color: #00af00\">0</span>][<span style=\"color: #00af00; text-decoration-color: #00af00\">0</span>]       │\n├───────────────────────────┼────────────────────────┼────────────────┼────────────────────────┤\n│ dropout_13 (<span style=\"color: #0087ff; text-decoration-color: #0087ff\">Dropout</span>)      │ (<span style=\"color: #00d7ff; text-decoration-color: #00d7ff\">None</span>, <span style=\"color: #00af00; text-decoration-color: #00af00\">32</span>)             │              <span style=\"color: #00af00; text-decoration-color: #00af00\">0</span> │ flatten_11[<span style=\"color: #00af00; text-decoration-color: #00af00\">0</span>][<span style=\"color: #00af00; text-decoration-color: #00af00\">0</span>]       │\n├───────────────────────────┼────────────────────────┼────────────────┼────────────────────────┤\n│ flatten_8 (<span style=\"color: #0087ff; text-decoration-color: #0087ff\">Flatten</span>)       │ (<span style=\"color: #00d7ff; text-decoration-color: #00d7ff\">None</span>, <span style=\"color: #00af00; text-decoration-color: #00af00\">32</span>)             │              <span style=\"color: #00af00; text-decoration-color: #00af00\">0</span> │ embedding_8[<span style=\"color: #00af00; text-decoration-color: #00af00\">0</span>][<span style=\"color: #00af00; text-decoration-color: #00af00\">0</span>]      │\n├───────────────────────────┼────────────────────────┼────────────────┼────────────────────────┤\n│ flatten_9 (<span style=\"color: #0087ff; text-decoration-color: #0087ff\">Flatten</span>)       │ (<span style=\"color: #00d7ff; text-decoration-color: #00d7ff\">None</span>, <span style=\"color: #00af00; text-decoration-color: #00af00\">32</span>)             │              <span style=\"color: #00af00; text-decoration-color: #00af00\">0</span> │ embedding_9[<span style=\"color: #00af00; text-decoration-color: #00af00\">0</span>][<span style=\"color: #00af00; text-decoration-color: #00af00\">0</span>]      │\n├───────────────────────────┼────────────────────────┼────────────────┼────────────────────────┤\n│ concatenate_2             │ (<span style=\"color: #00d7ff; text-decoration-color: #00d7ff\">None</span>, <span style=\"color: #00af00; text-decoration-color: #00af00\">64</span>)             │              <span style=\"color: #00af00; text-decoration-color: #00af00\">0</span> │ dropout_12[<span style=\"color: #00af00; text-decoration-color: #00af00\">0</span>][<span style=\"color: #00af00; text-decoration-color: #00af00\">0</span>],      │\n│ (<span style=\"color: #0087ff; text-decoration-color: #0087ff\">Concatenate</span>)             │                        │                │ dropout_13[<span style=\"color: #00af00; text-decoration-color: #00af00\">0</span>][<span style=\"color: #00af00; text-decoration-color: #00af00\">0</span>]       │\n├───────────────────────────┼────────────────────────┼────────────────┼────────────────────────┤\n│ dropout_10 (<span style=\"color: #0087ff; text-decoration-color: #0087ff\">Dropout</span>)      │ (<span style=\"color: #00d7ff; text-decoration-color: #00d7ff\">None</span>, <span style=\"color: #00af00; text-decoration-color: #00af00\">32</span>)             │              <span style=\"color: #00af00; text-decoration-color: #00af00\">0</span> │ flatten_8[<span style=\"color: #00af00; text-decoration-color: #00af00\">0</span>][<span style=\"color: #00af00; text-decoration-color: #00af00\">0</span>]        │\n├───────────────────────────┼────────────────────────┼────────────────┼────────────────────────┤\n│ dropout_11 (<span style=\"color: #0087ff; text-decoration-color: #0087ff\">Dropout</span>)      │ (<span style=\"color: #00d7ff; text-decoration-color: #00d7ff\">None</span>, <span style=\"color: #00af00; text-decoration-color: #00af00\">32</span>)             │              <span style=\"color: #00af00; text-decoration-color: #00af00\">0</span> │ flatten_9[<span style=\"color: #00af00; text-decoration-color: #00af00\">0</span>][<span style=\"color: #00af00; text-decoration-color: #00af00\">0</span>]        │\n├───────────────────────────┼────────────────────────┼────────────────┼────────────────────────┤\n│ dense_2 (<span style=\"color: #0087ff; text-decoration-color: #0087ff\">Dense</span>)           │ (<span style=\"color: #00d7ff; text-decoration-color: #00d7ff\">None</span>, <span style=\"color: #00af00; text-decoration-color: #00af00\">64</span>)             │          <span style=\"color: #00af00; text-decoration-color: #00af00\">4,160</span> │ concatenate_2[<span style=\"color: #00af00; text-decoration-color: #00af00\">0</span>][<span style=\"color: #00af00; text-decoration-color: #00af00\">0</span>]    │\n├───────────────────────────┼────────────────────────┼────────────────┼────────────────────────┤\n│ multiply_2 (<span style=\"color: #0087ff; text-decoration-color: #0087ff\">Multiply</span>)     │ (<span style=\"color: #00d7ff; text-decoration-color: #00d7ff\">None</span>, <span style=\"color: #00af00; text-decoration-color: #00af00\">32</span>)             │              <span style=\"color: #00af00; text-decoration-color: #00af00\">0</span> │ dropout_10[<span style=\"color: #00af00; text-decoration-color: #00af00\">0</span>][<span style=\"color: #00af00; text-decoration-color: #00af00\">0</span>],      │\n│                           │                        │                │ dropout_11[<span style=\"color: #00af00; text-decoration-color: #00af00\">0</span>][<span style=\"color: #00af00; text-decoration-color: #00af00\">0</span>]       │\n├───────────────────────────┼────────────────────────┼────────────────┼────────────────────────┤\n│ dropout_14 (<span style=\"color: #0087ff; text-decoration-color: #0087ff\">Dropout</span>)      │ (<span style=\"color: #00d7ff; text-decoration-color: #00d7ff\">None</span>, <span style=\"color: #00af00; text-decoration-color: #00af00\">64</span>)             │              <span style=\"color: #00af00; text-decoration-color: #00af00\">0</span> │ dense_2[<span style=\"color: #00af00; text-decoration-color: #00af00\">0</span>][<span style=\"color: #00af00; text-decoration-color: #00af00\">0</span>]          │\n├───────────────────────────┼────────────────────────┼────────────────┼────────────────────────┤\n│ concatenate_3             │ (<span style=\"color: #00d7ff; text-decoration-color: #00d7ff\">None</span>, <span style=\"color: #00af00; text-decoration-color: #00af00\">96</span>)             │              <span style=\"color: #00af00; text-decoration-color: #00af00\">0</span> │ multiply_2[<span style=\"color: #00af00; text-decoration-color: #00af00\">0</span>][<span style=\"color: #00af00; text-decoration-color: #00af00\">0</span>],      │\n│ (<span style=\"color: #0087ff; text-decoration-color: #0087ff\">Concatenate</span>)             │                        │                │ dropout_14[<span style=\"color: #00af00; text-decoration-color: #00af00\">0</span>][<span style=\"color: #00af00; text-decoration-color: #00af00\">0</span>]       │\n├───────────────────────────┼────────────────────────┼────────────────┼────────────────────────┤\n│ prediction (<span style=\"color: #0087ff; text-decoration-color: #0087ff\">Dense</span>)        │ (<span style=\"color: #00d7ff; text-decoration-color: #00d7ff\">None</span>, <span style=\"color: #00af00; text-decoration-color: #00af00\">1</span>)              │             <span style=\"color: #00af00; text-decoration-color: #00af00\">97</span> │ concatenate_3[<span style=\"color: #00af00; text-decoration-color: #00af00\">0</span>][<span style=\"color: #00af00; text-decoration-color: #00af00\">0</span>]    │\n└───────────────────────────┴────────────────────────┴────────────────┴────────────────────────┘\n</pre>\n"
     },
     "metadata": {}
    },
    {
     "output_type": "display_data",
     "data": {
      "text/plain": "\u001B[1m Total params: \u001B[0m\u001B[38;5;34m20,228,961\u001B[0m (77.17 MB)\n",
      "text/html": "<pre style=\"white-space:pre;overflow-x:auto;line-height:normal;font-family:Menlo,'DejaVu Sans Mono',consolas,'Courier New',monospace\"><span style=\"font-weight: bold\"> Total params: </span><span style=\"color: #00af00; text-decoration-color: #00af00\">20,228,961</span> (77.17 MB)\n</pre>\n"
     },
     "metadata": {}
    },
    {
     "output_type": "display_data",
     "data": {
      "text/plain": "\u001B[1m Trainable params: \u001B[0m\u001B[38;5;34m20,228,961\u001B[0m (77.17 MB)\n",
      "text/html": "<pre style=\"white-space:pre;overflow-x:auto;line-height:normal;font-family:Menlo,'DejaVu Sans Mono',consolas,'Courier New',monospace\"><span style=\"font-weight: bold\"> Trainable params: </span><span style=\"color: #00af00; text-decoration-color: #00af00\">20,228,961</span> (77.17 MB)\n</pre>\n"
     },
     "metadata": {}
    },
    {
     "output_type": "display_data",
     "data": {
      "text/plain": "\u001B[1m Non-trainable params: \u001B[0m\u001B[38;5;34m0\u001B[0m (0.00 B)\n",
      "text/html": "<pre style=\"white-space:pre;overflow-x:auto;line-height:normal;font-family:Menlo,'DejaVu Sans Mono',consolas,'Courier New',monospace\"><span style=\"font-weight: bold\"> Non-trainable params: </span><span style=\"color: #00af00; text-decoration-color: #00af00\">0</span> (0.00 B)\n</pre>\n"
     },
     "metadata": {}
    }
   ],
   "execution_count": 8
  },
  {
   "id": "afe41b4faf5551b5",
   "cell_type": "code",
   "source": "# configure the callback\nreduce_lr = ReduceLROnPlateau(\n    monitor='val_loss',    # watch validation loss\n    factor=0.5,            # multiply LR by this factor on plateau\n    patience=2,            # wait this many epochs with no improvement\n    min_lr=1e-6,           # don’t go below this LR\n    verbose=1              # print messages when LR is reduced\n)\n\n# now include it in your fit call\nmodel.fit(\n    x=[user_ids, movie_ids],\n    y=users['rating'].astype('float32'),\n    epochs=10,\n    batch_size=2048,\n    validation_split=0.2,\n    callbacks=[reduce_lr]\n)\n",
   "metadata": {
    "ExecuteTime": {
     "end_time": "2025-05-22T22:06:09.673653Z",
     "start_time": "2025-05-22T22:06:02.828411Z"
    },
    "trusted": true,
    "execution": {
     "iopub.status.busy": "2025-05-23T03:25:42.859044Z",
     "iopub.status.idle": "2025-05-23T03:25:42.859350Z",
     "shell.execute_reply.started": "2025-05-23T03:25:42.859178Z",
     "shell.execute_reply": "2025-05-23T03:25:42.859193Z"
    }
   },
   "outputs": [],
   "execution_count": null
  },
  {
   "id": "c722a8c4565df00c",
   "cell_type": "markdown",
   "source": "# Content-Based Filtering Model",
   "metadata": {}
  },
  {
   "id": "7a63e02a114a9f6f",
   "cell_type": "markdown",
   "source": "When you think of content-based filtering, think of statements like:\n- Because you liked horror\n- Because you searched laptops\n\n### 🧠 “Attribute Similarity”\nThe system uses the metadata or features of items (or users) directly.\n\n> It recommends items with similar features to what you liked, not because other users liked them.\n\n### 📦 How It Works:\n- Uses item (or user) attributes: genres, categories, descriptions\n- Builds a user profile from liked item features\n- Compares feature vectors (e.g., via cosine similarity)\n\nfinds patterns in features",
   "metadata": {}
  },
  {
   "id": "712dd9f66ccaa746",
   "cell_type": "markdown",
   "source": "Collaborative filtering learns from who likes what, no matter what it is.\n\nContent-based filtering learns from what the thing is, no matter who liked it.",
   "metadata": {}
  },
  {
   "id": "b9b3f496-fc0a-4668-9ca7-46c6e64071e3",
   "cell_type": "code",
   "source": "# Read the movies meta-data(we will be using the feature genre, overview & title from this)\nmovie_md = pd.read_csv(\"../input/the-movies-dataset/movies_metadata.csv\")\n\n# Read the keywords\nmovie_keywords = pd.read_csv(\"../input/the-movies-dataset/keywords.csv\")\n\n# Read the credits\nmovie_credits = pd.read_csv(\"../input/the-movies-dataset/credits.csv\")",
   "metadata": {
    "trusted": true,
    "execution": {
     "iopub.status.busy": "2025-05-23T04:25:34.031982Z",
     "iopub.execute_input": "2025-05-23T04:25:34.032436Z",
     "iopub.status.idle": "2025-05-23T04:25:38.758441Z",
     "shell.execute_reply.started": "2025-05-23T04:25:34.032417Z",
     "shell.execute_reply": "2025-05-23T04:25:38.757872Z"
    }
   },
   "outputs": [
    {
     "name": "stderr",
     "text": "/tmp/ipykernel_35/833069106.py:2: DtypeWarning: Columns (10) have mixed types. Specify dtype option on import or set low_memory=False.\n  movie_md = pd.read_csv(\"../input/the-movies-dataset/movies_metadata.csv\")\n",
     "output_type": "stream"
    }
   ],
   "execution_count": 3
  },
  {
   "id": "8c0600b2-9c3c-4d7f-bbec-f8e5c9828019",
   "cell_type": "code",
   "source": "movie_md.head()",
   "metadata": {
    "trusted": true,
    "execution": {
     "iopub.status.busy": "2025-05-23T04:25:38.759090Z",
     "iopub.execute_input": "2025-05-23T04:25:38.759291Z",
     "iopub.status.idle": "2025-05-23T04:25:38.789058Z",
     "shell.execute_reply.started": "2025-05-23T04:25:38.759275Z",
     "shell.execute_reply": "2025-05-23T04:25:38.788502Z"
    }
   },
   "outputs": [
    {
     "execution_count": 4,
     "output_type": "execute_result",
     "data": {
      "text/plain": "   adult                              belongs_to_collection    budget  \\\n0  False  {'id': 10194, 'name': 'Toy Story Collection', ...  30000000   \n1  False                                                NaN  65000000   \n2  False  {'id': 119050, 'name': 'Grumpy Old Men Collect...         0   \n3  False                                                NaN  16000000   \n4  False  {'id': 96871, 'name': 'Father of the Bride Col...         0   \n\n                                              genres  \\\n0  [{'id': 16, 'name': 'Animation'}, {'id': 35, '...   \n1  [{'id': 12, 'name': 'Adventure'}, {'id': 14, '...   \n2  [{'id': 10749, 'name': 'Romance'}, {'id': 35, ...   \n3  [{'id': 35, 'name': 'Comedy'}, {'id': 18, 'nam...   \n4                     [{'id': 35, 'name': 'Comedy'}]   \n\n                               homepage     id    imdb_id original_language  \\\n0  http://toystory.disney.com/toy-story    862  tt0114709                en   \n1                                   NaN   8844  tt0113497                en   \n2                                   NaN  15602  tt0113228                en   \n3                                   NaN  31357  tt0114885                en   \n4                                   NaN  11862  tt0113041                en   \n\n                original_title  \\\n0                    Toy Story   \n1                      Jumanji   \n2             Grumpier Old Men   \n3            Waiting to Exhale   \n4  Father of the Bride Part II   \n\n                                            overview  ... release_date  \\\n0  Led by Woody, Andy's toys live happily in his ...  ...   1995-10-30   \n1  When siblings Judy and Peter discover an encha...  ...   1995-12-15   \n2  A family wedding reignites the ancient feud be...  ...   1995-12-22   \n3  Cheated on, mistreated and stepped on, the wom...  ...   1995-12-22   \n4  Just when George Banks has recovered from his ...  ...   1995-02-10   \n\n       revenue runtime                                   spoken_languages  \\\n0  373554033.0    81.0           [{'iso_639_1': 'en', 'name': 'English'}]   \n1  262797249.0   104.0  [{'iso_639_1': 'en', 'name': 'English'}, {'iso...   \n2          0.0   101.0           [{'iso_639_1': 'en', 'name': 'English'}]   \n3   81452156.0   127.0           [{'iso_639_1': 'en', 'name': 'English'}]   \n4   76578911.0   106.0           [{'iso_639_1': 'en', 'name': 'English'}]   \n\n     status                                            tagline  \\\n0  Released                                                NaN   \n1  Released          Roll the dice and unleash the excitement!   \n2  Released  Still Yelling. Still Fighting. Still Ready for...   \n3  Released  Friends are the people who let you be yourself...   \n4  Released  Just When His World Is Back To Normal... He's ...   \n\n                         title  video vote_average vote_count  \n0                    Toy Story  False          7.7     5415.0  \n1                      Jumanji  False          6.9     2413.0  \n2             Grumpier Old Men  False          6.5       92.0  \n3            Waiting to Exhale  False          6.1       34.0  \n4  Father of the Bride Part II  False          5.7      173.0  \n\n[5 rows x 24 columns]",
      "text/html": "<div>\n<style scoped>\n    .dataframe tbody tr th:only-of-type {\n        vertical-align: middle;\n    }\n\n    .dataframe tbody tr th {\n        vertical-align: top;\n    }\n\n    .dataframe thead th {\n        text-align: right;\n    }\n</style>\n<table border=\"1\" class=\"dataframe\">\n  <thead>\n    <tr style=\"text-align: right;\">\n      <th></th>\n      <th>adult</th>\n      <th>belongs_to_collection</th>\n      <th>budget</th>\n      <th>genres</th>\n      <th>homepage</th>\n      <th>id</th>\n      <th>imdb_id</th>\n      <th>original_language</th>\n      <th>original_title</th>\n      <th>overview</th>\n      <th>...</th>\n      <th>release_date</th>\n      <th>revenue</th>\n      <th>runtime</th>\n      <th>spoken_languages</th>\n      <th>status</th>\n      <th>tagline</th>\n      <th>title</th>\n      <th>video</th>\n      <th>vote_average</th>\n      <th>vote_count</th>\n    </tr>\n  </thead>\n  <tbody>\n    <tr>\n      <th>0</th>\n      <td>False</td>\n      <td>{'id': 10194, 'name': 'Toy Story Collection', ...</td>\n      <td>30000000</td>\n      <td>[{'id': 16, 'name': 'Animation'}, {'id': 35, '...</td>\n      <td>http://toystory.disney.com/toy-story</td>\n      <td>862</td>\n      <td>tt0114709</td>\n      <td>en</td>\n      <td>Toy Story</td>\n      <td>Led by Woody, Andy's toys live happily in his ...</td>\n      <td>...</td>\n      <td>1995-10-30</td>\n      <td>373554033.0</td>\n      <td>81.0</td>\n      <td>[{'iso_639_1': 'en', 'name': 'English'}]</td>\n      <td>Released</td>\n      <td>NaN</td>\n      <td>Toy Story</td>\n      <td>False</td>\n      <td>7.7</td>\n      <td>5415.0</td>\n    </tr>\n    <tr>\n      <th>1</th>\n      <td>False</td>\n      <td>NaN</td>\n      <td>65000000</td>\n      <td>[{'id': 12, 'name': 'Adventure'}, {'id': 14, '...</td>\n      <td>NaN</td>\n      <td>8844</td>\n      <td>tt0113497</td>\n      <td>en</td>\n      <td>Jumanji</td>\n      <td>When siblings Judy and Peter discover an encha...</td>\n      <td>...</td>\n      <td>1995-12-15</td>\n      <td>262797249.0</td>\n      <td>104.0</td>\n      <td>[{'iso_639_1': 'en', 'name': 'English'}, {'iso...</td>\n      <td>Released</td>\n      <td>Roll the dice and unleash the excitement!</td>\n      <td>Jumanji</td>\n      <td>False</td>\n      <td>6.9</td>\n      <td>2413.0</td>\n    </tr>\n    <tr>\n      <th>2</th>\n      <td>False</td>\n      <td>{'id': 119050, 'name': 'Grumpy Old Men Collect...</td>\n      <td>0</td>\n      <td>[{'id': 10749, 'name': 'Romance'}, {'id': 35, ...</td>\n      <td>NaN</td>\n      <td>15602</td>\n      <td>tt0113228</td>\n      <td>en</td>\n      <td>Grumpier Old Men</td>\n      <td>A family wedding reignites the ancient feud be...</td>\n      <td>...</td>\n      <td>1995-12-22</td>\n      <td>0.0</td>\n      <td>101.0</td>\n      <td>[{'iso_639_1': 'en', 'name': 'English'}]</td>\n      <td>Released</td>\n      <td>Still Yelling. Still Fighting. Still Ready for...</td>\n      <td>Grumpier Old Men</td>\n      <td>False</td>\n      <td>6.5</td>\n      <td>92.0</td>\n    </tr>\n    <tr>\n      <th>3</th>\n      <td>False</td>\n      <td>NaN</td>\n      <td>16000000</td>\n      <td>[{'id': 35, 'name': 'Comedy'}, {'id': 18, 'nam...</td>\n      <td>NaN</td>\n      <td>31357</td>\n      <td>tt0114885</td>\n      <td>en</td>\n      <td>Waiting to Exhale</td>\n      <td>Cheated on, mistreated and stepped on, the wom...</td>\n      <td>...</td>\n      <td>1995-12-22</td>\n      <td>81452156.0</td>\n      <td>127.0</td>\n      <td>[{'iso_639_1': 'en', 'name': 'English'}]</td>\n      <td>Released</td>\n      <td>Friends are the people who let you be yourself...</td>\n      <td>Waiting to Exhale</td>\n      <td>False</td>\n      <td>6.1</td>\n      <td>34.0</td>\n    </tr>\n    <tr>\n      <th>4</th>\n      <td>False</td>\n      <td>{'id': 96871, 'name': 'Father of the Bride Col...</td>\n      <td>0</td>\n      <td>[{'id': 35, 'name': 'Comedy'}]</td>\n      <td>NaN</td>\n      <td>11862</td>\n      <td>tt0113041</td>\n      <td>en</td>\n      <td>Father of the Bride Part II</td>\n      <td>Just when George Banks has recovered from his ...</td>\n      <td>...</td>\n      <td>1995-02-10</td>\n      <td>76578911.0</td>\n      <td>106.0</td>\n      <td>[{'iso_639_1': 'en', 'name': 'English'}]</td>\n      <td>Released</td>\n      <td>Just When His World Is Back To Normal... He's ...</td>\n      <td>Father of the Bride Part II</td>\n      <td>False</td>\n      <td>5.7</td>\n      <td>173.0</td>\n    </tr>\n  </tbody>\n</table>\n<p>5 rows × 24 columns</p>\n</div>"
     },
     "metadata": {}
    }
   ],
   "execution_count": 4
  },
  {
   "id": "9ea5ab2b-4598-4a51-918f-ed50d096942e",
   "cell_type": "code",
   "source": "#we are going to select movies with atleast more than 50 votes\nmovie_md = movie_md[movie_md['vote_count']>50]",
   "metadata": {
    "trusted": true,
    "execution": {
     "iopub.status.busy": "2025-05-23T04:25:38.789737Z",
     "iopub.execute_input": "2025-05-23T04:25:38.790007Z",
     "iopub.status.idle": "2025-05-23T04:25:38.809441Z",
     "shell.execute_reply.started": "2025-05-23T04:25:38.789983Z",
     "shell.execute_reply": "2025-05-23T04:25:38.808871Z"
    }
   },
   "outputs": [
    {
     "name": "stderr",
     "text": "/usr/local/lib/python3.11/dist-packages/pandas/core/computation/expressions.py:73: RuntimeWarning: invalid value encountered in greater\n  return op(a, b)\n",
     "output_type": "stream"
    }
   ],
   "execution_count": 5
  },
  {
   "id": "2ba9a142-07db-4d66-aa0f-b33185abfa57",
   "cell_type": "code",
   "source": "movie_md = movie_md[['id','original_title','overview','genres']]",
   "metadata": {
    "trusted": true,
    "execution": {
     "iopub.status.busy": "2025-05-23T04:25:38.811176Z",
     "iopub.execute_input": "2025-05-23T04:25:38.811352Z",
     "iopub.status.idle": "2025-05-23T04:25:38.827786Z",
     "shell.execute_reply.started": "2025-05-23T04:25:38.811338Z",
     "shell.execute_reply": "2025-05-23T04:25:38.827297Z"
    }
   },
   "outputs": [],
   "execution_count": 6
  },
  {
   "id": "8635f082-9e54-4812-bfad-814d323a7d1d",
   "cell_type": "code",
   "source": "# Creating a duplicate column for title so that once can be used to search later and one for creating features\nmovie_md['title'] = movie_md['original_title'].copy()",
   "metadata": {
    "trusted": true,
    "execution": {
     "iopub.status.busy": "2025-05-23T04:25:38.828522Z",
     "iopub.execute_input": "2025-05-23T04:25:38.828736Z",
     "iopub.status.idle": "2025-05-23T04:25:38.842014Z",
     "shell.execute_reply.started": "2025-05-23T04:25:38.828716Z",
     "shell.execute_reply": "2025-05-23T04:25:38.841362Z"
    }
   },
   "outputs": [],
   "execution_count": 7
  },
  {
   "id": "5779e065-7da2-4f16-8039-62d53c04a9ef",
   "cell_type": "code",
   "source": "movie_md.reset_index(inplace=True, drop=True)\nmovie_md.head()",
   "metadata": {
    "trusted": true,
    "execution": {
     "iopub.status.busy": "2025-05-23T04:25:38.842545Z",
     "iopub.execute_input": "2025-05-23T04:25:38.842725Z",
     "iopub.status.idle": "2025-05-23T04:25:38.861167Z",
     "shell.execute_reply.started": "2025-05-23T04:25:38.842710Z",
     "shell.execute_reply": "2025-05-23T04:25:38.860654Z"
    }
   },
   "outputs": [
    {
     "execution_count": 8,
     "output_type": "execute_result",
     "data": {
      "text/plain": "      id               original_title  \\\n0    862                    Toy Story   \n1   8844                      Jumanji   \n2  15602             Grumpier Old Men   \n3  11862  Father of the Bride Part II   \n4    949                         Heat   \n\n                                            overview  \\\n0  Led by Woody, Andy's toys live happily in his ...   \n1  When siblings Judy and Peter discover an encha...   \n2  A family wedding reignites the ancient feud be...   \n3  Just when George Banks has recovered from his ...   \n4  Obsessive master thief, Neil McCauley leads a ...   \n\n                                              genres  \\\n0  [{'id': 16, 'name': 'Animation'}, {'id': 35, '...   \n1  [{'id': 12, 'name': 'Adventure'}, {'id': 14, '...   \n2  [{'id': 10749, 'name': 'Romance'}, {'id': 35, ...   \n3                     [{'id': 35, 'name': 'Comedy'}]   \n4  [{'id': 28, 'name': 'Action'}, {'id': 80, 'nam...   \n\n                         title  \n0                    Toy Story  \n1                      Jumanji  \n2             Grumpier Old Men  \n3  Father of the Bride Part II  \n4                         Heat  ",
      "text/html": "<div>\n<style scoped>\n    .dataframe tbody tr th:only-of-type {\n        vertical-align: middle;\n    }\n\n    .dataframe tbody tr th {\n        vertical-align: top;\n    }\n\n    .dataframe thead th {\n        text-align: right;\n    }\n</style>\n<table border=\"1\" class=\"dataframe\">\n  <thead>\n    <tr style=\"text-align: right;\">\n      <th></th>\n      <th>id</th>\n      <th>original_title</th>\n      <th>overview</th>\n      <th>genres</th>\n      <th>title</th>\n    </tr>\n  </thead>\n  <tbody>\n    <tr>\n      <th>0</th>\n      <td>862</td>\n      <td>Toy Story</td>\n      <td>Led by Woody, Andy's toys live happily in his ...</td>\n      <td>[{'id': 16, 'name': 'Animation'}, {'id': 35, '...</td>\n      <td>Toy Story</td>\n    </tr>\n    <tr>\n      <th>1</th>\n      <td>8844</td>\n      <td>Jumanji</td>\n      <td>When siblings Judy and Peter discover an encha...</td>\n      <td>[{'id': 12, 'name': 'Adventure'}, {'id': 14, '...</td>\n      <td>Jumanji</td>\n    </tr>\n    <tr>\n      <th>2</th>\n      <td>15602</td>\n      <td>Grumpier Old Men</td>\n      <td>A family wedding reignites the ancient feud be...</td>\n      <td>[{'id': 10749, 'name': 'Romance'}, {'id': 35, ...</td>\n      <td>Grumpier Old Men</td>\n    </tr>\n    <tr>\n      <th>3</th>\n      <td>11862</td>\n      <td>Father of the Bride Part II</td>\n      <td>Just when George Banks has recovered from his ...</td>\n      <td>[{'id': 35, 'name': 'Comedy'}]</td>\n      <td>Father of the Bride Part II</td>\n    </tr>\n    <tr>\n      <th>4</th>\n      <td>949</td>\n      <td>Heat</td>\n      <td>Obsessive master thief, Neil McCauley leads a ...</td>\n      <td>[{'id': 28, 'name': 'Action'}, {'id': 80, 'nam...</td>\n      <td>Heat</td>\n    </tr>\n  </tbody>\n</table>\n</div>"
     },
     "metadata": {}
    }
   ],
   "execution_count": 8
  },
  {
   "id": "86314317-1f66-41f1-9133-8f177409aef2",
   "cell_type": "code",
   "source": "movie_keywords.head()",
   "metadata": {
    "trusted": true,
    "execution": {
     "iopub.status.busy": "2025-05-23T04:25:38.861850Z",
     "iopub.execute_input": "2025-05-23T04:25:38.862466Z",
     "iopub.status.idle": "2025-05-23T04:25:38.877864Z",
     "shell.execute_reply.started": "2025-05-23T04:25:38.862444Z",
     "shell.execute_reply": "2025-05-23T04:25:38.877349Z"
    }
   },
   "outputs": [
    {
     "execution_count": 9,
     "output_type": "execute_result",
     "data": {
      "text/plain": "      id                                           keywords\n0    862  [{'id': 931, 'name': 'jealousy'}, {'id': 4290,...\n1   8844  [{'id': 10090, 'name': 'board game'}, {'id': 1...\n2  15602  [{'id': 1495, 'name': 'fishing'}, {'id': 12392...\n3  31357  [{'id': 818, 'name': 'based on novel'}, {'id':...\n4  11862  [{'id': 1009, 'name': 'baby'}, {'id': 1599, 'n...",
      "text/html": "<div>\n<style scoped>\n    .dataframe tbody tr th:only-of-type {\n        vertical-align: middle;\n    }\n\n    .dataframe tbody tr th {\n        vertical-align: top;\n    }\n\n    .dataframe thead th {\n        text-align: right;\n    }\n</style>\n<table border=\"1\" class=\"dataframe\">\n  <thead>\n    <tr style=\"text-align: right;\">\n      <th></th>\n      <th>id</th>\n      <th>keywords</th>\n    </tr>\n  </thead>\n  <tbody>\n    <tr>\n      <th>0</th>\n      <td>862</td>\n      <td>[{'id': 931, 'name': 'jealousy'}, {'id': 4290,...</td>\n    </tr>\n    <tr>\n      <th>1</th>\n      <td>8844</td>\n      <td>[{'id': 10090, 'name': 'board game'}, {'id': 1...</td>\n    </tr>\n    <tr>\n      <th>2</th>\n      <td>15602</td>\n      <td>[{'id': 1495, 'name': 'fishing'}, {'id': 12392...</td>\n    </tr>\n    <tr>\n      <th>3</th>\n      <td>31357</td>\n      <td>[{'id': 818, 'name': 'based on novel'}, {'id':...</td>\n    </tr>\n    <tr>\n      <th>4</th>\n      <td>11862</td>\n      <td>[{'id': 1009, 'name': 'baby'}, {'id': 1599, 'n...</td>\n    </tr>\n  </tbody>\n</table>\n</div>"
     },
     "metadata": {}
    }
   ],
   "execution_count": 9
  },
  {
   "id": "bf7e3eda-f57f-478e-8036-70d006d116fa",
   "cell_type": "code",
   "source": "movie_credits.head()",
   "metadata": {
    "trusted": true,
    "execution": {
     "iopub.status.busy": "2025-05-23T04:25:38.878652Z",
     "iopub.execute_input": "2025-05-23T04:25:38.878959Z",
     "iopub.status.idle": "2025-05-23T04:25:38.894278Z",
     "shell.execute_reply.started": "2025-05-23T04:25:38.878935Z",
     "shell.execute_reply": "2025-05-23T04:25:38.893577Z"
    }
   },
   "outputs": [
    {
     "execution_count": 10,
     "output_type": "execute_result",
     "data": {
      "text/plain": "                                                cast  \\\n0  [{'cast_id': 14, 'character': 'Woody (voice)',...   \n1  [{'cast_id': 1, 'character': 'Alan Parrish', '...   \n2  [{'cast_id': 2, 'character': 'Max Goldman', 'c...   \n3  [{'cast_id': 1, 'character': \"Savannah 'Vannah...   \n4  [{'cast_id': 1, 'character': 'George Banks', '...   \n\n                                                crew     id  \n0  [{'credit_id': '52fe4284c3a36847f8024f49', 'de...    862  \n1  [{'credit_id': '52fe44bfc3a36847f80a7cd1', 'de...   8844  \n2  [{'credit_id': '52fe466a9251416c75077a89', 'de...  15602  \n3  [{'credit_id': '52fe44779251416c91011acb', 'de...  31357  \n4  [{'credit_id': '52fe44959251416c75039ed7', 'de...  11862  ",
      "text/html": "<div>\n<style scoped>\n    .dataframe tbody tr th:only-of-type {\n        vertical-align: middle;\n    }\n\n    .dataframe tbody tr th {\n        vertical-align: top;\n    }\n\n    .dataframe thead th {\n        text-align: right;\n    }\n</style>\n<table border=\"1\" class=\"dataframe\">\n  <thead>\n    <tr style=\"text-align: right;\">\n      <th></th>\n      <th>cast</th>\n      <th>crew</th>\n      <th>id</th>\n    </tr>\n  </thead>\n  <tbody>\n    <tr>\n      <th>0</th>\n      <td>[{'cast_id': 14, 'character': 'Woody (voice)',...</td>\n      <td>[{'credit_id': '52fe4284c3a36847f8024f49', 'de...</td>\n      <td>862</td>\n    </tr>\n    <tr>\n      <th>1</th>\n      <td>[{'cast_id': 1, 'character': 'Alan Parrish', '...</td>\n      <td>[{'credit_id': '52fe44bfc3a36847f80a7cd1', 'de...</td>\n      <td>8844</td>\n    </tr>\n    <tr>\n      <th>2</th>\n      <td>[{'cast_id': 2, 'character': 'Max Goldman', 'c...</td>\n      <td>[{'credit_id': '52fe466a9251416c75077a89', 'de...</td>\n      <td>15602</td>\n    </tr>\n    <tr>\n      <th>3</th>\n      <td>[{'cast_id': 1, 'character': \"Savannah 'Vannah...</td>\n      <td>[{'credit_id': '52fe44779251416c91011acb', 'de...</td>\n      <td>31357</td>\n    </tr>\n    <tr>\n      <th>4</th>\n      <td>[{'cast_id': 1, 'character': 'George Banks', '...</td>\n      <td>[{'credit_id': '52fe44959251416c75039ed7', 'de...</td>\n      <td>11862</td>\n    </tr>\n  </tbody>\n</table>\n</div>"
     },
     "metadata": {}
    }
   ],
   "execution_count": 10
  },
  {
   "id": "14591d83-3731-440a-8345-01fa70c378c9",
   "cell_type": "code",
   "source": "movie_credits = movie_credits[['id','cast']]",
   "metadata": {
    "trusted": true,
    "execution": {
     "iopub.status.busy": "2025-05-23T04:25:48.897121Z",
     "iopub.execute_input": "2025-05-23T04:25:48.897382Z",
     "iopub.status.idle": "2025-05-23T04:25:48.904925Z",
     "shell.execute_reply.started": "2025-05-23T04:25:48.897363Z",
     "shell.execute_reply": "2025-05-23T04:25:48.904132Z"
    }
   },
   "outputs": [],
   "execution_count": 16
  },
  {
   "id": "4ac08835-c248-485d-afbd-66bb899f172b",
   "cell_type": "code",
   "source": "# Removing the records for which the id is not available\nmovie_md = movie_md[movie_md['id'].astype(str).str.isnumeric()]\n",
   "metadata": {
    "trusted": true,
    "execution": {
     "iopub.status.busy": "2025-05-23T04:26:16.138614Z",
     "iopub.execute_input": "2025-05-23T04:26:16.138919Z",
     "iopub.status.idle": "2025-05-23T04:26:16.148545Z",
     "shell.execute_reply.started": "2025-05-23T04:26:16.138898Z",
     "shell.execute_reply": "2025-05-23T04:26:16.147764Z"
    }
   },
   "outputs": [],
   "execution_count": 17
  },
  {
   "id": "047ccb28-2ed4-4a1a-b3f4-4f419394cebe",
   "cell_type": "code",
   "source": "# Merge all dataframe as a single entity\n# To merge the ids must be of same datatype\nmovie_md['id'] = movie_md['id'].astype(int)\n\n# Merge\ndf = pd.merge(movie_md, movie_keywords, on='id', how='left')\n\n# Reset the index\ndf.reset_index(inplace=True, drop=True)",
   "metadata": {
    "trusted": true,
    "execution": {
     "iopub.status.busy": "2025-05-23T04:30:34.633807Z",
     "iopub.execute_input": "2025-05-23T04:30:34.634518Z",
     "iopub.status.idle": "2025-05-23T04:30:34.647954Z",
     "shell.execute_reply.started": "2025-05-23T04:30:34.634496Z",
     "shell.execute_reply": "2025-05-23T04:30:34.647202Z"
    }
   },
   "outputs": [],
   "execution_count": 26
  },
  {
   "id": "4a7a4e5f-e8b4-45bb-b54e-5243e7761d2d",
   "cell_type": "code",
   "source": "# Merge with movie credits\ndf = pd.merge(df, movie_credits, on='id', how='left')\n\n# Reset the index\ndf.reset_index(inplace=True, drop=True)",
   "metadata": {
    "trusted": true,
    "execution": {
     "iopub.status.busy": "2025-05-23T04:30:35.970656Z",
     "iopub.execute_input": "2025-05-23T04:30:35.970941Z",
     "iopub.status.idle": "2025-05-23T04:30:35.987799Z",
     "shell.execute_reply.started": "2025-05-23T04:30:35.970919Z",
     "shell.execute_reply": "2025-05-23T04:30:35.987001Z"
    }
   },
   "outputs": [],
   "execution_count": 27
  },
  {
   "id": "73dc4ae3-f482-4758-ac58-e882761a810e",
   "cell_type": "code",
   "source": "df.head()",
   "metadata": {
    "trusted": true,
    "execution": {
     "iopub.status.busy": "2025-05-23T04:30:37.469341Z",
     "iopub.execute_input": "2025-05-23T04:30:37.470039Z",
     "iopub.status.idle": "2025-05-23T04:30:37.478623Z",
     "shell.execute_reply.started": "2025-05-23T04:30:37.470018Z",
     "shell.execute_reply": "2025-05-23T04:30:37.477962Z"
    }
   },
   "outputs": [
    {
     "execution_count": 28,
     "output_type": "execute_result",
     "data": {
      "text/plain": "      id               original_title  \\\n0    862                    Toy Story   \n1   8844                      Jumanji   \n2  15602             Grumpier Old Men   \n3  11862  Father of the Bride Part II   \n4    949                         Heat   \n\n                                            overview  \\\n0  Led by Woody, Andy's toys live happily in his ...   \n1  When siblings Judy and Peter discover an encha...   \n2  A family wedding reignites the ancient feud be...   \n3  Just when George Banks has recovered from his ...   \n4  Obsessive master thief, Neil McCauley leads a ...   \n\n                                              genres  \\\n0  [{'id': 16, 'name': 'Animation'}, {'id': 35, '...   \n1  [{'id': 12, 'name': 'Adventure'}, {'id': 14, '...   \n2  [{'id': 10749, 'name': 'Romance'}, {'id': 35, ...   \n3                     [{'id': 35, 'name': 'Comedy'}]   \n4  [{'id': 28, 'name': 'Action'}, {'id': 80, 'nam...   \n\n                         title  \\\n0                    Toy Story   \n1                      Jumanji   \n2             Grumpier Old Men   \n3  Father of the Bride Part II   \n4                         Heat   \n\n                                            keywords  \\\n0  [{'id': 931, 'name': 'jealousy'}, {'id': 4290,...   \n1  [{'id': 10090, 'name': 'board game'}, {'id': 1...   \n2  [{'id': 1495, 'name': 'fishing'}, {'id': 12392...   \n3  [{'id': 1009, 'name': 'baby'}, {'id': 1599, 'n...   \n4  [{'id': 642, 'name': 'robbery'}, {'id': 703, '...   \n\n                                                cast  \n0  [{'cast_id': 14, 'character': 'Woody (voice)',...  \n1  [{'cast_id': 1, 'character': 'Alan Parrish', '...  \n2  [{'cast_id': 2, 'character': 'Max Goldman', 'c...  \n3  [{'cast_id': 1, 'character': 'George Banks', '...  \n4  [{'cast_id': 25, 'character': 'Lt. Vincent Han...  ",
      "text/html": "<div>\n<style scoped>\n    .dataframe tbody tr th:only-of-type {\n        vertical-align: middle;\n    }\n\n    .dataframe tbody tr th {\n        vertical-align: top;\n    }\n\n    .dataframe thead th {\n        text-align: right;\n    }\n</style>\n<table border=\"1\" class=\"dataframe\">\n  <thead>\n    <tr style=\"text-align: right;\">\n      <th></th>\n      <th>id</th>\n      <th>original_title</th>\n      <th>overview</th>\n      <th>genres</th>\n      <th>title</th>\n      <th>keywords</th>\n      <th>cast</th>\n    </tr>\n  </thead>\n  <tbody>\n    <tr>\n      <th>0</th>\n      <td>862</td>\n      <td>Toy Story</td>\n      <td>Led by Woody, Andy's toys live happily in his ...</td>\n      <td>[{'id': 16, 'name': 'Animation'}, {'id': 35, '...</td>\n      <td>Toy Story</td>\n      <td>[{'id': 931, 'name': 'jealousy'}, {'id': 4290,...</td>\n      <td>[{'cast_id': 14, 'character': 'Woody (voice)',...</td>\n    </tr>\n    <tr>\n      <th>1</th>\n      <td>8844</td>\n      <td>Jumanji</td>\n      <td>When siblings Judy and Peter discover an encha...</td>\n      <td>[{'id': 12, 'name': 'Adventure'}, {'id': 14, '...</td>\n      <td>Jumanji</td>\n      <td>[{'id': 10090, 'name': 'board game'}, {'id': 1...</td>\n      <td>[{'cast_id': 1, 'character': 'Alan Parrish', '...</td>\n    </tr>\n    <tr>\n      <th>2</th>\n      <td>15602</td>\n      <td>Grumpier Old Men</td>\n      <td>A family wedding reignites the ancient feud be...</td>\n      <td>[{'id': 10749, 'name': 'Romance'}, {'id': 35, ...</td>\n      <td>Grumpier Old Men</td>\n      <td>[{'id': 1495, 'name': 'fishing'}, {'id': 12392...</td>\n      <td>[{'cast_id': 2, 'character': 'Max Goldman', 'c...</td>\n    </tr>\n    <tr>\n      <th>3</th>\n      <td>11862</td>\n      <td>Father of the Bride Part II</td>\n      <td>Just when George Banks has recovered from his ...</td>\n      <td>[{'id': 35, 'name': 'Comedy'}]</td>\n      <td>Father of the Bride Part II</td>\n      <td>[{'id': 1009, 'name': 'baby'}, {'id': 1599, 'n...</td>\n      <td>[{'cast_id': 1, 'character': 'George Banks', '...</td>\n    </tr>\n    <tr>\n      <th>4</th>\n      <td>949</td>\n      <td>Heat</td>\n      <td>Obsessive master thief, Neil McCauley leads a ...</td>\n      <td>[{'id': 28, 'name': 'Action'}, {'id': 80, 'nam...</td>\n      <td>Heat</td>\n      <td>[{'id': 642, 'name': 'robbery'}, {'id': 703, '...</td>\n      <td>[{'cast_id': 25, 'character': 'Lt. Vincent Han...</td>\n    </tr>\n  </tbody>\n</table>\n</div>"
     },
     "metadata": {}
    }
   ],
   "execution_count": 28
  },
  {
   "id": "a2559084-3ddf-4a5a-b8ad-8245541fd59b",
   "cell_type": "code",
   "source": "# Lets first start with cleaning the movies metadata\n# Fetchin the genre list from the column\ndf['genres'] = df['genres'].apply(lambda x: [i['name'] for i in eval(x)])\n\n# Replaces spaces in between genre(ex - sci fi to scifi) and make it a string\ndf['genres'] = df['genres'].apply(lambda x: ' '.join([i.replace(\" \",\"\") for i in x]))",
   "metadata": {
    "trusted": true,
    "execution": {
     "iopub.status.busy": "2025-05-23T04:30:40.516367Z",
     "iopub.execute_input": "2025-05-23T04:30:40.517032Z",
     "iopub.status.idle": "2025-05-23T04:30:40.714974Z",
     "shell.execute_reply.started": "2025-05-23T04:30:40.517008Z",
     "shell.execute_reply": "2025-05-23T04:30:40.714256Z"
    }
   },
   "outputs": [],
   "execution_count": 29
  },
  {
   "id": "82244d5c-76ae-4a0f-a66f-fddbd7cf93d8",
   "cell_type": "code",
   "source": "# Filling the numm values as []\ndf['keywords'].fillna('[]', inplace=True)",
   "metadata": {
    "trusted": true,
    "execution": {
     "iopub.status.busy": "2025-05-23T04:30:42.522200Z",
     "iopub.execute_input": "2025-05-23T04:30:42.522471Z",
     "iopub.status.idle": "2025-05-23T04:30:42.529477Z",
     "shell.execute_reply.started": "2025-05-23T04:30:42.522446Z",
     "shell.execute_reply": "2025-05-23T04:30:42.528452Z"
    }
   },
   "outputs": [
    {
     "name": "stderr",
     "text": "/tmp/ipykernel_35/2867868577.py:2: FutureWarning: A value is trying to be set on a copy of a DataFrame or Series through chained assignment using an inplace method.\nThe behavior will change in pandas 3.0. This inplace method will never work because the intermediate object on which we are setting values always behaves as a copy.\n\nFor example, when doing 'df[col].method(value, inplace=True)', try using 'df.method({col: value}, inplace=True)' or df[col] = df[col].method(value) instead, to perform the operation inplace on the original object.\n\n\n  df['keywords'].fillna('[]', inplace=True)\n",
     "output_type": "stream"
    }
   ],
   "execution_count": 30
  },
  {
   "id": "0f766d83-85f3-4cb3-aea7-f348bf840144",
   "cell_type": "code",
   "source": "# Let's clean the keywords dataframe to extract the keywords\n# Fetchin the keyword list from the column     \ndf['keywords'] = df['keywords'].apply(lambda x: [i['name'] for i in eval(x)])\n\n# Remove the expty spaces and join all the keyword wwwith spaces\ndf['keywords'] = df['keywords'].apply(lambda x: ' '.join([i.replace(\" \",'') for i in x]))",
   "metadata": {
    "trusted": true,
    "execution": {
     "iopub.status.busy": "2025-05-23T04:30:46.138086Z",
     "iopub.execute_input": "2025-05-23T04:30:46.138698Z",
     "iopub.status.idle": "2025-05-23T04:30:46.660703Z",
     "shell.execute_reply.started": "2025-05-23T04:30:46.138677Z",
     "shell.execute_reply": "2025-05-23T04:30:46.660144Z"
    }
   },
   "outputs": [],
   "execution_count": 31
  },
  {
   "id": "a1317966-2416-4ea7-b82f-97d39b6085cf",
   "cell_type": "code",
   "source": "# Filling the numm values as []\ndf['cast'].fillna('[]', inplace=True)",
   "metadata": {
    "trusted": true,
    "execution": {
     "iopub.status.busy": "2025-05-23T04:30:49.147777Z",
     "iopub.execute_input": "2025-05-23T04:30:49.148033Z",
     "iopub.status.idle": "2025-05-23T04:30:49.153952Z",
     "shell.execute_reply.started": "2025-05-23T04:30:49.148016Z",
     "shell.execute_reply": "2025-05-23T04:30:49.153051Z"
    }
   },
   "outputs": [
    {
     "name": "stderr",
     "text": "/tmp/ipykernel_35/2760277014.py:2: FutureWarning: A value is trying to be set on a copy of a DataFrame or Series through chained assignment using an inplace method.\nThe behavior will change in pandas 3.0. This inplace method will never work because the intermediate object on which we are setting values always behaves as a copy.\n\nFor example, when doing 'df[col].method(value, inplace=True)', try using 'df.method({col: value}, inplace=True)' or df[col] = df[col].method(value) instead, to perform the operation inplace on the original object.\n\n\n  df['cast'].fillna('[]', inplace=True)\n",
     "output_type": "stream"
    }
   ],
   "execution_count": 32
  },
  {
   "id": "16f65a8a-8e46-4a6b-a020-17ee0748664c",
   "cell_type": "code",
   "source": "# Let's clean the cast dataframe to extract the name of aactors from cast column\n# Fetchin the cast list from the column\ndf['cast'] = df['cast'].apply(lambda x: [i['name'] for i in eval(x)])\n\n# Remove the expty spaces and join all the cast with spaces\ndf['cast'] = df['cast'].apply(lambda x: ' '.join([i.replace(\" \",'') for i in x]))",
   "metadata": {
    "trusted": true,
    "execution": {
     "iopub.status.busy": "2025-05-23T04:30:51.997816Z",
     "iopub.execute_input": "2025-05-23T04:30:51.998373Z",
     "iopub.status.idle": "2025-05-23T04:30:56.127331Z",
     "shell.execute_reply.started": "2025-05-23T04:30:51.998352Z",
     "shell.execute_reply": "2025-05-23T04:30:56.126546Z"
    }
   },
   "outputs": [],
   "execution_count": 33
  },
  {
   "id": "ee398501-188d-40b0-b42c-6ede767c3bc4",
   "cell_type": "code",
   "source": "df.head()",
   "metadata": {
    "trusted": true,
    "execution": {
     "iopub.status.busy": "2025-05-23T04:31:00.065756Z",
     "iopub.execute_input": "2025-05-23T04:31:00.066332Z",
     "iopub.status.idle": "2025-05-23T04:31:00.074440Z",
     "shell.execute_reply.started": "2025-05-23T04:31:00.066310Z",
     "shell.execute_reply": "2025-05-23T04:31:00.073884Z"
    }
   },
   "outputs": [
    {
     "execution_count": 34,
     "output_type": "execute_result",
     "data": {
      "text/plain": "      id               original_title  \\\n0    862                    Toy Story   \n1   8844                      Jumanji   \n2  15602             Grumpier Old Men   \n3  11862  Father of the Bride Part II   \n4    949                         Heat   \n\n                                            overview  \\\n0  Led by Woody, Andy's toys live happily in his ...   \n1  When siblings Judy and Peter discover an encha...   \n2  A family wedding reignites the ancient feud be...   \n3  Just when George Banks has recovered from his ...   \n4  Obsessive master thief, Neil McCauley leads a ...   \n\n                        genres                        title  \\\n0      Animation Comedy Family                    Toy Story   \n1     Adventure Fantasy Family                      Jumanji   \n2               Romance Comedy             Grumpier Old Men   \n3                       Comedy  Father of the Bride Part II   \n4  Action Crime Drama Thriller                         Heat   \n\n                                            keywords  \\\n0  jealousy toy boy friendship friends rivalry bo...   \n1  boardgame disappearance basedonchildren'sbook ...   \n2     fishing bestfriend duringcreditsstinger oldmen   \n3  baby midlifecrisis confidence aging daughter m...   \n4  robbery detective bank obsession chase shootin...   \n\n                                                cast  \n0  TomHanks TimAllen DonRickles JimVarney Wallace...  \n1  RobinWilliams JonathanHyde KirstenDunst Bradle...  \n2  WalterMatthau JackLemmon Ann-Margret SophiaLor...  \n3  SteveMartin DianeKeaton MartinShort KimberlyWi...  \n4  AlPacino RobertDeNiro ValKilmer JonVoight TomS...  ",
      "text/html": "<div>\n<style scoped>\n    .dataframe tbody tr th:only-of-type {\n        vertical-align: middle;\n    }\n\n    .dataframe tbody tr th {\n        vertical-align: top;\n    }\n\n    .dataframe thead th {\n        text-align: right;\n    }\n</style>\n<table border=\"1\" class=\"dataframe\">\n  <thead>\n    <tr style=\"text-align: right;\">\n      <th></th>\n      <th>id</th>\n      <th>original_title</th>\n      <th>overview</th>\n      <th>genres</th>\n      <th>title</th>\n      <th>keywords</th>\n      <th>cast</th>\n    </tr>\n  </thead>\n  <tbody>\n    <tr>\n      <th>0</th>\n      <td>862</td>\n      <td>Toy Story</td>\n      <td>Led by Woody, Andy's toys live happily in his ...</td>\n      <td>Animation Comedy Family</td>\n      <td>Toy Story</td>\n      <td>jealousy toy boy friendship friends rivalry bo...</td>\n      <td>TomHanks TimAllen DonRickles JimVarney Wallace...</td>\n    </tr>\n    <tr>\n      <th>1</th>\n      <td>8844</td>\n      <td>Jumanji</td>\n      <td>When siblings Judy and Peter discover an encha...</td>\n      <td>Adventure Fantasy Family</td>\n      <td>Jumanji</td>\n      <td>boardgame disappearance basedonchildren'sbook ...</td>\n      <td>RobinWilliams JonathanHyde KirstenDunst Bradle...</td>\n    </tr>\n    <tr>\n      <th>2</th>\n      <td>15602</td>\n      <td>Grumpier Old Men</td>\n      <td>A family wedding reignites the ancient feud be...</td>\n      <td>Romance Comedy</td>\n      <td>Grumpier Old Men</td>\n      <td>fishing bestfriend duringcreditsstinger oldmen</td>\n      <td>WalterMatthau JackLemmon Ann-Margret SophiaLor...</td>\n    </tr>\n    <tr>\n      <th>3</th>\n      <td>11862</td>\n      <td>Father of the Bride Part II</td>\n      <td>Just when George Banks has recovered from his ...</td>\n      <td>Comedy</td>\n      <td>Father of the Bride Part II</td>\n      <td>baby midlifecrisis confidence aging daughter m...</td>\n      <td>SteveMartin DianeKeaton MartinShort KimberlyWi...</td>\n    </tr>\n    <tr>\n      <th>4</th>\n      <td>949</td>\n      <td>Heat</td>\n      <td>Obsessive master thief, Neil McCauley leads a ...</td>\n      <td>Action Crime Drama Thriller</td>\n      <td>Heat</td>\n      <td>robbery detective bank obsession chase shootin...</td>\n      <td>AlPacino RobertDeNiro ValKilmer JonVoight TomS...</td>\n    </tr>\n  </tbody>\n</table>\n</div>"
     },
     "metadata": {}
    }
   ],
   "execution_count": 34
  },
  {
   "id": "34b26637-74c5-408b-bd4b-f33ab76e67db",
   "cell_type": "code",
   "source": "df['tags'] = df['overview'] + ' ' + df['genres'] +  ' ' + df['original_title'] + ' ' + df['keywords'] + ' ' + df['cast']",
   "metadata": {
    "trusted": true,
    "execution": {
     "iopub.status.busy": "2025-05-23T04:34:00.729938Z",
     "iopub.execute_input": "2025-05-23T04:34:00.730282Z",
     "iopub.status.idle": "2025-05-23T04:34:00.776689Z",
     "shell.execute_reply.started": "2025-05-23T04:34:00.730259Z",
     "shell.execute_reply": "2025-05-23T04:34:00.776191Z"
    }
   },
   "outputs": [],
   "execution_count": 35
  },
  {
   "id": "45c321f6-862f-4435-aefe-9e2dc379f707",
   "cell_type": "code",
   "source": "# Delete useless columns\ndf.drop(columns=['genres','overview','original_title','keywords','cast'], inplace=True)",
   "metadata": {
    "trusted": true,
    "execution": {
     "iopub.status.busy": "2025-05-23T04:34:02.225369Z",
     "iopub.execute_input": "2025-05-23T04:34:02.225624Z",
     "iopub.status.idle": "2025-05-23T04:34:02.230981Z",
     "shell.execute_reply.started": "2025-05-23T04:34:02.225604Z",
     "shell.execute_reply": "2025-05-23T04:34:02.230369Z"
    }
   },
   "outputs": [],
   "execution_count": 36
  },
  {
   "id": "3ba53c5f-e7a5-46aa-aaa1-5de2707c62ce",
   "cell_type": "code",
   "source": "df.head()",
   "metadata": {
    "trusted": true,
    "execution": {
     "iopub.status.busy": "2025-05-23T04:34:03.377513Z",
     "iopub.execute_input": "2025-05-23T04:34:03.378030Z",
     "iopub.status.idle": "2025-05-23T04:34:03.385346Z",
     "shell.execute_reply.started": "2025-05-23T04:34:03.378010Z",
     "shell.execute_reply": "2025-05-23T04:34:03.384787Z"
    }
   },
   "outputs": [
    {
     "execution_count": 37,
     "output_type": "execute_result",
     "data": {
      "text/plain": "      id                        title  \\\n0    862                    Toy Story   \n1   8844                      Jumanji   \n2  15602             Grumpier Old Men   \n3  11862  Father of the Bride Part II   \n4    949                         Heat   \n\n                                                tags  \n0  Led by Woody, Andy's toys live happily in his ...  \n1  When siblings Judy and Peter discover an encha...  \n2  A family wedding reignites the ancient feud be...  \n3  Just when George Banks has recovered from his ...  \n4  Obsessive master thief, Neil McCauley leads a ...  ",
      "text/html": "<div>\n<style scoped>\n    .dataframe tbody tr th:only-of-type {\n        vertical-align: middle;\n    }\n\n    .dataframe tbody tr th {\n        vertical-align: top;\n    }\n\n    .dataframe thead th {\n        text-align: right;\n    }\n</style>\n<table border=\"1\" class=\"dataframe\">\n  <thead>\n    <tr style=\"text-align: right;\">\n      <th></th>\n      <th>id</th>\n      <th>title</th>\n      <th>tags</th>\n    </tr>\n  </thead>\n  <tbody>\n    <tr>\n      <th>0</th>\n      <td>862</td>\n      <td>Toy Story</td>\n      <td>Led by Woody, Andy's toys live happily in his ...</td>\n    </tr>\n    <tr>\n      <th>1</th>\n      <td>8844</td>\n      <td>Jumanji</td>\n      <td>When siblings Judy and Peter discover an encha...</td>\n    </tr>\n    <tr>\n      <th>2</th>\n      <td>15602</td>\n      <td>Grumpier Old Men</td>\n      <td>A family wedding reignites the ancient feud be...</td>\n    </tr>\n    <tr>\n      <th>3</th>\n      <td>11862</td>\n      <td>Father of the Bride Part II</td>\n      <td>Just when George Banks has recovered from his ...</td>\n    </tr>\n    <tr>\n      <th>4</th>\n      <td>949</td>\n      <td>Heat</td>\n      <td>Obsessive master thief, Neil McCauley leads a ...</td>\n    </tr>\n  </tbody>\n</table>\n</div>"
     },
     "metadata": {}
    }
   ],
   "execution_count": 37
  },
  {
   "id": "92c07c85-1c4f-43d4-abb5-ec17ab963334",
   "cell_type": "code",
   "source": "df.isnull().sum()",
   "metadata": {
    "trusted": true,
    "execution": {
     "iopub.status.busy": "2025-05-23T04:34:05.157350Z",
     "iopub.execute_input": "2025-05-23T04:34:05.157867Z",
     "iopub.status.idle": "2025-05-23T04:34:05.165509Z",
     "shell.execute_reply.started": "2025-05-23T04:34:05.157843Z",
     "shell.execute_reply": "2025-05-23T04:34:05.164868Z"
    }
   },
   "outputs": [
    {
     "execution_count": 38,
     "output_type": "execute_result",
     "data": {
      "text/plain": "id        0\ntitle     0\ntags     37\ndtype: int64"
     },
     "metadata": {}
    }
   ],
   "execution_count": 38
  },
  {
   "id": "df5c872b-a5db-42f2-9ad0-94b6cce8cf83",
   "cell_type": "code",
   "source": "df.drop(df[df['tags'].isnull()].index, inplace=True)",
   "metadata": {
    "trusted": true,
    "execution": {
     "iopub.status.busy": "2025-05-23T04:34:06.719626Z",
     "iopub.execute_input": "2025-05-23T04:34:06.720211Z",
     "iopub.status.idle": "2025-05-23T04:34:06.727199Z",
     "shell.execute_reply.started": "2025-05-23T04:34:06.720184Z",
     "shell.execute_reply": "2025-05-23T04:34:06.726677Z"
    }
   },
   "outputs": [],
   "execution_count": 39
  },
  {
   "id": "9a999da9-0a17-4996-8abe-f6398b1a9666",
   "cell_type": "code",
   "source": "df.head()",
   "metadata": {
    "trusted": true,
    "execution": {
     "iopub.status.busy": "2025-05-23T04:34:18.198120Z",
     "iopub.execute_input": "2025-05-23T04:34:18.198639Z",
     "iopub.status.idle": "2025-05-23T04:34:18.205535Z",
     "shell.execute_reply.started": "2025-05-23T04:34:18.198620Z",
     "shell.execute_reply": "2025-05-23T04:34:18.205009Z"
    }
   },
   "outputs": [
    {
     "execution_count": 40,
     "output_type": "execute_result",
     "data": {
      "text/plain": "      id                        title  \\\n0    862                    Toy Story   \n1   8844                      Jumanji   \n2  15602             Grumpier Old Men   \n3  11862  Father of the Bride Part II   \n4    949                         Heat   \n\n                                                tags  \n0  Led by Woody, Andy's toys live happily in his ...  \n1  When siblings Judy and Peter discover an encha...  \n2  A family wedding reignites the ancient feud be...  \n3  Just when George Banks has recovered from his ...  \n4  Obsessive master thief, Neil McCauley leads a ...  ",
      "text/html": "<div>\n<style scoped>\n    .dataframe tbody tr th:only-of-type {\n        vertical-align: middle;\n    }\n\n    .dataframe tbody tr th {\n        vertical-align: top;\n    }\n\n    .dataframe thead th {\n        text-align: right;\n    }\n</style>\n<table border=\"1\" class=\"dataframe\">\n  <thead>\n    <tr style=\"text-align: right;\">\n      <th></th>\n      <th>id</th>\n      <th>title</th>\n      <th>tags</th>\n    </tr>\n  </thead>\n  <tbody>\n    <tr>\n      <th>0</th>\n      <td>862</td>\n      <td>Toy Story</td>\n      <td>Led by Woody, Andy's toys live happily in his ...</td>\n    </tr>\n    <tr>\n      <th>1</th>\n      <td>8844</td>\n      <td>Jumanji</td>\n      <td>When siblings Judy and Peter discover an encha...</td>\n    </tr>\n    <tr>\n      <th>2</th>\n      <td>15602</td>\n      <td>Grumpier Old Men</td>\n      <td>A family wedding reignites the ancient feud be...</td>\n    </tr>\n    <tr>\n      <th>3</th>\n      <td>11862</td>\n      <td>Father of the Bride Part II</td>\n      <td>Just when George Banks has recovered from his ...</td>\n    </tr>\n    <tr>\n      <th>4</th>\n      <td>949</td>\n      <td>Heat</td>\n      <td>Obsessive master thief, Neil McCauley leads a ...</td>\n    </tr>\n  </tbody>\n</table>\n</div>"
     },
     "metadata": {}
    }
   ],
   "execution_count": 40
  },
  {
   "id": "a820b27c-824a-4f0a-80a7-14fefac3f1de",
   "cell_type": "code",
   "source": "df.shape",
   "metadata": {
    "trusted": true,
    "execution": {
     "iopub.status.busy": "2025-05-23T04:34:19.955728Z",
     "iopub.execute_input": "2025-05-23T04:34:19.956243Z",
     "iopub.status.idle": "2025-05-23T04:34:19.960639Z",
     "shell.execute_reply.started": "2025-05-23T04:34:19.956220Z",
     "shell.execute_reply": "2025-05-23T04:34:19.960104Z"
    }
   },
   "outputs": [
    {
     "execution_count": 41,
     "output_type": "execute_result",
     "data": {
      "text/plain": "(9150, 3)"
     },
     "metadata": {}
    }
   ],
   "execution_count": 41
  },
  {
   "id": "8124c31e-76e1-492e-86b1-d64518d1a824",
   "cell_type": "code",
   "source": "df.drop_duplicates(inplace=True)",
   "metadata": {
    "trusted": true,
    "execution": {
     "iopub.status.busy": "2025-05-23T04:34:23.303653Z",
     "iopub.execute_input": "2025-05-23T04:34:23.303951Z",
     "iopub.status.idle": "2025-05-23T04:34:23.327107Z",
     "shell.execute_reply.started": "2025-05-23T04:34:23.303931Z",
     "shell.execute_reply": "2025-05-23T04:34:23.326400Z"
    }
   },
   "outputs": [],
   "execution_count": 43
  },
  {
   "id": "3c6310db-3ccc-42b2-a6e0-c97525c02602",
   "cell_type": "code",
   "source": "df.shape",
   "metadata": {
    "trusted": true,
    "execution": {
     "iopub.status.busy": "2025-05-23T04:34:24.447519Z",
     "iopub.execute_input": "2025-05-23T04:34:24.447781Z",
     "iopub.status.idle": "2025-05-23T04:34:24.452440Z",
     "shell.execute_reply.started": "2025-05-23T04:34:24.447755Z",
     "shell.execute_reply": "2025-05-23T04:34:24.451860Z"
    }
   },
   "outputs": [
    {
     "execution_count": 44,
     "output_type": "execute_result",
     "data": {
      "text/plain": "(9005, 3)"
     },
     "metadata": {}
    }
   ],
   "execution_count": 44
  },
  {
   "id": "5019a9b5-c8b3-4329-bc53-4d984dad0cc7",
   "cell_type": "code",
   "source": "# Initialize a tfidf object\ntfidf = TfidfVectorizer(max_features=5000)\n\n# Transform the data\nvectorized_data = tfidf.fit_transform(df['tags'].values)",
   "metadata": {
    "trusted": true,
    "execution": {
     "iopub.status.busy": "2025-05-23T04:34:26.850055Z",
     "iopub.execute_input": "2025-05-23T04:34:26.850527Z",
     "iopub.status.idle": "2025-05-23T04:34:27.736507Z",
     "shell.execute_reply.started": "2025-05-23T04:34:26.850505Z",
     "shell.execute_reply": "2025-05-23T04:34:27.735992Z"
    }
   },
   "outputs": [],
   "execution_count": 45
  },
  {
   "id": "ef4dcf59-10ec-40d1-9bc1-1857e51342dd",
   "cell_type": "code",
   "source": "vectorized_data",
   "metadata": {
    "trusted": true,
    "execution": {
     "iopub.status.busy": "2025-05-23T04:34:29.914915Z",
     "iopub.execute_input": "2025-05-23T04:34:29.915398Z",
     "iopub.status.idle": "2025-05-23T04:34:29.919807Z",
     "shell.execute_reply.started": "2025-05-23T04:34:29.915374Z",
     "shell.execute_reply": "2025-05-23T04:34:29.919233Z"
    }
   },
   "outputs": [
    {
     "execution_count": 46,
     "output_type": "execute_result",
     "data": {
      "text/plain": "<Compressed Sparse Row sparse matrix of dtype 'float64'\n\twith 392422 stored elements and shape (9005, 5000)>"
     },
     "metadata": {}
    }
   ],
   "execution_count": 46
  },
  {
   "id": "3e85455f-8c9f-4ce6-8240-a91a9509dcd1",
   "cell_type": "code",
   "source": "vectorized_dataframe = pd.DataFrame(vectorized_data.toarray(), index=df['tags'].index.tolist())",
   "metadata": {
    "trusted": true,
    "execution": {
     "iopub.status.busy": "2025-05-23T04:34:32.169005Z",
     "iopub.execute_input": "2025-05-23T04:34:32.169285Z",
     "iopub.status.idle": "2025-05-23T04:34:32.651036Z",
     "shell.execute_reply.started": "2025-05-23T04:34:32.169262Z",
     "shell.execute_reply": "2025-05-23T04:34:32.650437Z"
    }
   },
   "outputs": [],
   "execution_count": 47
  },
  {
   "id": "3e689a58-0d79-463c-a1b8-32723b8ac870",
   "cell_type": "code",
   "source": "from sklearn.decomposition import TruncatedSVD\n\n# Initialize a PCA object\nsvd = TruncatedSVD(n_components=3000)\n\n# Fit transform the data\nreduced_data = svd.fit_transform(vectorized_dataframe)\n\n# Print the shape\nreduced_data.shape",
   "metadata": {
    "trusted": true,
    "execution": {
     "iopub.status.busy": "2025-05-23T04:34:34.466871Z",
     "iopub.execute_input": "2025-05-23T04:34:34.467406Z",
     "iopub.status.idle": "2025-05-23T04:35:30.719357Z",
     "shell.execute_reply.started": "2025-05-23T04:34:34.467385Z",
     "shell.execute_reply": "2025-05-23T04:35:30.718710Z"
    }
   },
   "outputs": [
    {
     "execution_count": 48,
     "output_type": "execute_result",
     "data": {
      "text/plain": "(9005, 3000)"
     },
     "metadata": {}
    }
   ],
   "execution_count": 48
  },
  {
   "id": "39b235e7-7b26-4311-8ccc-c339505e93ec",
   "cell_type": "code",
   "source": "svd.explained_variance_ratio_.cumsum()",
   "metadata": {
    "trusted": true,
    "execution": {
     "iopub.status.busy": "2025-05-23T04:35:35.409195Z",
     "iopub.execute_input": "2025-05-23T04:35:35.409883Z",
     "iopub.status.idle": "2025-05-23T04:35:35.414871Z",
     "shell.execute_reply.started": "2025-05-23T04:35:35.409851Z",
     "shell.execute_reply": "2025-05-23T04:35:35.414257Z"
    }
   },
   "outputs": [
    {
     "execution_count": 49,
     "output_type": "execute_result",
     "data": {
      "text/plain": "array([0.00474059, 0.0116974 , 0.01738288, ..., 0.91885673, 0.91893071,\n       0.91900466])"
     },
     "metadata": {}
    }
   ],
   "execution_count": 49
  },
  {
   "id": "1c1240c1-9854-4ed8-944f-be61c1334dd3",
   "cell_type": "code",
   "source": "from sklearn.metrics.pairwise import cosine_similarity\nsimilarity = cosine_similarity(reduced_data)",
   "metadata": {
    "trusted": true,
    "execution": {
     "iopub.status.busy": "2025-05-23T04:35:37.757965Z",
     "iopub.execute_input": "2025-05-23T04:35:37.758456Z",
     "iopub.status.idle": "2025-05-23T04:35:39.936156Z",
     "shell.execute_reply.started": "2025-05-23T04:35:37.758437Z",
     "shell.execute_reply": "2025-05-23T04:35:39.935594Z"
    }
   },
   "outputs": [],
   "execution_count": 50
  },
  {
   "id": "9337148c-5d14-4290-b99d-b421da39b5c8",
   "cell_type": "code",
   "source": "def recommendation(movie_title):\n    id_of_movie = df[df['title']==movie_title].index[0]\n    distances = similarity[id_of_movie]\n    movie_list = sorted(list(enumerate(distances)), reverse=True, key=lambda x:x[1])[1:10]\n    \n    for i in movie_list:\n        print(df.iloc[i[0]].title)",
   "metadata": {
    "trusted": true,
    "execution": {
     "iopub.status.busy": "2025-05-23T04:35:41.779923Z",
     "iopub.execute_input": "2025-05-23T04:35:41.780174Z",
     "iopub.status.idle": "2025-05-23T04:35:41.784468Z",
     "shell.execute_reply.started": "2025-05-23T04:35:41.780158Z",
     "shell.execute_reply": "2025-05-23T04:35:41.783889Z"
    }
   },
   "outputs": [],
   "execution_count": 51
  },
  {
   "id": "08f207b4-6a14-4837-ab94-a00f2fb3de90",
   "cell_type": "code",
   "source": "recommendation('The Matrix')",
   "metadata": {
    "trusted": true,
    "execution": {
     "iopub.status.busy": "2025-05-23T04:35:43.794728Z",
     "iopub.execute_input": "2025-05-23T04:35:43.795384Z",
     "iopub.status.idle": "2025-05-23T04:35:43.808103Z",
     "shell.execute_reply.started": "2025-05-23T04:35:43.795362Z",
     "shell.execute_reply": "2025-05-23T04:35:43.807455Z"
    }
   },
   "outputs": [
    {
     "name": "stdout",
     "text": "The Matrix Revisited\nThe Matrix Revolutions\nThe Matrix Reloaded\nThe Animatrix\nCommando\nHackers\nTerminator 3: Rise of the Machines\nGHOST IN THE SHELL\nTron\n",
     "output_type": "stream"
    }
   ],
   "execution_count": 52
  },
  {
   "id": "60278af2ccf7516e",
   "cell_type": "code",
   "source": "user_NN = Sequential([\n    layers.Input(shape = num_user_features),\n    Dense(256, activation='relu'),\n    Dense(128, activation='relu'),\n    Dense(32)\n])\n\nitem_NN = Sequential([\n    layers.Input(shape= num_item_features),\n    Dense(256, activation='relu'),\n    Dense(128, activation='relu'),\n    Dense(32)\n])\n\nvu = user_NN(input_user)\nvu = tf.linalg.l2_normalize(vu, axis=1)\n\nvm = item_NN(input_item)\nvm = tf.linalg.l2_normalize(vm, axis=1)\n\noutput = layers.Dot(axes=1)([vu, vm])\n\nmodel = Model([input_user, input_item], output)\n\ncost_fn = keras.losses.MeanSquaredError()",
   "metadata": {
    "trusted": true,
    "execution": {
     "iopub.status.busy": "2025-05-23T03:26:48.074679Z",
     "iopub.execute_input": "2025-05-23T03:26:48.074980Z",
     "iopub.status.idle": "2025-05-23T03:26:48.091568Z",
     "shell.execute_reply.started": "2025-05-23T03:26:48.074953Z",
     "shell.execute_reply": "2025-05-23T03:26:48.090641Z"
    }
   },
   "outputs": [
    {
     "traceback": [
      "\u001B[0;31m---------------------------------------------------------------------------\u001B[0m",
      "\u001B[0;31mNameError\u001B[0m                                 Traceback (most recent call last)",
      "\u001B[0;32m/tmp/ipykernel_35/1941592690.py\u001B[0m in \u001B[0;36m<cell line: 0>\u001B[0;34m()\u001B[0m\n\u001B[1;32m      1\u001B[0m user_NN = Sequential([\n\u001B[0;32m----> 2\u001B[0;31m     \u001B[0mlayers\u001B[0m\u001B[0;34m.\u001B[0m\u001B[0mInput\u001B[0m\u001B[0;34m(\u001B[0m\u001B[0mshape\u001B[0m \u001B[0;34m=\u001B[0m \u001B[0mnum_user_features\u001B[0m\u001B[0;34m)\u001B[0m\u001B[0;34m,\u001B[0m\u001B[0;34m\u001B[0m\u001B[0;34m\u001B[0m\u001B[0m\n\u001B[0m\u001B[1;32m      3\u001B[0m     \u001B[0mDense\u001B[0m\u001B[0;34m(\u001B[0m\u001B[0;36m256\u001B[0m\u001B[0;34m,\u001B[0m \u001B[0mactivation\u001B[0m\u001B[0;34m=\u001B[0m\u001B[0;34m'relu'\u001B[0m\u001B[0;34m)\u001B[0m\u001B[0;34m,\u001B[0m\u001B[0;34m\u001B[0m\u001B[0;34m\u001B[0m\u001B[0m\n\u001B[1;32m      4\u001B[0m     \u001B[0mDense\u001B[0m\u001B[0;34m(\u001B[0m\u001B[0;36m128\u001B[0m\u001B[0;34m,\u001B[0m \u001B[0mactivation\u001B[0m\u001B[0;34m=\u001B[0m\u001B[0;34m'relu'\u001B[0m\u001B[0;34m)\u001B[0m\u001B[0;34m,\u001B[0m\u001B[0;34m\u001B[0m\u001B[0;34m\u001B[0m\u001B[0m\n\u001B[1;32m      5\u001B[0m     \u001B[0mDense\u001B[0m\u001B[0;34m(\u001B[0m\u001B[0;36m32\u001B[0m\u001B[0;34m)\u001B[0m\u001B[0;34m\u001B[0m\u001B[0;34m\u001B[0m\u001B[0m\n",
      "\u001B[0;31mNameError\u001B[0m: name 'num_user_features' is not defined"
     ],
     "ename": "NameError",
     "evalue": "name 'num_user_features' is not defined",
     "output_type": "error"
    }
   ],
   "execution_count": 9
  },
  {
   "id": "f551d1de90f68a39",
   "cell_type": "markdown",
   "source": "# Training",
   "metadata": {}
  },
  {
   "id": "d2f569eafc449a27",
   "cell_type": "code",
   "source": "",
   "metadata": {
    "trusted": true
   },
   "outputs": [],
   "execution_count": null
  },
  {
   "id": "9407112deceb3f95",
   "cell_type": "markdown",
   "source": "# Testing",
   "metadata": {}
  },
  {
   "id": "489e4b25bc2fda7",
   "cell_type": "code",
   "source": "",
   "metadata": {
    "trusted": true
   },
   "outputs": [],
   "execution_count": null
  }
 ]
}
