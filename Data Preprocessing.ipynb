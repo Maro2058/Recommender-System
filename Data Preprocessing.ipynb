{
 "cells": [
  {
   "cell_type": "code",
   "id": "initial_id",
   "metadata": {
    "collapsed": true,
    "ExecuteTime": {
     "end_time": "2025-05-22T13:03:00.107365Z",
     "start_time": "2025-05-22T13:03:00.103342Z"
    }
   },
   "source": [
    "from kaggle.api.kaggle_api_extended import KaggleApi\n",
    "import zipfile\n",
    "import os"
   ],
   "outputs": [],
   "execution_count": 4
  },
  {
   "metadata": {},
   "cell_type": "markdown",
   "source": [
    "1. Get your kaggle.json file:\n",
    "- Go to https://www.kaggle.com/account where account is ur account name\n",
    "- Scroll to the API section\n",
    "- Click Create New API Token\n",
    "- This downloads kaggle.json to your computer (usually in Downloads folder)\n",
    "\n",
    "\n",
    "2. Put kaggle.json in the right folder\n",
    "- Move the file to this folder:\n",
    "    C:\\Users\\Morad Elshorbagy\\\\.kaggle\\\n",
    "\n",
    "If the .kaggle folder doesn’t exist, create it manually"
   ],
   "id": "fe131ba937477bb4"
  },
  {
   "metadata": {
    "ExecuteTime": {
     "end_time": "2025-05-22T15:13:10.693724Z",
     "start_time": "2025-05-22T15:10:19.655280Z"
    }
   },
   "cell_type": "code",
   "source": [
    "# No need to run this code block again!\n",
    "\n",
    "api = KaggleApi()\n",
    "api.authenticate()\n",
    "\n",
    "# Download the ZIP file to current directory (no unzip)\n",
    "api.dataset_download_files('rounakbanik/the-movies-dataset', path='.', unzip=False)\n",
    "\n",
    "# Create a folder 'data' if it doesn't exist\n",
    "output_folder = 'Data'\n",
    "os.makedirs(output_folder, exist_ok=True)\n",
    "\n",
    "# Extract only the files you want into 'data' folder\n",
    "with zipfile.ZipFile('the-movies-dataset.zip', 'r') as zip_ref:\n",
    "    zip_ref.extract('ratings.csv', path=output_folder)\n",
    "    zip_ref.extract('movies_metadata.csv', path=output_folder)\n",
    "\n",
    "print(f\"Files extracted to '{output_folder}/'\")\n"
   ],
   "id": "43f182751c243340",
   "outputs": [
    {
     "name": "stdout",
     "output_type": "stream",
     "text": [
      "Dataset URL: https://www.kaggle.com/datasets/rounakbanik/the-movies-dataset\n",
      "Files extracted to 'Daat/'\n"
     ]
    }
   ],
   "execution_count": 7
  },
  {
   "metadata": {},
   "cell_type": "code",
   "outputs": [],
   "execution_count": null,
   "source": "",
   "id": "74c72c26997cc600"
  }
 ],
 "metadata": {
  "kernelspec": {
   "display_name": "Python 3",
   "language": "python",
   "name": "python3"
  },
  "language_info": {
   "codemirror_mode": {
    "name": "ipython",
    "version": 2
   },
   "file_extension": ".py",
   "mimetype": "text/x-python",
   "name": "python",
   "nbconvert_exporter": "python",
   "pygments_lexer": "ipython2",
   "version": "2.7.6"
  }
 },
 "nbformat": 4,
 "nbformat_minor": 5
}
